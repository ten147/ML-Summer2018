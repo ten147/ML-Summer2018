{
 "cells": [
  {
   "cell_type": "markdown",
   "metadata": {},
   "source": [
    "# Machine Learning Project\n",
    "#### Kaggle | House Prices\n",
    "\n",
    "Xiang Chen, Justin Pavis, Jeevanandhan Ramamoorthy, Justin Soniat\n",
    "\n",
    "Data available: https://www.kaggle.com/c/house-prices-advanced-regression-techniques\n",
    "\n",
    "## Imports"
   ]
  },
  {
   "cell_type": "code",
   "execution_count": 1,
   "metadata": {},
   "outputs": [
    {
     "name": "stderr",
     "output_type": "stream",
     "text": [
      "/home/ec2-user/anaconda3/lib/python3.6/site-packages/ggplot/utils.py:81: FutureWarning: pandas.tslib is deprecated and will be removed in a future version.\n",
      "You can access Timestamp as pandas.Timestamp\n",
      "  pd.tslib.Timestamp,\n",
      "/home/ec2-user/anaconda3/lib/python3.6/site-packages/ggplot/stats/smoothers.py:4: FutureWarning: The pandas.lib module is deprecated and will be removed in a future version. These are private functions and can be accessed from pandas._libs.lib instead\n",
      "  from pandas.lib import Timestamp\n",
      "/home/ec2-user/anaconda3/lib/python3.6/site-packages/statsmodels/compat/pandas.py:56: FutureWarning: The pandas.core.datetools module is deprecated and will be removed in a future version. Please use the pandas.tseries module instead.\n",
      "  from pandas.core import datetools\n"
     ]
    }
   ],
   "source": [
    "import h2o\n",
    "from h2o.estimators.glm import H2OGeneralizedLinearEstimator\n",
    "import matplotlib\n",
    "import matplotlib.pyplot as plt\n",
    "import seaborn as sns\n",
    "import pandas as pd\n",
    "import matplotlib.pyplot as plt\n",
    "from ggplot import *\n",
    "from h2o.estimators.deeplearning import H2ODeepLearningEstimator\n",
    "from h2o.grid.grid_search import H2OGridSearch\n",
    "import numpy as np\n",
    "import warnings\n",
    "warnings.filterwarnings(\"ignore\")\n",
    "%matplotlib inline"
   ]
  },
  {
   "cell_type": "code",
   "execution_count": 2,
   "metadata": {},
   "outputs": [
    {
     "name": "stdout",
     "output_type": "stream",
     "text": [
      "Checking whether there is an H2O instance running at http://localhost:54321..... not found.\n",
      "Attempting to start a local H2O server...\n",
      "  Java Version: java version \"1.7.0_181\"; OpenJDK Runtime Environment (amzn-2.6.14.8.80.amzn1-x86_64 u181-b00); OpenJDK 64-Bit Server VM (build 24.181-b00, mixed mode)\n",
      "  Starting server from /home/ec2-user/anaconda3/lib/python3.6/site-packages/h2o/backend/bin/h2o.jar\n",
      "  Ice root: /tmp/tmp5vpwz_ql\n",
      "  JVM stdout: /tmp/tmp5vpwz_ql/h2o_ec2_user_started_from_python.out\n",
      "  JVM stderr: /tmp/tmp5vpwz_ql/h2o_ec2_user_started_from_python.err\n",
      "  Server is running at http://127.0.0.1:54321\n",
      "Connecting to H2O server at http://127.0.0.1:54321... successful.\n"
     ]
    },
    {
     "data": {
      "text/html": [
       "<div style=\"overflow:auto\"><table style=\"width:50%\"><tr><td>H2O cluster uptime:</td>\n",
       "<td>02 secs</td></tr>\n",
       "<tr><td>H2O cluster timezone:</td>\n",
       "<td>UTC</td></tr>\n",
       "<tr><td>H2O data parsing timezone:</td>\n",
       "<td>UTC</td></tr>\n",
       "<tr><td>H2O cluster version:</td>\n",
       "<td>3.18.0.11</td></tr>\n",
       "<tr><td>H2O cluster version age:</td>\n",
       "<td>1 month and 5 days </td></tr>\n",
       "<tr><td>H2O cluster name:</td>\n",
       "<td>H2O_from_python_ec2_user_erpgkt</td></tr>\n",
       "<tr><td>H2O cluster total nodes:</td>\n",
       "<td>1</td></tr>\n",
       "<tr><td>H2O cluster free memory:</td>\n",
       "<td>3.483 Gb</td></tr>\n",
       "<tr><td>H2O cluster total cores:</td>\n",
       "<td>4</td></tr>\n",
       "<tr><td>H2O cluster allowed cores:</td>\n",
       "<td>4</td></tr>\n",
       "<tr><td>H2O cluster status:</td>\n",
       "<td>accepting new members, healthy</td></tr>\n",
       "<tr><td>H2O connection url:</td>\n",
       "<td>http://127.0.0.1:54321</td></tr>\n",
       "<tr><td>H2O connection proxy:</td>\n",
       "<td>None</td></tr>\n",
       "<tr><td>H2O internal security:</td>\n",
       "<td>False</td></tr>\n",
       "<tr><td>H2O API Extensions:</td>\n",
       "<td>AutoML, XGBoost, Algos, Core V3, Core V4</td></tr>\n",
       "<tr><td>Python version:</td>\n",
       "<td>3.6.1 final</td></tr></table></div>"
      ],
      "text/plain": [
       "--------------------------  ----------------------------------------\n",
       "H2O cluster uptime:         02 secs\n",
       "H2O cluster timezone:       UTC\n",
       "H2O data parsing timezone:  UTC\n",
       "H2O cluster version:        3.18.0.11\n",
       "H2O cluster version age:    1 month and 5 days\n",
       "H2O cluster name:           H2O_from_python_ec2_user_erpgkt\n",
       "H2O cluster total nodes:    1\n",
       "H2O cluster free memory:    3.483 Gb\n",
       "H2O cluster total cores:    4\n",
       "H2O cluster allowed cores:  4\n",
       "H2O cluster status:         accepting new members, healthy\n",
       "H2O connection url:         http://127.0.0.1:54321\n",
       "H2O connection proxy:\n",
       "H2O internal security:      False\n",
       "H2O API Extensions:         AutoML, XGBoost, Algos, Core V3, Core V4\n",
       "Python version:             3.6.1 final\n",
       "--------------------------  ----------------------------------------"
      ]
     },
     "metadata": {},
     "output_type": "display_data"
    }
   ],
   "source": [
    "h2o.init()"
   ]
  },
  {
   "cell_type": "markdown",
   "metadata": {},
   "source": [
    "## Load the Data"
   ]
  },
  {
   "cell_type": "code",
   "execution_count": 3,
   "metadata": {
    "scrolled": false
   },
   "outputs": [
    {
     "name": "stdout",
     "output_type": "stream",
     "text": [
      "Parse progress: |█████████████████████████████████████████████████████████| 100%\n",
      "Parse progress: |█████████████████████████████████████████████████████████| 100%\n"
     ]
    }
   ],
   "source": [
    "# Load the training and test dataset as H2O frames\n",
    "train=h2o.import_file(\"train.csv\")\n",
    "test=h2o.import_file(\"test.csv\")"
   ]
  },
  {
   "cell_type": "code",
   "execution_count": 4,
   "metadata": {},
   "outputs": [
    {
     "name": "stdout",
     "output_type": "stream",
     "text": [
      "(1460, 81)\n",
      "(1459, 80)\n"
     ]
    }
   ],
   "source": [
    "print(train.shape)\n",
    "print(test.shape)"
   ]
  },
  {
   "cell_type": "code",
   "execution_count": 5,
   "metadata": {
    "scrolled": false
   },
   "outputs": [
    {
     "data": {
      "text/html": [
       "<table>\n",
       "<thead>\n",
       "<tr><th style=\"text-align: right;\">  Id</th><th style=\"text-align: right;\">  MSSubClass</th><th>MSZoning  </th><th style=\"text-align: right;\">  LotFrontage</th><th style=\"text-align: right;\">  LotArea</th><th>Street  </th><th>Alley  </th><th>LotShape  </th><th>LandContour  </th><th>Utilities  </th><th>LotConfig  </th><th>LandSlope  </th><th>Neighborhood  </th><th>Condition1  </th><th>Condition2  </th><th>BldgType  </th><th>HouseStyle  </th><th style=\"text-align: right;\">  OverallQual</th><th style=\"text-align: right;\">  OverallCond</th><th style=\"text-align: right;\">  YearBuilt</th><th style=\"text-align: right;\">  YearRemodAdd</th><th>RoofStyle  </th><th>RoofMatl  </th><th>Exterior1st  </th><th>Exterior2nd  </th><th>MasVnrType  </th><th style=\"text-align: right;\">  MasVnrArea</th><th>ExterQual  </th><th>ExterCond  </th><th>Foundation  </th><th>BsmtQual  </th><th>BsmtCond  </th><th>BsmtExposure  </th><th>BsmtFinType1  </th><th style=\"text-align: right;\">  BsmtFinSF1</th><th>BsmtFinType2  </th><th style=\"text-align: right;\">  BsmtFinSF2</th><th style=\"text-align: right;\">  BsmtUnfSF</th><th style=\"text-align: right;\">  TotalBsmtSF</th><th>Heating  </th><th>HeatingQC  </th><th>CentralAir  </th><th>Electrical  </th><th style=\"text-align: right;\">  1stFlrSF</th><th style=\"text-align: right;\">  2ndFlrSF</th><th style=\"text-align: right;\">  LowQualFinSF</th><th style=\"text-align: right;\">  GrLivArea</th><th style=\"text-align: right;\">  BsmtFullBath</th><th style=\"text-align: right;\">  BsmtHalfBath</th><th style=\"text-align: right;\">  FullBath</th><th style=\"text-align: right;\">  HalfBath</th><th style=\"text-align: right;\">  BedroomAbvGr</th><th style=\"text-align: right;\">  KitchenAbvGr</th><th>KitchenQual  </th><th style=\"text-align: right;\">  TotRmsAbvGrd</th><th>Functional  </th><th style=\"text-align: right;\">  Fireplaces</th><th>FireplaceQu  </th><th>GarageType  </th><th style=\"text-align: right;\">  GarageYrBlt</th><th>GarageFinish  </th><th style=\"text-align: right;\">  GarageCars</th><th style=\"text-align: right;\">  GarageArea</th><th>GarageQual  </th><th>GarageCond  </th><th>PavedDrive  </th><th style=\"text-align: right;\">  WoodDeckSF</th><th style=\"text-align: right;\">  OpenPorchSF</th><th style=\"text-align: right;\">  EnclosedPorch</th><th style=\"text-align: right;\">  3SsnPorch</th><th style=\"text-align: right;\">  ScreenPorch</th><th style=\"text-align: right;\">  PoolArea</th><th>PoolQC  </th><th>Fence  </th><th>MiscFeature  </th><th style=\"text-align: right;\">  MiscVal</th><th style=\"text-align: right;\">  MoSold</th><th style=\"text-align: right;\">  YrSold</th><th>SaleType  </th><th>SaleCondition  </th><th style=\"text-align: right;\">  SalePrice</th></tr>\n",
       "</thead>\n",
       "<tbody>\n",
       "<tr><td style=\"text-align: right;\">   1</td><td style=\"text-align: right;\">          60</td><td>RL        </td><td style=\"text-align: right;\">           65</td><td style=\"text-align: right;\">     8450</td><td>Pave    </td><td>NA     </td><td>Reg       </td><td>Lvl          </td><td>AllPub     </td><td>Inside     </td><td>Gtl        </td><td>CollgCr       </td><td>Norm        </td><td>Norm        </td><td>1Fam      </td><td>2Story      </td><td style=\"text-align: right;\">            7</td><td style=\"text-align: right;\">            5</td><td style=\"text-align: right;\">       2003</td><td style=\"text-align: right;\">          2003</td><td>Gable      </td><td>CompShg   </td><td>VinylSd      </td><td>VinylSd      </td><td>BrkFace     </td><td style=\"text-align: right;\">         196</td><td>Gd         </td><td>TA         </td><td>PConc       </td><td>Gd        </td><td>TA        </td><td>No            </td><td>GLQ           </td><td style=\"text-align: right;\">         706</td><td>Unf           </td><td style=\"text-align: right;\">           0</td><td style=\"text-align: right;\">        150</td><td style=\"text-align: right;\">          856</td><td>GasA     </td><td>Ex         </td><td>Y           </td><td>SBrkr       </td><td style=\"text-align: right;\">       856</td><td style=\"text-align: right;\">       854</td><td style=\"text-align: right;\">             0</td><td style=\"text-align: right;\">       1710</td><td style=\"text-align: right;\">             1</td><td style=\"text-align: right;\">             0</td><td style=\"text-align: right;\">         2</td><td style=\"text-align: right;\">         1</td><td style=\"text-align: right;\">             3</td><td style=\"text-align: right;\">             1</td><td>Gd           </td><td style=\"text-align: right;\">             8</td><td>Typ         </td><td style=\"text-align: right;\">           0</td><td>NA           </td><td>Attchd      </td><td style=\"text-align: right;\">         2003</td><td>RFn           </td><td style=\"text-align: right;\">           2</td><td style=\"text-align: right;\">         548</td><td>TA          </td><td>TA          </td><td>Y           </td><td style=\"text-align: right;\">           0</td><td style=\"text-align: right;\">           61</td><td style=\"text-align: right;\">              0</td><td style=\"text-align: right;\">          0</td><td style=\"text-align: right;\">            0</td><td style=\"text-align: right;\">         0</td><td>NA      </td><td>NA     </td><td>NA           </td><td style=\"text-align: right;\">        0</td><td style=\"text-align: right;\">       2</td><td style=\"text-align: right;\">    2008</td><td>WD        </td><td>Normal         </td><td style=\"text-align: right;\">     208500</td></tr>\n",
       "<tr><td style=\"text-align: right;\">   2</td><td style=\"text-align: right;\">          20</td><td>RL        </td><td style=\"text-align: right;\">           80</td><td style=\"text-align: right;\">     9600</td><td>Pave    </td><td>NA     </td><td>Reg       </td><td>Lvl          </td><td>AllPub     </td><td>FR2        </td><td>Gtl        </td><td>Veenker       </td><td>Feedr       </td><td>Norm        </td><td>1Fam      </td><td>1Story      </td><td style=\"text-align: right;\">            6</td><td style=\"text-align: right;\">            8</td><td style=\"text-align: right;\">       1976</td><td style=\"text-align: right;\">          1976</td><td>Gable      </td><td>CompShg   </td><td>MetalSd      </td><td>MetalSd      </td><td>None        </td><td style=\"text-align: right;\">           0</td><td>TA         </td><td>TA         </td><td>CBlock      </td><td>Gd        </td><td>TA        </td><td>Gd            </td><td>ALQ           </td><td style=\"text-align: right;\">         978</td><td>Unf           </td><td style=\"text-align: right;\">           0</td><td style=\"text-align: right;\">        284</td><td style=\"text-align: right;\">         1262</td><td>GasA     </td><td>Ex         </td><td>Y           </td><td>SBrkr       </td><td style=\"text-align: right;\">      1262</td><td style=\"text-align: right;\">         0</td><td style=\"text-align: right;\">             0</td><td style=\"text-align: right;\">       1262</td><td style=\"text-align: right;\">             0</td><td style=\"text-align: right;\">             1</td><td style=\"text-align: right;\">         2</td><td style=\"text-align: right;\">         0</td><td style=\"text-align: right;\">             3</td><td style=\"text-align: right;\">             1</td><td>TA           </td><td style=\"text-align: right;\">             6</td><td>Typ         </td><td style=\"text-align: right;\">           1</td><td>TA           </td><td>Attchd      </td><td style=\"text-align: right;\">         1976</td><td>RFn           </td><td style=\"text-align: right;\">           2</td><td style=\"text-align: right;\">         460</td><td>TA          </td><td>TA          </td><td>Y           </td><td style=\"text-align: right;\">         298</td><td style=\"text-align: right;\">            0</td><td style=\"text-align: right;\">              0</td><td style=\"text-align: right;\">          0</td><td style=\"text-align: right;\">            0</td><td style=\"text-align: right;\">         0</td><td>NA      </td><td>NA     </td><td>NA           </td><td style=\"text-align: right;\">        0</td><td style=\"text-align: right;\">       5</td><td style=\"text-align: right;\">    2007</td><td>WD        </td><td>Normal         </td><td style=\"text-align: right;\">     181500</td></tr>\n",
       "<tr><td style=\"text-align: right;\">   3</td><td style=\"text-align: right;\">          60</td><td>RL        </td><td style=\"text-align: right;\">           68</td><td style=\"text-align: right;\">    11250</td><td>Pave    </td><td>NA     </td><td>IR1       </td><td>Lvl          </td><td>AllPub     </td><td>Inside     </td><td>Gtl        </td><td>CollgCr       </td><td>Norm        </td><td>Norm        </td><td>1Fam      </td><td>2Story      </td><td style=\"text-align: right;\">            7</td><td style=\"text-align: right;\">            5</td><td style=\"text-align: right;\">       2001</td><td style=\"text-align: right;\">          2002</td><td>Gable      </td><td>CompShg   </td><td>VinylSd      </td><td>VinylSd      </td><td>BrkFace     </td><td style=\"text-align: right;\">         162</td><td>Gd         </td><td>TA         </td><td>PConc       </td><td>Gd        </td><td>TA        </td><td>Mn            </td><td>GLQ           </td><td style=\"text-align: right;\">         486</td><td>Unf           </td><td style=\"text-align: right;\">           0</td><td style=\"text-align: right;\">        434</td><td style=\"text-align: right;\">          920</td><td>GasA     </td><td>Ex         </td><td>Y           </td><td>SBrkr       </td><td style=\"text-align: right;\">       920</td><td style=\"text-align: right;\">       866</td><td style=\"text-align: right;\">             0</td><td style=\"text-align: right;\">       1786</td><td style=\"text-align: right;\">             1</td><td style=\"text-align: right;\">             0</td><td style=\"text-align: right;\">         2</td><td style=\"text-align: right;\">         1</td><td style=\"text-align: right;\">             3</td><td style=\"text-align: right;\">             1</td><td>Gd           </td><td style=\"text-align: right;\">             6</td><td>Typ         </td><td style=\"text-align: right;\">           1</td><td>TA           </td><td>Attchd      </td><td style=\"text-align: right;\">         2001</td><td>RFn           </td><td style=\"text-align: right;\">           2</td><td style=\"text-align: right;\">         608</td><td>TA          </td><td>TA          </td><td>Y           </td><td style=\"text-align: right;\">           0</td><td style=\"text-align: right;\">           42</td><td style=\"text-align: right;\">              0</td><td style=\"text-align: right;\">          0</td><td style=\"text-align: right;\">            0</td><td style=\"text-align: right;\">         0</td><td>NA      </td><td>NA     </td><td>NA           </td><td style=\"text-align: right;\">        0</td><td style=\"text-align: right;\">       9</td><td style=\"text-align: right;\">    2008</td><td>WD        </td><td>Normal         </td><td style=\"text-align: right;\">     223500</td></tr>\n",
       "<tr><td style=\"text-align: right;\">   4</td><td style=\"text-align: right;\">          70</td><td>RL        </td><td style=\"text-align: right;\">           60</td><td style=\"text-align: right;\">     9550</td><td>Pave    </td><td>NA     </td><td>IR1       </td><td>Lvl          </td><td>AllPub     </td><td>Corner     </td><td>Gtl        </td><td>Crawfor       </td><td>Norm        </td><td>Norm        </td><td>1Fam      </td><td>2Story      </td><td style=\"text-align: right;\">            7</td><td style=\"text-align: right;\">            5</td><td style=\"text-align: right;\">       1915</td><td style=\"text-align: right;\">          1970</td><td>Gable      </td><td>CompShg   </td><td>Wd Sdng      </td><td>Wd Shng      </td><td>None        </td><td style=\"text-align: right;\">           0</td><td>TA         </td><td>TA         </td><td>BrkTil      </td><td>TA        </td><td>Gd        </td><td>No            </td><td>ALQ           </td><td style=\"text-align: right;\">         216</td><td>Unf           </td><td style=\"text-align: right;\">           0</td><td style=\"text-align: right;\">        540</td><td style=\"text-align: right;\">          756</td><td>GasA     </td><td>Gd         </td><td>Y           </td><td>SBrkr       </td><td style=\"text-align: right;\">       961</td><td style=\"text-align: right;\">       756</td><td style=\"text-align: right;\">             0</td><td style=\"text-align: right;\">       1717</td><td style=\"text-align: right;\">             1</td><td style=\"text-align: right;\">             0</td><td style=\"text-align: right;\">         1</td><td style=\"text-align: right;\">         0</td><td style=\"text-align: right;\">             3</td><td style=\"text-align: right;\">             1</td><td>Gd           </td><td style=\"text-align: right;\">             7</td><td>Typ         </td><td style=\"text-align: right;\">           1</td><td>Gd           </td><td>Detchd      </td><td style=\"text-align: right;\">         1998</td><td>Unf           </td><td style=\"text-align: right;\">           3</td><td style=\"text-align: right;\">         642</td><td>TA          </td><td>TA          </td><td>Y           </td><td style=\"text-align: right;\">           0</td><td style=\"text-align: right;\">           35</td><td style=\"text-align: right;\">            272</td><td style=\"text-align: right;\">          0</td><td style=\"text-align: right;\">            0</td><td style=\"text-align: right;\">         0</td><td>NA      </td><td>NA     </td><td>NA           </td><td style=\"text-align: right;\">        0</td><td style=\"text-align: right;\">       2</td><td style=\"text-align: right;\">    2006</td><td>WD        </td><td>Abnorml        </td><td style=\"text-align: right;\">     140000</td></tr>\n",
       "<tr><td style=\"text-align: right;\">   5</td><td style=\"text-align: right;\">          60</td><td>RL        </td><td style=\"text-align: right;\">           84</td><td style=\"text-align: right;\">    14260</td><td>Pave    </td><td>NA     </td><td>IR1       </td><td>Lvl          </td><td>AllPub     </td><td>FR2        </td><td>Gtl        </td><td>NoRidge       </td><td>Norm        </td><td>Norm        </td><td>1Fam      </td><td>2Story      </td><td style=\"text-align: right;\">            8</td><td style=\"text-align: right;\">            5</td><td style=\"text-align: right;\">       2000</td><td style=\"text-align: right;\">          2000</td><td>Gable      </td><td>CompShg   </td><td>VinylSd      </td><td>VinylSd      </td><td>BrkFace     </td><td style=\"text-align: right;\">         350</td><td>Gd         </td><td>TA         </td><td>PConc       </td><td>Gd        </td><td>TA        </td><td>Av            </td><td>GLQ           </td><td style=\"text-align: right;\">         655</td><td>Unf           </td><td style=\"text-align: right;\">           0</td><td style=\"text-align: right;\">        490</td><td style=\"text-align: right;\">         1145</td><td>GasA     </td><td>Ex         </td><td>Y           </td><td>SBrkr       </td><td style=\"text-align: right;\">      1145</td><td style=\"text-align: right;\">      1053</td><td style=\"text-align: right;\">             0</td><td style=\"text-align: right;\">       2198</td><td style=\"text-align: right;\">             1</td><td style=\"text-align: right;\">             0</td><td style=\"text-align: right;\">         2</td><td style=\"text-align: right;\">         1</td><td style=\"text-align: right;\">             4</td><td style=\"text-align: right;\">             1</td><td>Gd           </td><td style=\"text-align: right;\">             9</td><td>Typ         </td><td style=\"text-align: right;\">           1</td><td>TA           </td><td>Attchd      </td><td style=\"text-align: right;\">         2000</td><td>RFn           </td><td style=\"text-align: right;\">           3</td><td style=\"text-align: right;\">         836</td><td>TA          </td><td>TA          </td><td>Y           </td><td style=\"text-align: right;\">         192</td><td style=\"text-align: right;\">           84</td><td style=\"text-align: right;\">              0</td><td style=\"text-align: right;\">          0</td><td style=\"text-align: right;\">            0</td><td style=\"text-align: right;\">         0</td><td>NA      </td><td>NA     </td><td>NA           </td><td style=\"text-align: right;\">        0</td><td style=\"text-align: right;\">      12</td><td style=\"text-align: right;\">    2008</td><td>WD        </td><td>Normal         </td><td style=\"text-align: right;\">     250000</td></tr>\n",
       "</tbody>\n",
       "</table>"
      ]
     },
     "metadata": {},
     "output_type": "display_data"
    },
    {
     "data": {
      "text/plain": []
     },
     "execution_count": 5,
     "metadata": {},
     "output_type": "execute_result"
    }
   ],
   "source": [
    "train.head(5)"
   ]
  },
  {
   "cell_type": "markdown",
   "metadata": {},
   "source": [
    "## Adding important derived variables found by H2O Driverless AI"
   ]
  },
  {
   "cell_type": "code",
   "execution_count": 6,
   "metadata": {
    "collapsed": true
   },
   "outputs": [],
   "source": [
    "train['TotalSF'] = train['TotalBsmtSF'] + train['1stFlrSF'] + train['2ndFlrSF']\n",
    "test['TotalSF'] = test['TotalBsmtSF'] + test['1stFlrSF'] + test['2ndFlrSF']"
   ]
  },
  {
   "cell_type": "code",
   "execution_count": 7,
   "metadata": {
    "collapsed": true
   },
   "outputs": [],
   "source": [
    "train['imp_feat_1'] = train['LotFrontage'] + train['YearRemodAdd']\n",
    "train['imp_feat_2'] = train['BedroomAbvGr'] + train['GrLivArea']\n",
    "train['imp_feat_3'] = train['GrLivArea'] - train['MoSold']\n",
    "train['imp_feat_4'] = train['1stFlrSF'] - train['GrLivArea']\n",
    "test['imp_feat_1'] = test['LotFrontage'] + test['YearRemodAdd']\n",
    "test['imp_feat_2'] = test['BedroomAbvGr'] + test['GrLivArea']\n",
    "test['imp_feat_3'] = test['GrLivArea'] - test['MoSold']\n",
    "test['imp_feat_4'] = test['1stFlrSF'] - test['GrLivArea']"
   ]
  },
  {
   "cell_type": "markdown",
   "metadata": {},
   "source": [
    "## Data Preprocessing"
   ]
  },
  {
   "cell_type": "markdown",
   "metadata": {},
   "source": [
    "### I. Outliers"
   ]
  },
  {
   "cell_type": "code",
   "execution_count": 8,
   "metadata": {
    "scrolled": true
   },
   "outputs": [
    {
     "data": {
      "image/png": "[encoded data removed]",
      "text/plain": [
       "<matplotlib.figure.Figure at 0x7f44d6d2ec18>"
      ]
     },
     "metadata": {},
     "output_type": "display_data"
    },
    {
     "data": {
      "text/plain": [
       "<ggplot: (8745852439388)>"
      ]
     },
     "execution_count": 8,
     "metadata": {},
     "output_type": "execute_result"
    }
   ],
   "source": [
    "# Scatter plot for outlier detection\n",
    "ggplot(aes(x=\"GrLivArea\",y=\"SalePrice\"),data=train.as_data_frame()) + geom_point()"
   ]
  },
  {
   "cell_type": "code",
   "execution_count": 9,
   "metadata": {},
   "outputs": [
    {
     "name": "stdout",
     "output_type": "stream",
     "text": [
      "Parse progress: |█████████████████████████████████████████████████████████| 100%\n"
     ]
    }
   ],
   "source": [
    "# Delete the two outliers detected in the lower right corner\n",
    "train=train.as_data_frame()\n",
    "train.drop(train[(train[\"GrLivArea\"]>4000)&(train[\"SalePrice\"]<300000)].index,inplace=True)\n",
    "train=h2o.H2OFrame(train)"
   ]
  },
  {
   "cell_type": "markdown",
   "metadata": {},
   "source": [
    "### II. Skewness"
   ]
  },
  {
   "cell_type": "code",
   "execution_count": 10,
   "metadata": {
    "scrolled": false
   },
   "outputs": [
    {
     "data": {
      "text/plain": [
       "array([[<matplotlib.axes._subplots.AxesSubplot object at 0x7f44d6aa2240>,\n",
       "        <matplotlib.axes._subplots.AxesSubplot object at 0x7f44d6aecf98>]],\n",
       "      dtype=object)"
      ]
     },
     "execution_count": 10,
     "metadata": {},
     "output_type": "execute_result"
    },
    {
     "data": {
      "image/png": "[encoded data removed]",
      "text/plain": [
       "<matplotlib.figure.Figure at 0x7f44d6aa7978>"
      ]
     },
     "metadata": {},
     "output_type": "display_data"
    }
   ],
   "source": [
    "# Histogram to check skewness of the target variable\n",
    "matplotlib.rcParams['figure.figsize'] = (12.0, 6.0)\n",
    "trdf=train.as_data_frame()\n",
    "target=pd.DataFrame({\"SalesPrice\":trdf[\"SalePrice\"], \"log(SalePrice + 1)\":np.log1p(trdf[\"SalePrice\"])})\n",
    "target.hist()"
   ]
  },
  {
   "cell_type": "code",
   "execution_count": 11,
   "metadata": {
    "collapsed": true
   },
   "outputs": [],
   "source": [
    "# Convert numeric variables that are actually categorical\n",
    "NumStr = [\"MSSubClass\"]\n",
    "for col in NumStr:\n",
    "    train[col]=train[col].asfactor()"
   ]
  },
  {
   "cell_type": "code",
   "execution_count": 12,
   "metadata": {},
   "outputs": [
    {
     "name": "stdout",
     "output_type": "stream",
     "text": [
      "['LotFrontage'] [1.6994303998568425]\n",
      "['LotArea'] [12.560985555655291]\n",
      "['MasVnrArea'] [2.6923994697617104]\n",
      "['BsmtFinSF2'] [4.247549637960442]\n",
      "['LowQualFinSF'] [8.995688015354169]\n",
      "['GrLivArea'] [1.009951290231826]\n",
      "['BsmtHalfBath'] [4.095894691347057]\n",
      "['KitchenAbvGr'] [4.480267553258233]\n",
      "['WoodDeckSF'] [1.5442143796306373]\n",
      "['OpenPorchSF'] [2.337420743825279]\n",
      "['EnclosedPorch'] [3.0839869312270287]\n",
      "['3SsnPorch'] [10.286509627844266]\n",
      "['ScreenPorch'] [4.114689936247767]\n",
      "['PoolArea'] [15.93253224170097]\n",
      "['MiscVal'] [24.434913089449186]\n",
      "['SalePrice'] [1.8793604459195041]\n",
      "['imp_feat_2'] [1.0093034817011586]\n",
      "['imp_feat_3'] [1.0117677888614984]\n"
     ]
    }
   ],
   "source": [
    "# Print out varaibles that are considered to be highly skewed\n",
    "col1=[]\n",
    "for i in range(0,train.ncol):\n",
    "    if (train[i].skewness(True)[0]>=1) or (train[i].skewness(True)[0]<=-1):\n",
    "        print (train[i].names, train[i].skewness(True) ) \n",
    "        col1.append(train[i].names)"
   ]
  },
  {
   "cell_type": "code",
   "execution_count": 13,
   "metadata": {
    "collapsed": true
   },
   "outputs": [],
   "source": [
    "# Perfrom log transformations on the skewed numeric varaibles\n",
    "for col in col1:\n",
    "    col_name=col[0] + \"_log1p\"\n",
    "    train[col_name]=train[col[0]].log1p()\n",
    "    train=train.drop(col[0])"
   ]
  },
  {
   "cell_type": "code",
   "execution_count": 14,
   "metadata": {
    "collapsed": true
   },
   "outputs": [],
   "source": [
    "# Do the same for the test set\n",
    "col1.remove(['SalePrice'])\n",
    "for col in col1:\n",
    "    col_name=col[0] + \"_log1p\"\n",
    "    test[col_name]=test[col[0]].log1p()\n",
    "    test=test.drop(col[0])"
   ]
  },
  {
   "cell_type": "markdown",
   "metadata": {},
   "source": [
    "### III. Train-Valid Split"
   ]
  },
  {
   "cell_type": "code",
   "execution_count": 15,
   "metadata": {
    "scrolled": true
   },
   "outputs": [
    {
     "name": "stdout",
     "output_type": "stream",
     "text": [
      "(1054, 86)\n",
      "(404, 86)\n"
     ]
    }
   ],
   "source": [
    "# 70% as training, 30% as validation\n",
    "train, valid= train.split_frame([0.7])\n",
    "print(train.shape)\n",
    "print(valid.shape)"
   ]
  },
  {
   "cell_type": "markdown",
   "metadata": {},
   "source": [
    "### IV. Impute Missing Values"
   ]
  },
  {
   "cell_type": "code",
   "execution_count": 16,
   "metadata": {
    "scrolled": true
   },
   "outputs": [
    {
     "data": {
      "text/plain": [
       "PoolQC               1051\n",
       "MiscFeature          1013\n",
       "Alley                 997\n",
       "Fence                 851\n",
       "FireplaceQu           491\n",
       "LotFrontage_log1p     191\n",
       "imp_feat_1            191\n",
       "GarageType             59\n",
       "GarageCond             59\n",
       "GarageQual             59\n",
       "GarageFinish           59\n",
       "GarageYrBlt            59\n",
       "BsmtFinType2           27\n",
       "BsmtExposure           27\n",
       "BsmtQual               26\n",
       "BsmtCond               26\n",
       "BsmtFinType1           26\n",
       "MasVnrArea_log1p        5\n",
       "MasVnrType              5\n",
       "ExterQual               0\n",
       "dtype: int64"
      ]
     },
     "execution_count": 16,
     "metadata": {},
     "output_type": "execute_result"
    }
   ],
   "source": [
    "# Print out varaibles with missing values in the training set\n",
    "train=train.as_data_frame()\n",
    "total_missing = train.isnull().sum().sort_values(ascending=False)\n",
    "total_missing.head(20)"
   ]
  },
  {
   "cell_type": "markdown",
   "metadata": {},
   "source": [
    "We identify 3 types of missing values, and use different approaches to deal with them."
   ]
  },
  {
   "cell_type": "code",
   "execution_count": 17,
   "metadata": {},
   "outputs": [
    {
     "name": "stdout",
     "output_type": "stream",
     "text": [
      "Done\n"
     ]
    }
   ],
   "source": [
    "# Type 1\n",
    "# \"Fancy features\": most of the houses do not have a pool, fence, fireplace, etc., so impute the missings with “None\"\n",
    "# if it's categorical, \"0\" if it's numeric.\n",
    "train[\"PoolQC\"].fillna(\"None\", inplace=True)\n",
    "train[\"MiscFeature\"].fillna(\"None\", inplace=True)\n",
    "train[\"Alley\"].fillna(\"None\", inplace=True)\n",
    "train[\"Fence\"].fillna(\"None\", inplace=True)\n",
    "train[\"FireplaceQu\"].fillna(\"None\", inplace=True)\n",
    "train[\"GarageQual\"].fillna(\"None\", inplace=True)\n",
    "train[\"GarageFinish\"].fillna(\"None\", inplace=True)\n",
    "train[\"GarageType\"].fillna(\"None\", inplace=True)\n",
    "train[\"GarageCond\"].fillna(\"None\", inplace=True)\n",
    "train[\"BsmtExposure\"].fillna(\"None\", inplace=True)\n",
    "train[\"BsmtFinType2\"].fillna(\"None\", inplace=True)\n",
    "train[\"BsmtCond\"].fillna(\"None\", inplace=True)\n",
    "train[\"BsmtQual\"].fillna(\"None\", inplace=True)\n",
    "train[\"BsmtFinType1\"].fillna(\"None\", inplace=True)\n",
    "train[\"MasVnrType\"].fillna(\"None\", inplace=True)\n",
    "train[\"MasVnrArea_log1p\"].fillna(0, inplace=True)\n",
    "train[\"imp_feat_1\"].fillna(0, inplace=True)\n",
    "print(\"Done\")"
   ]
  },
  {
   "cell_type": "code",
   "execution_count": 18,
   "metadata": {},
   "outputs": [
    {
     "name": "stdout",
     "output_type": "stream",
     "text": [
      "Done\n"
     ]
    }
   ],
   "source": [
    "# Type 2\n",
    "# \"Essentials\": or \"Must haves\", every house should have a electrical system..., so impute missings with the mode\n",
    "train[\"Electrical\"].fillna(train[\"Electrical\"].mode()[0], inplace=True)\n",
    "train[\"GarageYrBlt\"].fillna(train[\"GarageYrBlt\"].mode()[0], inplace=True)\n",
    "print(\"Done\")"
   ]
  },
  {
   "cell_type": "code",
   "execution_count": 19,
   "metadata": {},
   "outputs": [
    {
     "name": "stdout",
     "output_type": "stream",
     "text": [
      "Done\n"
     ]
    }
   ],
   "source": [
    "# Type 3\n",
    "# \"Depend on Neighborhood\": houses located in the same neighborhood are likely to have similar lot frontage values\n",
    "train[\"LotFrontage_log1p\"] = train.groupby(\"Neighborhood\")[\"LotFrontage_log1p\"].transform(lambda x: x.fillna(x.median()))\n",
    "#train[\"LotFrontage\"] = train.groupby(\"Neighborhood\")[\"LotFrontage\"].transform(lambda x: x.fillna(x.median()))\n",
    "print(\"Done\")"
   ]
  },
  {
   "cell_type": "code",
   "execution_count": 20,
   "metadata": {
    "scrolled": true
   },
   "outputs": [
    {
     "data": {
      "text/plain": [
       "imp_feat_3_log1p    0\n",
       "BsmtFinSF1          0\n",
       "MasVnrType          0\n",
       "ExterQual           0\n",
       "ExterCond           0\n",
       "dtype: int64"
      ]
     },
     "execution_count": 20,
     "metadata": {},
     "output_type": "execute_result"
    }
   ],
   "source": [
    "# Check if there's any missing values left\n",
    "total_missing = train.isnull().sum().sort_values(ascending=False)\n",
    "total_missing.head(5)"
   ]
  },
  {
   "cell_type": "code",
   "execution_count": 21,
   "metadata": {
    "scrolled": true
   },
   "outputs": [
    {
     "data": {
      "text/plain": [
       "PoolQC               401\n",
       "MiscFeature          391\n",
       "Alley                370\n",
       "Fence                326\n",
       "FireplaceQu          199\n",
       "LotFrontage_log1p     68\n",
       "imp_feat_1            68\n",
       "GarageType            22\n",
       "GarageCond            22\n",
       "GarageQual            22\n",
       "GarageFinish          22\n",
       "GarageYrBlt           22\n",
       "BsmtFinType2          11\n",
       "BsmtQual              11\n",
       "BsmtCond              11\n",
       "BsmtExposure          11\n",
       "BsmtFinType1          11\n",
       "MasVnrArea_log1p       3\n",
       "MasVnrType             3\n",
       "Electrical             1\n",
       "dtype: int64"
      ]
     },
     "execution_count": 21,
     "metadata": {},
     "output_type": "execute_result"
    }
   ],
   "source": [
    "# Repeat the same steps for the validation set\n",
    "valid=valid.as_data_frame()\n",
    "total_missing1 = valid.isnull().sum().sort_values(ascending=False)\n",
    "total_missing1.head(20)"
   ]
  },
  {
   "cell_type": "code",
   "execution_count": 22,
   "metadata": {
    "collapsed": true
   },
   "outputs": [],
   "source": [
    "valid[\"LotFrontage_log1p\"] = valid.groupby(\"Neighborhood\")[\"LotFrontage_log1p\"].transform(lambda x: x.fillna(x.median()))\n",
    "valid[\"LotFrontage\"] = valid.groupby(\"Neighborhood\")[\"LotFrontage_log1p\"].transform(lambda x: x.fillna(x.median()))\n",
    "a=[\"GarageYrBlt\",\"Electrical\",\"MSZoning\",\"Functional\",\"Utilities\",\"SaleType\",\"Exterior2nd\",\"KitchenQual\",\"Exterior1st\"\n",
    "  ,\"BsmtFullBath\"]\n",
    "for i in a:\n",
    "    valid[i].fillna(valid[i].mode()[0], inplace=True)\n",
    "\n",
    "\n",
    "b=[\"PoolQC\",\"MiscFeature\",\"Alley\",\"Fence\",\"FireplaceQu\",\"GarageQual\",\"GarageFinish\",\n",
    "   \"GarageType\",\"GarageCond\",\"BsmtExposure\",\"BsmtFinType2\",\"BsmtCond\",\"BsmtQual\",\"BsmtFinType1\",\"MasVnrType\"]\n",
    "for i in b:\n",
    "    valid[i].fillna(\"None\", inplace=True)\n",
    "\n",
    "c=[\"MasVnrArea_log1p\",\"imp_feat_1\",\"BsmtHalfBath_log1p\",\"BsmtFinSF2_log1p\",\"TotalBsmtSF\",\"GarageCars\",\"GarageArea\",\n",
    "   \"BsmtUnfSF\",\"BsmtFinSF1\"]\n",
    "for i in c:\n",
    "    valid[i].fillna(0, inplace=True)"
   ]
  },
  {
   "cell_type": "code",
   "execution_count": 23,
   "metadata": {},
   "outputs": [
    {
     "data": {
      "text/plain": [
       "LotFrontage    0\n",
       "BsmtFinSF1     0\n",
       "MasVnrType     0\n",
       "ExterQual      0\n",
       "ExterCond      0\n",
       "dtype: int64"
      ]
     },
     "execution_count": 23,
     "metadata": {},
     "output_type": "execute_result"
    }
   ],
   "source": [
    "# Check if there's any missing values left\n",
    "total_missing1 = valid.isnull().sum().sort_values(ascending=False)\n",
    "total_missing1.head(5)"
   ]
  },
  {
   "cell_type": "code",
   "execution_count": 24,
   "metadata": {},
   "outputs": [
    {
     "data": {
      "text/plain": [
       "PoolQC                1456\n",
       "MiscFeature           1408\n",
       "Alley                 1352\n",
       "Fence                 1169\n",
       "FireplaceQu            730\n",
       "LotFrontage_log1p      227\n",
       "imp_feat_1             227\n",
       "GarageCond              78\n",
       "GarageYrBlt             78\n",
       "GarageFinish            78\n",
       "GarageQual              78\n",
       "GarageType              76\n",
       "BsmtCond                45\n",
       "BsmtQual                44\n",
       "BsmtExposure            44\n",
       "BsmtFinType1            42\n",
       "BsmtFinType2            42\n",
       "MasVnrType              16\n",
       "MasVnrArea_log1p        15\n",
       "MSZoning                 4\n",
       "Utilities                2\n",
       "Functional               2\n",
       "BsmtFullBath             2\n",
       "BsmtHalfBath_log1p       2\n",
       "Exterior1st              1\n",
       "Exterior2nd              1\n",
       "GarageCars               1\n",
       "GarageArea               1\n",
       "KitchenQual              1\n",
       "TotalBsmtSF              1\n",
       "BsmtUnfSF                1\n",
       "SaleType                 1\n",
       "BsmtFinSF1               1\n",
       "TotalSF                  1\n",
       "BsmtFinSF2_log1p         1\n",
       "dtype: int64"
      ]
     },
     "execution_count": 24,
     "metadata": {},
     "output_type": "execute_result"
    }
   ],
   "source": [
    "# Repeat the same steps for the test set\n",
    "test=test.as_data_frame()\n",
    "total_missing2 = test.isnull().sum().sort_values(ascending=False)\n",
    "total_missing2.head(35)"
   ]
  },
  {
   "cell_type": "code",
   "execution_count": 25,
   "metadata": {
    "collapsed": true
   },
   "outputs": [],
   "source": [
    "test[\"LotFrontage_log1p\"] = test.groupby(\"Neighborhood\")[\"LotFrontage_log1p\"].transform(lambda x: x.fillna(x.median()))\n",
    "#test[\"LotFrontage\"] = test.groupby(\"Neighborhood\")[\"LotFrontage\"].transform(lambda x: x.fillna(x.median()))\n",
    "a=[\"GarageYrBlt\",\"Electrical\",\"MSZoning\",\"Functional\",\"Utilities\",\"SaleType\",\"Exterior2nd\",\"KitchenQual\",\"Exterior1st\"\n",
    "  ,\"BsmtFullBath\"]\n",
    "for i in a:\n",
    "    test[i].fillna(test[i].mode()[0], inplace=True)\n",
    "\n",
    "\n",
    "b=[\"PoolQC\",\"MiscFeature\",\"Alley\",\"Fence\",\"FireplaceQu\",\"GarageQual\",\"GarageFinish\",\n",
    "   \"GarageType\",\"GarageCond\",\"BsmtExposure\",\"BsmtFinType2\",\"BsmtCond\",\"BsmtQual\",\"BsmtFinType1\",\"MasVnrType\"]\n",
    "for i in b:\n",
    "    test[i].fillna(\"None\", inplace=True)\n",
    "\n",
    "c=[\"MasVnrArea_log1p\",\"imp_feat_1\",\"BsmtHalfBath_log1p\",\"BsmtFinSF2_log1p\",\"TotalBsmtSF\",\"GarageCars\",\"GarageArea\",\n",
    "   \"BsmtUnfSF\",\"BsmtFinSF1\", \"TotalSF\"]\n",
    "for i in c:\n",
    "    test[i].fillna(0, inplace=True)"
   ]
  },
  {
   "cell_type": "code",
   "execution_count": 26,
   "metadata": {
    "scrolled": false
   },
   "outputs": [
    {
     "data": {
      "text/plain": [
       "imp_feat_3_log1p    0\n",
       "BsmtFinType1        0\n",
       "Exterior2nd         0\n",
       "MasVnrType          0\n",
       "ExterQual           0\n",
       "dtype: int64"
      ]
     },
     "execution_count": 26,
     "metadata": {},
     "output_type": "execute_result"
    }
   ],
   "source": [
    "# Check if there's any missing values left\n",
    "total_missing2 = test.isnull().sum().sort_values(ascending=False)\n",
    "total_missing2.head(5)"
   ]
  },
  {
   "cell_type": "markdown",
   "metadata": {},
   "source": [
    "### V. Feature Engineering"
   ]
  },
  {
   "cell_type": "code",
   "execution_count": 27,
   "metadata": {
    "collapsed": true
   },
   "outputs": [],
   "source": [
    "train[\"MSSubClass\"]=train[\"MSSubClass\"].astype(str)\n",
    "valid[\"MSSubClass\"]=valid[\"MSSubClass\"].astype(str)\n",
    "test[\"MSSubClass\"]=test[\"MSSubClass\"].astype(str)"
   ]
  },
  {
   "cell_type": "code",
   "execution_count": 28,
   "metadata": {},
   "outputs": [
    {
     "name": "stdout",
     "output_type": "stream",
     "text": [
      "['Id', 'OverallQual', 'OverallCond', 'YearBuilt', 'YearRemodAdd', 'BsmtFinSF1', 'BsmtUnfSF', 'TotalBsmtSF', '1stFlrSF', '2ndFlrSF', 'BsmtFullBath', 'FullBath', 'HalfBath', 'BedroomAbvGr', 'TotRmsAbvGrd', 'Fireplaces', 'GarageYrBlt', 'GarageCars', 'GarageArea', 'MoSold', 'YrSold', 'TotalSF', 'imp_feat_1', 'imp_feat_4', 'LotFrontage_log1p', 'LotArea_log1p', 'MasVnrArea_log1p', 'BsmtFinSF2_log1p', 'LowQualFinSF_log1p', 'GrLivArea_log1p', 'BsmtHalfBath_log1p', 'KitchenAbvGr_log1p', 'WoodDeckSF_log1p', 'OpenPorchSF_log1p', 'EnclosedPorch_log1p', '3SsnPorch_log1p', 'ScreenPorch_log1p', 'PoolArea_log1p', 'MiscVal_log1p', 'SalePrice_log1p', 'imp_feat_2_log1p', 'imp_feat_3_log1p']\n",
      "['Heating', 'SaleCondition', 'BldgType', 'MSZoning', 'MSSubClass', 'Utilities', 'GarageCond', 'LandContour', 'PoolQC', 'FireplaceQu', 'LotShape', 'Foundation', 'Functional', 'Exterior1st', 'GarageQual', 'HouseStyle', 'HeatingQC', 'BsmtFinType1', 'BsmtCond', 'CentralAir', 'GarageFinish', 'BsmtFinType2', 'ExterQual', 'KitchenQual', 'Condition2', 'Alley', 'Electrical', 'BsmtQual', 'LandSlope', 'RoofStyle', 'MasVnrType', 'BsmtExposure', 'MiscFeature', 'GarageType', 'ExterCond', 'PavedDrive', 'Fence', 'RoofMatl', 'SaleType', 'Street', 'Condition1', 'LotConfig', 'Exterior2nd', 'Neighborhood']\n"
     ]
    }
   ],
   "source": [
    "#Separate Numeric and Categorical variables\n",
    "all_col = train.columns\n",
    "num_col = train._get_numeric_data().columns\n",
    "num_col=list(num_col)\n",
    "cat_col = list(set(all_col)-set(num_col))\n",
    "print(num_col)\n",
    "print(cat_col)"
   ]
  },
  {
   "cell_type": "code",
   "execution_count": 29,
   "metadata": {},
   "outputs": [
    {
     "name": "stdout",
     "output_type": "stream",
     "text": [
      "(1054, 42)\n",
      "(1054, 44)\n"
     ]
    }
   ],
   "source": [
    "# Train set\n",
    "train_numeric=train._get_numeric_data()\n",
    "print(train_numeric.shape)\n",
    "\n",
    "train_categorical=pd.DataFrame()\n",
    "for col in train.columns:\n",
    "    if col not in train_numeric.columns:\n",
    "        train_categorical[col]=train[col]\n",
    "print(train_categorical.shape)"
   ]
  },
  {
   "cell_type": "code",
   "execution_count": 30,
   "metadata": {},
   "outputs": [
    {
     "name": "stdout",
     "output_type": "stream",
     "text": [
      "(404, 43)\n",
      "(404, 44)\n"
     ]
    }
   ],
   "source": [
    "# Validation set\n",
    "valid_numeric=valid._get_numeric_data()\n",
    "print(valid_numeric.shape)\n",
    "valid_categorical=pd.DataFrame()\n",
    "for col in valid.columns:\n",
    "    if col not in valid_numeric.columns:\n",
    "        valid_categorical[col]=valid[col]\n",
    "print(valid_categorical.shape)"
   ]
  },
  {
   "cell_type": "code",
   "execution_count": 31,
   "metadata": {},
   "outputs": [
    {
     "name": "stdout",
     "output_type": "stream",
     "text": [
      "(1459, 41)\n",
      "(1459, 44)\n"
     ]
    }
   ],
   "source": [
    "# Test set\n",
    "test_numeric=test._get_numeric_data()\n",
    "print(test_numeric.shape)\n",
    "test_categorical=pd.DataFrame()\n",
    "for col in test.columns:\n",
    "    if col not in valid_numeric.columns:\n",
    "        test_categorical[col]=test[col]\n",
    "print(test_categorical.shape)"
   ]
  },
  {
   "cell_type": "code",
   "execution_count": 32,
   "metadata": {},
   "outputs": [
    {
     "name": "stdout",
     "output_type": "stream",
     "text": [
      "(2917, 44)\n"
     ]
    }
   ],
   "source": [
    "# Concatenate into one set to perform one-hot encoding\n",
    "alldata=pd.concat((train_categorical,\n",
    "                  valid_categorical,\n",
    "                  test_categorical))\n",
    "print(alldata.shape)"
   ]
  },
  {
   "cell_type": "markdown",
   "metadata": {},
   "source": [
    "For categorical variables, we do one-hot encoding."
   ]
  },
  {
   "cell_type": "code",
   "execution_count": 33,
   "metadata": {},
   "outputs": [
    {
     "data": {
      "text/plain": [
       "(2917, 281)"
      ]
     },
     "execution_count": 33,
     "metadata": {},
     "output_type": "execute_result"
    }
   ],
   "source": [
    "alldata_dummy=pd.get_dummies(alldata)\n",
    "alldata_dummy.shape"
   ]
  },
  {
   "cell_type": "code",
   "execution_count": 34,
   "metadata": {
    "collapsed": true
   },
   "outputs": [],
   "source": [
    "train_dummy=alldata_dummy.iloc[:train.shape[0],:]\n",
    "valid_dummy=alldata_dummy.iloc[train.shape[0]:train.shape[0]+valid.shape[0],:]\n",
    "test_dummy=alldata_dummy.iloc[train.shape[0]+valid.shape[0]:,:]"
   ]
  },
  {
   "cell_type": "code",
   "execution_count": 35,
   "metadata": {
    "scrolled": false
   },
   "outputs": [
    {
     "name": "stdout",
     "output_type": "stream",
     "text": [
      "(1054, 281)\n",
      "(404, 281)\n",
      "(1459, 281)\n"
     ]
    }
   ],
   "source": [
    "print(train_dummy.shape)\n",
    "print(valid_dummy.shape)\n",
    "print(test_dummy.shape)"
   ]
  },
  {
   "cell_type": "markdown",
   "metadata": {},
   "source": [
    "For numeric variables, we generate more features by utilizing simple math operations, such as addition, quadratic,\n",
    "cubic."
   ]
  },
  {
   "cell_type": "code",
   "execution_count": 36,
   "metadata": {
    "collapsed": true
   },
   "outputs": [],
   "source": [
    "a = [name for name in train_numeric.columns if name not in [\"Id\",'SalePrice_log1p']]"
   ]
  },
  {
   "cell_type": "code",
   "execution_count": 37,
   "metadata": {},
   "outputs": [
    {
     "data": {
      "text/plain": [
       "(1054, 82)"
      ]
     },
     "execution_count": 37,
     "metadata": {},
     "output_type": "execute_result"
    }
   ],
   "source": [
    "# Quadratic\n",
    "for i in a:\n",
    "    new_col_name = i + '^2'\n",
    "    train_numeric[new_col_name]=train_numeric[i]**2\n",
    "train_numeric.shape"
   ]
  },
  {
   "cell_type": "code",
   "execution_count": 38,
   "metadata": {},
   "outputs": [
    {
     "data": {
      "text/plain": [
       "(1054, 122)"
      ]
     },
     "execution_count": 38,
     "metadata": {},
     "output_type": "execute_result"
    }
   ],
   "source": [
    "# Cubic\n",
    "for i in a:\n",
    "    new_col_name = i + '^3'\n",
    "    train_numeric[new_col_name]=train_numeric[i]**3\n",
    "train_numeric.shape"
   ]
  },
  {
   "cell_type": "code",
   "execution_count": 39,
   "metadata": {},
   "outputs": [
    {
     "data": {
      "text/plain": [
       "(1054, 902)"
      ]
     },
     "execution_count": 39,
     "metadata": {},
     "output_type": "execute_result"
    }
   ],
   "source": [
    "# Addition\n",
    "for i in range(len(a)):\n",
    "    for j in range(i+1,len(a)):\n",
    "        new_col_name = a[i] + \"+\" +a[j]\n",
    "        train_numeric[new_col_name]=train_numeric[a[i]]+train_numeric[a[j]]\n",
    "train_numeric.shape"
   ]
  },
  {
   "cell_type": "code",
   "execution_count": 40,
   "metadata": {},
   "outputs": [
    {
     "data": {
      "text/plain": [
       "(404, 903)"
      ]
     },
     "execution_count": 40,
     "metadata": {},
     "output_type": "execute_result"
    }
   ],
   "source": [
    "# Repeat the same steps for the validation set\n",
    "for i in a:\n",
    "    new_col_name = i + '^2'\n",
    "    valid_numeric[new_col_name]=valid_numeric[i]**2\n",
    "\n",
    "for i in a:\n",
    "    new_col_name = i + '^3'\n",
    "    valid_numeric[new_col_name]=valid_numeric[i]**3\n",
    "\n",
    "for i in range(len(a)):\n",
    "    for j in range(i+1,len(a)):\n",
    "        new_col_name = a[i] + \"+\" +a[j]\n",
    "        valid_numeric[new_col_name]=valid_numeric[a[i]]+valid_numeric[a[j]]\n",
    "valid_numeric.shape"
   ]
  },
  {
   "cell_type": "code",
   "execution_count": 41,
   "metadata": {},
   "outputs": [
    {
     "data": {
      "text/plain": [
       "(1459, 901)"
      ]
     },
     "execution_count": 41,
     "metadata": {},
     "output_type": "execute_result"
    }
   ],
   "source": [
    "# Repeat the same steps for the testing set\n",
    "for i in a:\n",
    "    new_col_name = i + '^2'\n",
    "    test_numeric[new_col_name]=test_numeric[i]**2\n",
    "\n",
    "for i in a:\n",
    "    new_col_name = i + '^3'\n",
    "    test_numeric[new_col_name]=test_numeric[i]**3\n",
    "\n",
    "for i in range(len(a)):\n",
    "    for j in range(i+1,len(a)):\n",
    "        new_col_name = a[i] + \"+\" +a[j]\n",
    "        test_numeric[new_col_name]=test_numeric[a[i]]+test_numeric[a[j]]\n",
    "test_numeric.shape"
   ]
  },
  {
   "cell_type": "markdown",
   "metadata": {},
   "source": [
    "### VI. Get the Data Ready for Modeling"
   ]
  },
  {
   "cell_type": "code",
   "execution_count": 42,
   "metadata": {},
   "outputs": [
    {
     "data": {
      "text/plain": [
       "(1054, 1183)"
      ]
     },
     "execution_count": 42,
     "metadata": {},
     "output_type": "execute_result"
    }
   ],
   "source": [
    "train=pd.concat([train_numeric,train_dummy],axis=1)\n",
    "train.shape"
   ]
  },
  {
   "cell_type": "code",
   "execution_count": 43,
   "metadata": {},
   "outputs": [
    {
     "data": {
      "text/plain": [
       "(404, 1184)"
      ]
     },
     "execution_count": 43,
     "metadata": {},
     "output_type": "execute_result"
    }
   ],
   "source": [
    "valid=pd.concat([valid_numeric,valid_dummy],axis=1)\n",
    "valid.shape"
   ]
  },
  {
   "cell_type": "code",
   "execution_count": 44,
   "metadata": {},
   "outputs": [
    {
     "data": {
      "text/plain": [
       "(1459, 1182)"
      ]
     },
     "execution_count": 44,
     "metadata": {},
     "output_type": "execute_result"
    }
   ],
   "source": [
    "test=pd.concat([test_numeric,test_dummy],axis=1)\n",
    "test.shape"
   ]
  },
  {
   "cell_type": "code",
   "execution_count": 45,
   "metadata": {},
   "outputs": [
    {
     "name": "stdout",
     "output_type": "stream",
     "text": [
      "Parse progress: |█████████████████████████████████████████████████████████| 100%\n",
      "Parse progress: |█████████████████████████████████████████████████████████| 100%\n",
      "Parse progress: |█████████████████████████████████████████████████████████| 100%\n"
     ]
    }
   ],
   "source": [
    "train=h2o.H2OFrame(train)\n",
    "valid=h2o.H2OFrame(valid)\n",
    "test=h2o.H2OFrame(test)"
   ]
  },
  {
   "cell_type": "code",
   "execution_count": 46,
   "metadata": {
    "collapsed": true
   },
   "outputs": [],
   "source": [
    "y = 'SalePrice_log1p'\n",
    "X = [name for name in train.columns if name not in [\"Id\",y]]"
   ]
  },
  {
   "cell_type": "code",
   "execution_count": 47,
   "metadata": {},
   "outputs": [
    {
     "name": "stdout",
     "output_type": "stream",
     "text": [
      "SalePrice_log1p\n"
     ]
    },
    {
     "name": "stdout",
     "output_type": "stream",
     "text": [
      "['OverallQual', 'OverallCond', 'YearBuilt', 'YearRemodAdd', 'BsmtFinSF1', 'BsmtUnfSF', 'TotalBsmtSF', '1stFlrSF', '2ndFlrSF', 'BsmtFullBath', 'FullBath', 'HalfBath', 'BedroomAbvGr', 'TotRmsAbvGrd', 'Fireplaces', 'GarageYrBlt', 'GarageCars', 'GarageArea', 'MoSold', 'YrSold', 'TotalSF', 'imp_feat_1', 'imp_feat_4', 'LotFrontage_log1p', 'LotArea_log1p', 'MasVnrArea_log1p', 'BsmtFinSF2_log1p', 'LowQualFinSF_log1p', 'GrLivArea_log1p', 'BsmtHalfBath_log1p', 'KitchenAbvGr_log1p', 'WoodDeckSF_log1p', 'OpenPorchSF_log1p', 'EnclosedPorch_log1p', '3SsnPorch_log1p', 'ScreenPorch_log1p', 'PoolArea_log1p', 'MiscVal_log1p', 'imp_feat_2_log1p', 'imp_feat_3_log1p', 'OverallQual^2', 'OverallCond^2', 'YearBuilt^2', 'YearRemodAdd^2', 'BsmtFinSF1^2', 'BsmtUnfSF^2', 'TotalBsmtSF^2', '1stFlrSF^2', '2ndFlrSF^2', 'BsmtFullBath^2', 'FullBath^2', 'HalfBath^2', 'BedroomAbvGr^2', 'TotRmsAbvGrd^2', 'Fireplaces^2', 'GarageYrBlt^2', 'GarageCars^2', 'GarageArea^2', 'MoSold^2', 'YrSold^2', 'TotalSF^2', 'imp_feat_1^2', 'imp_feat_4^2', 'LotFrontage_log1p^2', 'LotArea_log1p^2', 'MasVnrArea_log1p^2', 'BsmtFinSF2_log1p^2', 'LowQualFinSF_log1p^2', 'GrLivArea_log1p^2', 'BsmtHalfBath_log1p^2', 'KitchenAbvGr_log1p^2', 'WoodDeckSF_log1p^2', 'OpenPorchSF_log1p^2', 'EnclosedPorch_log1p^2', '3SsnPorch_log1p^2', 'ScreenPorch_log1p^2', 'PoolArea_log1p^2', 'MiscVal_log1p^2', 'imp_feat_2_log1p^2', 'imp_feat_3_log1p^2', 'OverallQual^3', 'OverallCond^3', 'YearBuilt^3', 'YearRemodAdd^3', 'BsmtFinSF1^3', 'BsmtUnfSF^3', 'TotalBsmtSF^3', '1stFlrSF^3', '2ndFlrSF^3', 'BsmtFullBath^3', 'FullBath^3', 'HalfBath^3', 'BedroomAbvGr^3', 'TotRmsAbvGrd^3', 'Fireplaces^3', 'GarageYrBlt^3', 'GarageCars^3', 'GarageArea^3', 'MoSold^3', 'YrSold^3', 'TotalSF^3', 'imp_feat_1^3', 'imp_feat_4^3', 'LotFrontage_log1p^3', 'LotArea_log1p^3', 'MasVnrArea_log1p^3', 'BsmtFinSF2_log1p^3', 'LowQualFinSF_log1p^3', 'GrLivArea_log1p^3', 'BsmtHalfBath_log1p^3', 'KitchenAbvGr_log1p^3', 'WoodDeckSF_log1p^3', 'OpenPorchSF_log1p^3', 'EnclosedPorch_log1p^3', '3SsnPorch_log1p^3', 'ScreenPorch_log1p^3', 'PoolArea_log1p^3', 'MiscVal_log1p^3', 'imp_feat_2_log1p^3', 'imp_feat_3_log1p^3', 'OverallQual+OverallCond', 'OverallQual+YearBuilt', 'OverallQual+YearRemodAdd', 'OverallQual+BsmtFinSF1', 'OverallQual+BsmtUnfSF', 'OverallQual+TotalBsmtSF', 'OverallQual+1stFlrSF', 'OverallQual+2ndFlrSF', 'OverallQual+BsmtFullBath', 'OverallQual+FullBath', 'OverallQual+HalfBath', 'OverallQual+BedroomAbvGr', 'OverallQual+TotRmsAbvGrd', 'OverallQual+Fireplaces', 'OverallQual+GarageYrBlt', 'OverallQual+GarageCars', 'OverallQual+GarageArea', 'OverallQual+MoSold', 'OverallQual+YrSold', 'OverallQual+TotalSF', 'OverallQual+imp_feat_1', 'OverallQual+imp_feat_4', 'OverallQual+LotFrontage_log1p', 'OverallQual+LotArea_log1p', 'OverallQual+MasVnrArea_log1p', 'OverallQual+BsmtFinSF2_log1p', 'OverallQual+LowQualFinSF_log1p', 'OverallQual+GrLivArea_log1p', 'OverallQual+BsmtHalfBath_log1p', 'OverallQual+KitchenAbvGr_log1p', 'OverallQual+WoodDeckSF_log1p', 'OverallQual+OpenPorchSF_log1p', 'OverallQual+EnclosedPorch_log1p', 'OverallQual+3SsnPorch_log1p', 'OverallQual+ScreenPorch_log1p', 'OverallQual+PoolArea_log1p', 'OverallQual+MiscVal_log1p', 'OverallQual+imp_feat_2_log1p', 'OverallQual+imp_feat_3_log1p', 'OverallCond+YearBuilt', 'OverallCond+YearRemodAdd', 'OverallCond+BsmtFinSF1', 'OverallCond+BsmtUnfSF', 'OverallCond+TotalBsmtSF', 'OverallCond+1stFlrSF', 'OverallCond+2ndFlrSF', 'OverallCond+BsmtFullBath', 'OverallCond+FullBath', 'OverallCond+HalfBath', 'OverallCond+BedroomAbvGr', 'OverallCond+TotRmsAbvGrd', 'OverallCond+Fireplaces', 'OverallCond+GarageYrBlt', 'OverallCond+GarageCars', 'OverallCond+GarageArea', 'OverallCond+MoSold', 'OverallCond+YrSold', 'OverallCond+TotalSF', 'OverallCond+imp_feat_1', 'OverallCond+imp_feat_4', 'OverallCond+LotFrontage_log1p', 'OverallCond+LotArea_log1p', 'OverallCond+MasVnrArea_log1p', 'OverallCond+BsmtFinSF2_log1p', 'OverallCond+LowQualFinSF_log1p', 'OverallCond+GrLivArea_log1p', 'OverallCond+BsmtHalfBath_log1p', 'OverallCond+KitchenAbvGr_log1p', 'OverallCond+WoodDeckSF_log1p', 'OverallCond+OpenPorchSF_log1p', 'OverallCond+EnclosedPorch_log1p', 'OverallCond+3SsnPorch_log1p', 'OverallCond+ScreenPorch_log1p', 'OverallCond+PoolArea_log1p', 'OverallCond+MiscVal_log1p', 'OverallCond+imp_feat_2_log1p', 'OverallCond+imp_feat_3_log1p', 'YearBuilt+YearRemodAdd', 'YearBuilt+BsmtFinSF1', 'YearBuilt+BsmtUnfSF', 'YearBuilt+TotalBsmtSF', 'YearBuilt+1stFlrSF', 'YearBuilt+2ndFlrSF', 'YearBuilt+BsmtFullBath', 'YearBuilt+FullBath', 'YearBuilt+HalfBath', 'YearBuilt+BedroomAbvGr', 'YearBuilt+TotRmsAbvGrd', 'YearBuilt+Fireplaces', 'YearBuilt+GarageYrBlt', 'YearBuilt+GarageCars', 'YearBuilt+GarageArea', 'YearBuilt+MoSold', 'YearBuilt+YrSold', 'YearBuilt+TotalSF', 'YearBuilt+imp_feat_1', 'YearBuilt+imp_feat_4', 'YearBuilt+LotFrontage_log1p', 'YearBuilt+LotArea_log1p', 'YearBuilt+MasVnrArea_log1p', 'YearBuilt+BsmtFinSF2_log1p', 'YearBuilt+LowQualFinSF_log1p', 'YearBuilt+GrLivArea_log1p', 'YearBuilt+BsmtHalfBath_log1p', 'YearBuilt+KitchenAbvGr_log1p', 'YearBuilt+WoodDeckSF_log1p', 'YearBuilt+OpenPorchSF_log1p', 'YearBuilt+EnclosedPorch_log1p', 'YearBuilt+3SsnPorch_log1p', 'YearBuilt+ScreenPorch_log1p', 'YearBuilt+PoolArea_log1p', 'YearBuilt+MiscVal_log1p', 'YearBuilt+imp_feat_2_log1p', 'YearBuilt+imp_feat_3_log1p', 'YearRemodAdd+BsmtFinSF1', 'YearRemodAdd+BsmtUnfSF', 'YearRemodAdd+TotalBsmtSF', 'YearRemodAdd+1stFlrSF', 'YearRemodAdd+2ndFlrSF', 'YearRemodAdd+BsmtFullBath', 'YearRemodAdd+FullBath', 'YearRemodAdd+HalfBath', 'YearRemodAdd+BedroomAbvGr', 'YearRemodAdd+TotRmsAbvGrd', 'YearRemodAdd+Fireplaces', 'YearRemodAdd+GarageYrBlt', 'YearRemodAdd+GarageCars', 'YearRemodAdd+GarageArea', 'YearRemodAdd+MoSold', 'YearRemodAdd+YrSold', 'YearRemodAdd+TotalSF', 'YearRemodAdd+imp_feat_1', 'YearRemodAdd+imp_feat_4', 'YearRemodAdd+LotFrontage_log1p', 'YearRemodAdd+LotArea_log1p', 'YearRemodAdd+MasVnrArea_log1p', 'YearRemodAdd+BsmtFinSF2_log1p', 'YearRemodAdd+LowQualFinSF_log1p', 'YearRemodAdd+GrLivArea_log1p', 'YearRemodAdd+BsmtHalfBath_log1p', 'YearRemodAdd+KitchenAbvGr_log1p', 'YearRemodAdd+WoodDeckSF_log1p', 'YearRemodAdd+OpenPorchSF_log1p', 'YearRemodAdd+EnclosedPorch_log1p', 'YearRemodAdd+3SsnPorch_log1p', 'YearRemodAdd+ScreenPorch_log1p', 'YearRemodAdd+PoolArea_log1p', 'YearRemodAdd+MiscVal_log1p', 'YearRemodAdd+imp_feat_2_log1p', 'YearRemodAdd+imp_feat_3_log1p', 'BsmtFinSF1+BsmtUnfSF', 'BsmtFinSF1+TotalBsmtSF', 'BsmtFinSF1+1stFlrSF', 'BsmtFinSF1+2ndFlrSF', 'BsmtFinSF1+BsmtFullBath', 'BsmtFinSF1+FullBath', 'BsmtFinSF1+HalfBath', 'BsmtFinSF1+BedroomAbvGr', 'BsmtFinSF1+TotRmsAbvGrd', 'BsmtFinSF1+Fireplaces', 'BsmtFinSF1+GarageYrBlt', 'BsmtFinSF1+GarageCars', 'BsmtFinSF1+GarageArea', 'BsmtFinSF1+MoSold', 'BsmtFinSF1+YrSold', 'BsmtFinSF1+TotalSF', 'BsmtFinSF1+imp_feat_1', 'BsmtFinSF1+imp_feat_4', 'BsmtFinSF1+LotFrontage_log1p', 'BsmtFinSF1+LotArea_log1p', 'BsmtFinSF1+MasVnrArea_log1p', 'BsmtFinSF1+BsmtFinSF2_log1p', 'BsmtFinSF1+LowQualFinSF_log1p', 'BsmtFinSF1+GrLivArea_log1p', 'BsmtFinSF1+BsmtHalfBath_log1p', 'BsmtFinSF1+KitchenAbvGr_log1p', 'BsmtFinSF1+WoodDeckSF_log1p', 'BsmtFinSF1+OpenPorchSF_log1p', 'BsmtFinSF1+EnclosedPorch_log1p', 'BsmtFinSF1+3SsnPorch_log1p', 'BsmtFinSF1+ScreenPorch_log1p', 'BsmtFinSF1+PoolArea_log1p', 'BsmtFinSF1+MiscVal_log1p', 'BsmtFinSF1+imp_feat_2_log1p', 'BsmtFinSF1+imp_feat_3_log1p', 'BsmtUnfSF+TotalBsmtSF', 'BsmtUnfSF+1stFlrSF', 'BsmtUnfSF+2ndFlrSF', 'BsmtUnfSF+BsmtFullBath', 'BsmtUnfSF+FullBath', 'BsmtUnfSF+HalfBath', 'BsmtUnfSF+BedroomAbvGr', 'BsmtUnfSF+TotRmsAbvGrd', 'BsmtUnfSF+Fireplaces', 'BsmtUnfSF+GarageYrBlt', 'BsmtUnfSF+GarageCars', 'BsmtUnfSF+GarageArea', 'BsmtUnfSF+MoSold', 'BsmtUnfSF+YrSold', 'BsmtUnfSF+TotalSF', 'BsmtUnfSF+imp_feat_1', 'BsmtUnfSF+imp_feat_4', 'BsmtUnfSF+LotFrontage_log1p', 'BsmtUnfSF+LotArea_log1p', 'BsmtUnfSF+MasVnrArea_log1p', 'BsmtUnfSF+BsmtFinSF2_log1p', 'BsmtUnfSF+LowQualFinSF_log1p', 'BsmtUnfSF+GrLivArea_log1p', 'BsmtUnfSF+BsmtHalfBath_log1p', 'BsmtUnfSF+KitchenAbvGr_log1p', 'BsmtUnfSF+WoodDeckSF_log1p', 'BsmtUnfSF+OpenPorchSF_log1p', 'BsmtUnfSF+EnclosedPorch_log1p', 'BsmtUnfSF+3SsnPorch_log1p', 'BsmtUnfSF+ScreenPorch_log1p', 'BsmtUnfSF+PoolArea_log1p', 'BsmtUnfSF+MiscVal_log1p', 'BsmtUnfSF+imp_feat_2_log1p', 'BsmtUnfSF+imp_feat_3_log1p', 'TotalBsmtSF+1stFlrSF', 'TotalBsmtSF+2ndFlrSF', 'TotalBsmtSF+BsmtFullBath', 'TotalBsmtSF+FullBath', 'TotalBsmtSF+HalfBath', 'TotalBsmtSF+BedroomAbvGr', 'TotalBsmtSF+TotRmsAbvGrd', 'TotalBsmtSF+Fireplaces', 'TotalBsmtSF+GarageYrBlt', 'TotalBsmtSF+GarageCars', 'TotalBsmtSF+GarageArea', 'TotalBsmtSF+MoSold', 'TotalBsmtSF+YrSold', 'TotalBsmtSF+TotalSF', 'TotalBsmtSF+imp_feat_1', 'TotalBsmtSF+imp_feat_4', 'TotalBsmtSF+LotFrontage_log1p', 'TotalBsmtSF+LotArea_log1p', 'TotalBsmtSF+MasVnrArea_log1p', 'TotalBsmtSF+BsmtFinSF2_log1p', 'TotalBsmtSF+LowQualFinSF_log1p', 'TotalBsmtSF+GrLivArea_log1p', 'TotalBsmtSF+BsmtHalfBath_log1p', 'TotalBsmtSF+KitchenAbvGr_log1p', 'TotalBsmtSF+WoodDeckSF_log1p', 'TotalBsmtSF+OpenPorchSF_log1p', 'TotalBsmtSF+EnclosedPorch_log1p', 'TotalBsmtSF+3SsnPorch_log1p', 'TotalBsmtSF+ScreenPorch_log1p', 'TotalBsmtSF+PoolArea_log1p', 'TotalBsmtSF+MiscVal_log1p', 'TotalBsmtSF+imp_feat_2_log1p', 'TotalBsmtSF+imp_feat_3_log1p', '1stFlrSF+2ndFlrSF', '1stFlrSF+BsmtFullBath', '1stFlrSF+FullBath', '1stFlrSF+HalfBath', '1stFlrSF+BedroomAbvGr', '1stFlrSF+TotRmsAbvGrd', '1stFlrSF+Fireplaces', '1stFlrSF+GarageYrBlt', '1stFlrSF+GarageCars', '1stFlrSF+GarageArea', '1stFlrSF+MoSold', '1stFlrSF+YrSold', '1stFlrSF+TotalSF', '1stFlrSF+imp_feat_1', '1stFlrSF+imp_feat_4', '1stFlrSF+LotFrontage_log1p', '1stFlrSF+LotArea_log1p', '1stFlrSF+MasVnrArea_log1p', '1stFlrSF+BsmtFinSF2_log1p', '1stFlrSF+LowQualFinSF_log1p', '1stFlrSF+GrLivArea_log1p', '1stFlrSF+BsmtHalfBath_log1p', '1stFlrSF+KitchenAbvGr_log1p', '1stFlrSF+WoodDeckSF_log1p', '1stFlrSF+OpenPorchSF_log1p', '1stFlrSF+EnclosedPorch_log1p', '1stFlrSF+3SsnPorch_log1p', '1stFlrSF+ScreenPorch_log1p', '1stFlrSF+PoolArea_log1p', '1stFlrSF+MiscVal_log1p', '1stFlrSF+imp_feat_2_log1p', '1stFlrSF+imp_feat_3_log1p', '2ndFlrSF+BsmtFullBath', '2ndFlrSF+FullBath', '2ndFlrSF+HalfBath', '2ndFlrSF+BedroomAbvGr', '2ndFlrSF+TotRmsAbvGrd', '2ndFlrSF+Fireplaces', '2ndFlrSF+GarageYrBlt', '2ndFlrSF+GarageCars', '2ndFlrSF+GarageArea', '2ndFlrSF+MoSold', '2ndFlrSF+YrSold', '2ndFlrSF+TotalSF', '2ndFlrSF+imp_feat_1', '2ndFlrSF+imp_feat_4', '2ndFlrSF+LotFrontage_log1p', '2ndFlrSF+LotArea_log1p', '2ndFlrSF+MasVnrArea_log1p', '2ndFlrSF+BsmtFinSF2_log1p', '2ndFlrSF+LowQualFinSF_log1p', '2ndFlrSF+GrLivArea_log1p', '2ndFlrSF+BsmtHalfBath_log1p', '2ndFlrSF+KitchenAbvGr_log1p', '2ndFlrSF+WoodDeckSF_log1p', '2ndFlrSF+OpenPorchSF_log1p', '2ndFlrSF+EnclosedPorch_log1p', '2ndFlrSF+3SsnPorch_log1p', '2ndFlrSF+ScreenPorch_log1p', '2ndFlrSF+PoolArea_log1p', '2ndFlrSF+MiscVal_log1p', '2ndFlrSF+imp_feat_2_log1p', '2ndFlrSF+imp_feat_3_log1p', 'BsmtFullBath+FullBath', 'BsmtFullBath+HalfBath', 'BsmtFullBath+BedroomAbvGr', 'BsmtFullBath+TotRmsAbvGrd', 'BsmtFullBath+Fireplaces', 'BsmtFullBath+GarageYrBlt', 'BsmtFullBath+GarageCars', 'BsmtFullBath+GarageArea', 'BsmtFullBath+MoSold', 'BsmtFullBath+YrSold', 'BsmtFullBath+TotalSF', 'BsmtFullBath+imp_feat_1', 'BsmtFullBath+imp_feat_4', 'BsmtFullBath+LotFrontage_log1p', 'BsmtFullBath+LotArea_log1p', 'BsmtFullBath+MasVnrArea_log1p', 'BsmtFullBath+BsmtFinSF2_log1p', 'BsmtFullBath+LowQualFinSF_log1p', 'BsmtFullBath+GrLivArea_log1p', 'BsmtFullBath+BsmtHalfBath_log1p', 'BsmtFullBath+KitchenAbvGr_log1p', 'BsmtFullBath+WoodDeckSF_log1p', 'BsmtFullBath+OpenPorchSF_log1p', 'BsmtFullBath+EnclosedPorch_log1p', 'BsmtFullBath+3SsnPorch_log1p', 'BsmtFullBath+ScreenPorch_log1p', 'BsmtFullBath+PoolArea_log1p', 'BsmtFullBath+MiscVal_log1p', 'BsmtFullBath+imp_feat_2_log1p', 'BsmtFullBath+imp_feat_3_log1p', 'FullBath+HalfBath', 'FullBath+BedroomAbvGr', 'FullBath+TotRmsAbvGrd', 'FullBath+Fireplaces', 'FullBath+GarageYrBlt', 'FullBath+GarageCars', 'FullBath+GarageArea', 'FullBath+MoSold', 'FullBath+YrSold', 'FullBath+TotalSF', 'FullBath+imp_feat_1', 'FullBath+imp_feat_4', 'FullBath+LotFrontage_log1p', 'FullBath+LotArea_log1p', 'FullBath+MasVnrArea_log1p', 'FullBath+BsmtFinSF2_log1p', 'FullBath+LowQualFinSF_log1p', 'FullBath+GrLivArea_log1p', 'FullBath+BsmtHalfBath_log1p', 'FullBath+KitchenAbvGr_log1p', 'FullBath+WoodDeckSF_log1p', 'FullBath+OpenPorchSF_log1p', 'FullBath+EnclosedPorch_log1p', 'FullBath+3SsnPorch_log1p', 'FullBath+ScreenPorch_log1p', 'FullBath+PoolArea_log1p', 'FullBath+MiscVal_log1p', 'FullBath+imp_feat_2_log1p', 'FullBath+imp_feat_3_log1p', 'HalfBath+BedroomAbvGr', 'HalfBath+TotRmsAbvGrd', 'HalfBath+Fireplaces', 'HalfBath+GarageYrBlt', 'HalfBath+GarageCars', 'HalfBath+GarageArea', 'HalfBath+MoSold', 'HalfBath+YrSold', 'HalfBath+TotalSF', 'HalfBath+imp_feat_1', 'HalfBath+imp_feat_4', 'HalfBath+LotFrontage_log1p', 'HalfBath+LotArea_log1p', 'HalfBath+MasVnrArea_log1p', 'HalfBath+BsmtFinSF2_log1p', 'HalfBath+LowQualFinSF_log1p', 'HalfBath+GrLivArea_log1p', 'HalfBath+BsmtHalfBath_log1p', 'HalfBath+KitchenAbvGr_log1p', 'HalfBath+WoodDeckSF_log1p', 'HalfBath+OpenPorchSF_log1p', 'HalfBath+EnclosedPorch_log1p', 'HalfBath+3SsnPorch_log1p', 'HalfBath+ScreenPorch_log1p', 'HalfBath+PoolArea_log1p', 'HalfBath+MiscVal_log1p', 'HalfBath+imp_feat_2_log1p', 'HalfBath+imp_feat_3_log1p', 'BedroomAbvGr+TotRmsAbvGrd', 'BedroomAbvGr+Fireplaces', 'BedroomAbvGr+GarageYrBlt', 'BedroomAbvGr+GarageCars', 'BedroomAbvGr+GarageArea', 'BedroomAbvGr+MoSold', 'BedroomAbvGr+YrSold', 'BedroomAbvGr+TotalSF', 'BedroomAbvGr+imp_feat_1', 'BedroomAbvGr+imp_feat_4', 'BedroomAbvGr+LotFrontage_log1p', 'BedroomAbvGr+LotArea_log1p', 'BedroomAbvGr+MasVnrArea_log1p', 'BedroomAbvGr+BsmtFinSF2_log1p', 'BedroomAbvGr+LowQualFinSF_log1p', 'BedroomAbvGr+GrLivArea_log1p', 'BedroomAbvGr+BsmtHalfBath_log1p', 'BedroomAbvGr+KitchenAbvGr_log1p', 'BedroomAbvGr+WoodDeckSF_log1p', 'BedroomAbvGr+OpenPorchSF_log1p', 'BedroomAbvGr+EnclosedPorch_log1p', 'BedroomAbvGr+3SsnPorch_log1p', 'BedroomAbvGr+ScreenPorch_log1p', 'BedroomAbvGr+PoolArea_log1p', 'BedroomAbvGr+MiscVal_log1p', 'BedroomAbvGr+imp_feat_2_log1p', 'BedroomAbvGr+imp_feat_3_log1p', 'TotRmsAbvGrd+Fireplaces', 'TotRmsAbvGrd+GarageYrBlt', 'TotRmsAbvGrd+GarageCars', 'TotRmsAbvGrd+GarageArea', 'TotRmsAbvGrd+MoSold', 'TotRmsAbvGrd+YrSold', 'TotRmsAbvGrd+TotalSF', 'TotRmsAbvGrd+imp_feat_1', 'TotRmsAbvGrd+imp_feat_4', 'TotRmsAbvGrd+LotFrontage_log1p', 'TotRmsAbvGrd+LotArea_log1p', 'TotRmsAbvGrd+MasVnrArea_log1p', 'TotRmsAbvGrd+BsmtFinSF2_log1p', 'TotRmsAbvGrd+LowQualFinSF_log1p', 'TotRmsAbvGrd+GrLivArea_log1p', 'TotRmsAbvGrd+BsmtHalfBath_log1p', 'TotRmsAbvGrd+KitchenAbvGr_log1p', 'TotRmsAbvGrd+WoodDeckSF_log1p', 'TotRmsAbvGrd+OpenPorchSF_log1p', 'TotRmsAbvGrd+EnclosedPorch_log1p', 'TotRmsAbvGrd+3SsnPorch_log1p', 'TotRmsAbvGrd+ScreenPorch_log1p', 'TotRmsAbvGrd+PoolArea_log1p', 'TotRmsAbvGrd+MiscVal_log1p', 'TotRmsAbvGrd+imp_feat_2_log1p', 'TotRmsAbvGrd+imp_feat_3_log1p', 'Fireplaces+GarageYrBlt', 'Fireplaces+GarageCars', 'Fireplaces+GarageArea', 'Fireplaces+MoSold', 'Fireplaces+YrSold', 'Fireplaces+TotalSF', 'Fireplaces+imp_feat_1', 'Fireplaces+imp_feat_4', 'Fireplaces+LotFrontage_log1p', 'Fireplaces+LotArea_log1p', 'Fireplaces+MasVnrArea_log1p', 'Fireplaces+BsmtFinSF2_log1p', 'Fireplaces+LowQualFinSF_log1p', 'Fireplaces+GrLivArea_log1p', 'Fireplaces+BsmtHalfBath_log1p', 'Fireplaces+KitchenAbvGr_log1p', 'Fireplaces+WoodDeckSF_log1p', 'Fireplaces+OpenPorchSF_log1p', 'Fireplaces+EnclosedPorch_log1p', 'Fireplaces+3SsnPorch_log1p', 'Fireplaces+ScreenPorch_log1p', 'Fireplaces+PoolArea_log1p', 'Fireplaces+MiscVal_log1p', 'Fireplaces+imp_feat_2_log1p', 'Fireplaces+imp_feat_3_log1p', 'GarageYrBlt+GarageCars', 'GarageYrBlt+GarageArea', 'GarageYrBlt+MoSold', 'GarageYrBlt+YrSold', 'GarageYrBlt+TotalSF', 'GarageYrBlt+imp_feat_1', 'GarageYrBlt+imp_feat_4', 'GarageYrBlt+LotFrontage_log1p', 'GarageYrBlt+LotArea_log1p', 'GarageYrBlt+MasVnrArea_log1p', 'GarageYrBlt+BsmtFinSF2_log1p', 'GarageYrBlt+LowQualFinSF_log1p', 'GarageYrBlt+GrLivArea_log1p', 'GarageYrBlt+BsmtHalfBath_log1p', 'GarageYrBlt+KitchenAbvGr_log1p', 'GarageYrBlt+WoodDeckSF_log1p', 'GarageYrBlt+OpenPorchSF_log1p', 'GarageYrBlt+EnclosedPorch_log1p', 'GarageYrBlt+3SsnPorch_log1p', 'GarageYrBlt+ScreenPorch_log1p', 'GarageYrBlt+PoolArea_log1p', 'GarageYrBlt+MiscVal_log1p', 'GarageYrBlt+imp_feat_2_log1p', 'GarageYrBlt+imp_feat_3_log1p', 'GarageCars+GarageArea', 'GarageCars+MoSold', 'GarageCars+YrSold', 'GarageCars+TotalSF', 'GarageCars+imp_feat_1', 'GarageCars+imp_feat_4', 'GarageCars+LotFrontage_log1p', 'GarageCars+LotArea_log1p', 'GarageCars+MasVnrArea_log1p', 'GarageCars+BsmtFinSF2_log1p', 'GarageCars+LowQualFinSF_log1p', 'GarageCars+GrLivArea_log1p', 'GarageCars+BsmtHalfBath_log1p', 'GarageCars+KitchenAbvGr_log1p', 'GarageCars+WoodDeckSF_log1p', 'GarageCars+OpenPorchSF_log1p', 'GarageCars+EnclosedPorch_log1p', 'GarageCars+3SsnPorch_log1p', 'GarageCars+ScreenPorch_log1p', 'GarageCars+PoolArea_log1p', 'GarageCars+MiscVal_log1p', 'GarageCars+imp_feat_2_log1p', 'GarageCars+imp_feat_3_log1p', 'GarageArea+MoSold', 'GarageArea+YrSold', 'GarageArea+TotalSF', 'GarageArea+imp_feat_1', 'GarageArea+imp_feat_4', 'GarageArea+LotFrontage_log1p', 'GarageArea+LotArea_log1p', 'GarageArea+MasVnrArea_log1p', 'GarageArea+BsmtFinSF2_log1p', 'GarageArea+LowQualFinSF_log1p', 'GarageArea+GrLivArea_log1p', 'GarageArea+BsmtHalfBath_log1p', 'GarageArea+KitchenAbvGr_log1p', 'GarageArea+WoodDeckSF_log1p', 'GarageArea+OpenPorchSF_log1p', 'GarageArea+EnclosedPorch_log1p', 'GarageArea+3SsnPorch_log1p', 'GarageArea+ScreenPorch_log1p', 'GarageArea+PoolArea_log1p', 'GarageArea+MiscVal_log1p', 'GarageArea+imp_feat_2_log1p', 'GarageArea+imp_feat_3_log1p', 'MoSold+YrSold', 'MoSold+TotalSF', 'MoSold+imp_feat_1', 'MoSold+imp_feat_4', 'MoSold+LotFrontage_log1p', 'MoSold+LotArea_log1p', 'MoSold+MasVnrArea_log1p', 'MoSold+BsmtFinSF2_log1p', 'MoSold+LowQualFinSF_log1p', 'MoSold+GrLivArea_log1p', 'MoSold+BsmtHalfBath_log1p', 'MoSold+KitchenAbvGr_log1p', 'MoSold+WoodDeckSF_log1p', 'MoSold+OpenPorchSF_log1p', 'MoSold+EnclosedPorch_log1p', 'MoSold+3SsnPorch_log1p', 'MoSold+ScreenPorch_log1p', 'MoSold+PoolArea_log1p', 'MoSold+MiscVal_log1p', 'MoSold+imp_feat_2_log1p', 'MoSold+imp_feat_3_log1p', 'YrSold+TotalSF', 'YrSold+imp_feat_1', 'YrSold+imp_feat_4', 'YrSold+LotFrontage_log1p', 'YrSold+LotArea_log1p', 'YrSold+MasVnrArea_log1p', 'YrSold+BsmtFinSF2_log1p', 'YrSold+LowQualFinSF_log1p', 'YrSold+GrLivArea_log1p', 'YrSold+BsmtHalfBath_log1p', 'YrSold+KitchenAbvGr_log1p', 'YrSold+WoodDeckSF_log1p', 'YrSold+OpenPorchSF_log1p', 'YrSold+EnclosedPorch_log1p', 'YrSold+3SsnPorch_log1p', 'YrSold+ScreenPorch_log1p', 'YrSold+PoolArea_log1p', 'YrSold+MiscVal_log1p', 'YrSold+imp_feat_2_log1p', 'YrSold+imp_feat_3_log1p', 'TotalSF+imp_feat_1', 'TotalSF+imp_feat_4', 'TotalSF+LotFrontage_log1p', 'TotalSF+LotArea_log1p', 'TotalSF+MasVnrArea_log1p', 'TotalSF+BsmtFinSF2_log1p', 'TotalSF+LowQualFinSF_log1p', 'TotalSF+GrLivArea_log1p', 'TotalSF+BsmtHalfBath_log1p', 'TotalSF+KitchenAbvGr_log1p', 'TotalSF+WoodDeckSF_log1p', 'TotalSF+OpenPorchSF_log1p', 'TotalSF+EnclosedPorch_log1p', 'TotalSF+3SsnPorch_log1p', 'TotalSF+ScreenPorch_log1p', 'TotalSF+PoolArea_log1p', 'TotalSF+MiscVal_log1p', 'TotalSF+imp_feat_2_log1p', 'TotalSF+imp_feat_3_log1p', 'imp_feat_1+imp_feat_4', 'imp_feat_1+LotFrontage_log1p', 'imp_feat_1+LotArea_log1p', 'imp_feat_1+MasVnrArea_log1p', 'imp_feat_1+BsmtFinSF2_log1p', 'imp_feat_1+LowQualFinSF_log1p', 'imp_feat_1+GrLivArea_log1p', 'imp_feat_1+BsmtHalfBath_log1p', 'imp_feat_1+KitchenAbvGr_log1p', 'imp_feat_1+WoodDeckSF_log1p', 'imp_feat_1+OpenPorchSF_log1p', 'imp_feat_1+EnclosedPorch_log1p', 'imp_feat_1+3SsnPorch_log1p', 'imp_feat_1+ScreenPorch_log1p', 'imp_feat_1+PoolArea_log1p', 'imp_feat_1+MiscVal_log1p', 'imp_feat_1+imp_feat_2_log1p', 'imp_feat_1+imp_feat_3_log1p', 'imp_feat_4+LotFrontage_log1p', 'imp_feat_4+LotArea_log1p', 'imp_feat_4+MasVnrArea_log1p', 'imp_feat_4+BsmtFinSF2_log1p', 'imp_feat_4+LowQualFinSF_log1p', 'imp_feat_4+GrLivArea_log1p', 'imp_feat_4+BsmtHalfBath_log1p', 'imp_feat_4+KitchenAbvGr_log1p', 'imp_feat_4+WoodDeckSF_log1p', 'imp_feat_4+OpenPorchSF_log1p', 'imp_feat_4+EnclosedPorch_log1p', 'imp_feat_4+3SsnPorch_log1p', 'imp_feat_4+ScreenPorch_log1p', 'imp_feat_4+PoolArea_log1p', 'imp_feat_4+MiscVal_log1p', 'imp_feat_4+imp_feat_2_log1p', 'imp_feat_4+imp_feat_3_log1p', 'LotFrontage_log1p+LotArea_log1p', 'LotFrontage_log1p+MasVnrArea_log1p', 'LotFrontage_log1p+BsmtFinSF2_log1p', 'LotFrontage_log1p+LowQualFinSF_log1p', 'LotFrontage_log1p+GrLivArea_log1p', 'LotFrontage_log1p+BsmtHalfBath_log1p', 'LotFrontage_log1p+KitchenAbvGr_log1p', 'LotFrontage_log1p+WoodDeckSF_log1p', 'LotFrontage_log1p+OpenPorchSF_log1p', 'LotFrontage_log1p+EnclosedPorch_log1p', 'LotFrontage_log1p+3SsnPorch_log1p', 'LotFrontage_log1p+ScreenPorch_log1p', 'LotFrontage_log1p+PoolArea_log1p', 'LotFrontage_log1p+MiscVal_log1p', 'LotFrontage_log1p+imp_feat_2_log1p', 'LotFrontage_log1p+imp_feat_3_log1p', 'LotArea_log1p+MasVnrArea_log1p', 'LotArea_log1p+BsmtFinSF2_log1p', 'LotArea_log1p+LowQualFinSF_log1p', 'LotArea_log1p+GrLivArea_log1p', 'LotArea_log1p+BsmtHalfBath_log1p', 'LotArea_log1p+KitchenAbvGr_log1p', 'LotArea_log1p+WoodDeckSF_log1p', 'LotArea_log1p+OpenPorchSF_log1p', 'LotArea_log1p+EnclosedPorch_log1p', 'LotArea_log1p+3SsnPorch_log1p', 'LotArea_log1p+ScreenPorch_log1p', 'LotArea_log1p+PoolArea_log1p', 'LotArea_log1p+MiscVal_log1p', 'LotArea_log1p+imp_feat_2_log1p', 'LotArea_log1p+imp_feat_3_log1p', 'MasVnrArea_log1p+BsmtFinSF2_log1p', 'MasVnrArea_log1p+LowQualFinSF_log1p', 'MasVnrArea_log1p+GrLivArea_log1p', 'MasVnrArea_log1p+BsmtHalfBath_log1p', 'MasVnrArea_log1p+KitchenAbvGr_log1p', 'MasVnrArea_log1p+WoodDeckSF_log1p', 'MasVnrArea_log1p+OpenPorchSF_log1p', 'MasVnrArea_log1p+EnclosedPorch_log1p', 'MasVnrArea_log1p+3SsnPorch_log1p', 'MasVnrArea_log1p+ScreenPorch_log1p', 'MasVnrArea_log1p+PoolArea_log1p', 'MasVnrArea_log1p+MiscVal_log1p', 'MasVnrArea_log1p+imp_feat_2_log1p', 'MasVnrArea_log1p+imp_feat_3_log1p', 'BsmtFinSF2_log1p+LowQualFinSF_log1p', 'BsmtFinSF2_log1p+GrLivArea_log1p', 'BsmtFinSF2_log1p+BsmtHalfBath_log1p', 'BsmtFinSF2_log1p+KitchenAbvGr_log1p', 'BsmtFinSF2_log1p+WoodDeckSF_log1p', 'BsmtFinSF2_log1p+OpenPorchSF_log1p', 'BsmtFinSF2_log1p+EnclosedPorch_log1p', 'BsmtFinSF2_log1p+3SsnPorch_log1p', 'BsmtFinSF2_log1p+ScreenPorch_log1p', 'BsmtFinSF2_log1p+PoolArea_log1p', 'BsmtFinSF2_log1p+MiscVal_log1p', 'BsmtFinSF2_log1p+imp_feat_2_log1p', 'BsmtFinSF2_log1p+imp_feat_3_log1p', 'LowQualFinSF_log1p+GrLivArea_log1p', 'LowQualFinSF_log1p+BsmtHalfBath_log1p', 'LowQualFinSF_log1p+KitchenAbvGr_log1p', 'LowQualFinSF_log1p+WoodDeckSF_log1p', 'LowQualFinSF_log1p+OpenPorchSF_log1p', 'LowQualFinSF_log1p+EnclosedPorch_log1p', 'LowQualFinSF_log1p+3SsnPorch_log1p', 'LowQualFinSF_log1p+ScreenPorch_log1p', 'LowQualFinSF_log1p+PoolArea_log1p', 'LowQualFinSF_log1p+MiscVal_log1p', 'LowQualFinSF_log1p+imp_feat_2_log1p', 'LowQualFinSF_log1p+imp_feat_3_log1p', 'GrLivArea_log1p+BsmtHalfBath_log1p', 'GrLivArea_log1p+KitchenAbvGr_log1p', 'GrLivArea_log1p+WoodDeckSF_log1p', 'GrLivArea_log1p+OpenPorchSF_log1p', 'GrLivArea_log1p+EnclosedPorch_log1p', 'GrLivArea_log1p+3SsnPorch_log1p', 'GrLivArea_log1p+ScreenPorch_log1p', 'GrLivArea_log1p+PoolArea_log1p', 'GrLivArea_log1p+MiscVal_log1p', 'GrLivArea_log1p+imp_feat_2_log1p', 'GrLivArea_log1p+imp_feat_3_log1p', 'BsmtHalfBath_log1p+KitchenAbvGr_log1p', 'BsmtHalfBath_log1p+WoodDeckSF_log1p', 'BsmtHalfBath_log1p+OpenPorchSF_log1p', 'BsmtHalfBath_log1p+EnclosedPorch_log1p', 'BsmtHalfBath_log1p+3SsnPorch_log1p', 'BsmtHalfBath_log1p+ScreenPorch_log1p', 'BsmtHalfBath_log1p+PoolArea_log1p', 'BsmtHalfBath_log1p+MiscVal_log1p', 'BsmtHalfBath_log1p+imp_feat_2_log1p', 'BsmtHalfBath_log1p+imp_feat_3_log1p', 'KitchenAbvGr_log1p+WoodDeckSF_log1p', 'KitchenAbvGr_log1p+OpenPorchSF_log1p', 'KitchenAbvGr_log1p+EnclosedPorch_log1p', 'KitchenAbvGr_log1p+3SsnPorch_log1p', 'KitchenAbvGr_log1p+ScreenPorch_log1p', 'KitchenAbvGr_log1p+PoolArea_log1p', 'KitchenAbvGr_log1p+MiscVal_log1p', 'KitchenAbvGr_log1p+imp_feat_2_log1p', 'KitchenAbvGr_log1p+imp_feat_3_log1p', 'WoodDeckSF_log1p+OpenPorchSF_log1p', 'WoodDeckSF_log1p+EnclosedPorch_log1p', 'WoodDeckSF_log1p+3SsnPorch_log1p', 'WoodDeckSF_log1p+ScreenPorch_log1p', 'WoodDeckSF_log1p+PoolArea_log1p', 'WoodDeckSF_log1p+MiscVal_log1p', 'WoodDeckSF_log1p+imp_feat_2_log1p', 'WoodDeckSF_log1p+imp_feat_3_log1p', 'OpenPorchSF_log1p+EnclosedPorch_log1p', 'OpenPorchSF_log1p+3SsnPorch_log1p', 'OpenPorchSF_log1p+ScreenPorch_log1p', 'OpenPorchSF_log1p+PoolArea_log1p', 'OpenPorchSF_log1p+MiscVal_log1p', 'OpenPorchSF_log1p+imp_feat_2_log1p', 'OpenPorchSF_log1p+imp_feat_3_log1p', 'EnclosedPorch_log1p+3SsnPorch_log1p', 'EnclosedPorch_log1p+ScreenPorch_log1p', 'EnclosedPorch_log1p+PoolArea_log1p', 'EnclosedPorch_log1p+MiscVal_log1p', 'EnclosedPorch_log1p+imp_feat_2_log1p', 'EnclosedPorch_log1p+imp_feat_3_log1p', '3SsnPorch_log1p+ScreenPorch_log1p', '3SsnPorch_log1p+PoolArea_log1p', '3SsnPorch_log1p+MiscVal_log1p', '3SsnPorch_log1p+imp_feat_2_log1p', '3SsnPorch_log1p+imp_feat_3_log1p', 'ScreenPorch_log1p+PoolArea_log1p', 'ScreenPorch_log1p+MiscVal_log1p', 'ScreenPorch_log1p+imp_feat_2_log1p', 'ScreenPorch_log1p+imp_feat_3_log1p', 'PoolArea_log1p+MiscVal_log1p', 'PoolArea_log1p+imp_feat_2_log1p', 'PoolArea_log1p+imp_feat_3_log1p', 'MiscVal_log1p+imp_feat_2_log1p', 'MiscVal_log1p+imp_feat_3_log1p', 'imp_feat_2_log1p+imp_feat_3_log1p', 'MSSubClass_120', 'MSSubClass_150', 'MSSubClass_160', 'MSSubClass_180', 'MSSubClass_190', 'MSSubClass_20', 'MSSubClass_30', 'MSSubClass_40', 'MSSubClass_45', 'MSSubClass_50', 'MSSubClass_60', 'MSSubClass_70', 'MSSubClass_75', 'MSSubClass_80', 'MSSubClass_85', 'MSSubClass_90', 'MSZoning_C (all)', 'MSZoning_FV', 'MSZoning_RH', 'MSZoning_RL', 'MSZoning_RM', 'Street_Grvl', 'Street_Pave', 'Alley_Grvl', 'Alley_None', 'Alley_Pave', 'LotShape_IR1', 'LotShape_IR2', 'LotShape_IR3', 'LotShape_Reg', 'LandContour_Bnk', 'LandContour_HLS', 'LandContour_Low', 'LandContour_Lvl', 'Utilities_AllPub', 'Utilities_NoSeWa', 'LotConfig_Corner', 'LotConfig_CulDSac', 'LotConfig_FR2', 'LotConfig_FR3', 'LotConfig_Inside', 'LandSlope_Gtl', 'LandSlope_Mod', 'LandSlope_Sev', 'Neighborhood_Blmngtn', 'Neighborhood_Blueste', 'Neighborhood_BrDale', 'Neighborhood_BrkSide', 'Neighborhood_ClearCr', 'Neighborhood_CollgCr', 'Neighborhood_Crawfor', 'Neighborhood_Edwards', 'Neighborhood_Gilbert', 'Neighborhood_IDOTRR', 'Neighborhood_MeadowV', 'Neighborhood_Mitchel', 'Neighborhood_NAmes', 'Neighborhood_NPkVill', 'Neighborhood_NWAmes', 'Neighborhood_NoRidge', 'Neighborhood_NridgHt', 'Neighborhood_OldTown', 'Neighborhood_SWISU', 'Neighborhood_Sawyer', 'Neighborhood_SawyerW', 'Neighborhood_Somerst', 'Neighborhood_StoneBr', 'Neighborhood_Timber', 'Neighborhood_Veenker', 'Condition1_Artery', 'Condition1_Feedr', 'Condition1_Norm', 'Condition1_PosA', 'Condition1_PosN', 'Condition1_RRAe', 'Condition1_RRAn', 'Condition1_RRNe', 'Condition1_RRNn', 'Condition2_Artery', 'Condition2_Feedr', 'Condition2_Norm', 'Condition2_PosA', 'Condition2_PosN', 'Condition2_RRAe', 'Condition2_RRAn', 'Condition2_RRNn', 'BldgType_1Fam', 'BldgType_2fmCon', 'BldgType_Duplex', 'BldgType_Twnhs', 'BldgType_TwnhsE', 'HouseStyle_1.5Fin', 'HouseStyle_1.5Unf', 'HouseStyle_1Story', 'HouseStyle_2.5Fin', 'HouseStyle_2.5Unf', 'HouseStyle_2Story', 'HouseStyle_SFoyer', 'HouseStyle_SLvl', 'RoofStyle_Flat', 'RoofStyle_Gable', 'RoofStyle_Gambrel', 'RoofStyle_Hip', 'RoofStyle_Mansard', 'RoofStyle_Shed', 'RoofMatl_CompShg', 'RoofMatl_Membran', 'RoofMatl_Metal', 'RoofMatl_Roll', 'RoofMatl_Tar&Grv', 'RoofMatl_WdShake', 'RoofMatl_WdShngl', 'Exterior1st_AsbShng', 'Exterior1st_AsphShn', 'Exterior1st_BrkComm', 'Exterior1st_BrkFace', 'Exterior1st_CBlock', 'Exterior1st_CemntBd', 'Exterior1st_HdBoard', 'Exterior1st_ImStucc', 'Exterior1st_MetalSd', 'Exterior1st_Plywood', 'Exterior1st_Stone', 'Exterior1st_Stucco', 'Exterior1st_VinylSd', 'Exterior1st_Wd Sdng', 'Exterior1st_WdShing', 'Exterior2nd_AsbShng', 'Exterior2nd_AsphShn', 'Exterior2nd_Brk Cmn', 'Exterior2nd_BrkFace', 'Exterior2nd_CBlock', 'Exterior2nd_CmentBd', 'Exterior2nd_HdBoard', 'Exterior2nd_ImStucc', 'Exterior2nd_MetalSd', 'Exterior2nd_Other', 'Exterior2nd_Plywood', 'Exterior2nd_Stone', 'Exterior2nd_Stucco', 'Exterior2nd_VinylSd', 'Exterior2nd_Wd Sdng', 'Exterior2nd_Wd Shng', 'MasVnrType_BrkCmn', 'MasVnrType_BrkFace', 'MasVnrType_None', 'MasVnrType_Stone', 'ExterQual_Ex', 'ExterQual_Fa', 'ExterQual_Gd', 'ExterQual_TA', 'ExterCond_Ex', 'ExterCond_Fa', 'ExterCond_Gd', 'ExterCond_Po', 'ExterCond_TA', 'Foundation_BrkTil', 'Foundation_CBlock', 'Foundation_PConc', 'Foundation_Slab', 'Foundation_Stone', 'Foundation_Wood', 'BsmtQual_Ex', 'BsmtQual_Fa', 'BsmtQual_Gd', 'BsmtQual_None', 'BsmtQual_TA', 'BsmtCond_Fa', 'BsmtCond_Gd', 'BsmtCond_None', 'BsmtCond_Po', 'BsmtCond_TA', 'BsmtExposure_Av', 'BsmtExposure_Gd', 'BsmtExposure_Mn', 'BsmtExposure_No', 'BsmtExposure_None', 'BsmtFinType1_ALQ', 'BsmtFinType1_BLQ', 'BsmtFinType1_GLQ', 'BsmtFinType1_LwQ', 'BsmtFinType1_None', 'BsmtFinType1_Rec', 'BsmtFinType1_Unf', 'BsmtFinType2_ALQ', 'BsmtFinType2_BLQ', 'BsmtFinType2_GLQ', 'BsmtFinType2_LwQ', 'BsmtFinType2_None', 'BsmtFinType2_Rec', 'BsmtFinType2_Unf', 'Heating_Floor', 'Heating_GasA', 'Heating_GasW', 'Heating_Grav', 'Heating_OthW', 'Heating_Wall', 'HeatingQC_Ex', 'HeatingQC_Fa', 'HeatingQC_Gd', 'HeatingQC_Po', 'HeatingQC_TA', 'CentralAir_N', 'CentralAir_Y', 'Electrical_FuseA', 'Electrical_FuseF', 'Electrical_FuseP', 'Electrical_Mix', 'Electrical_SBrkr', 'KitchenQual_Ex', 'KitchenQual_Fa', 'KitchenQual_Gd', 'KitchenQual_TA', 'Functional_Maj1', 'Functional_Maj2', 'Functional_Min1', 'Functional_Min2', 'Functional_Mod', 'Functional_Sev', 'Functional_Typ', 'FireplaceQu_Ex', 'FireplaceQu_Fa', 'FireplaceQu_Gd', 'FireplaceQu_None', 'FireplaceQu_Po', 'FireplaceQu_TA', 'GarageType_2Types', 'GarageType_Attchd', 'GarageType_Basment', 'GarageType_BuiltIn', 'GarageType_CarPort', 'GarageType_Detchd', 'GarageType_None', 'GarageFinish_Fin', 'GarageFinish_None', 'GarageFinish_RFn', 'GarageFinish_Unf', 'GarageQual_Ex', 'GarageQual_Fa', 'GarageQual_Gd', 'GarageQual_None', 'GarageQual_Po', 'GarageQual_TA', 'GarageCond_Ex', 'GarageCond_Fa', 'GarageCond_Gd', 'GarageCond_None', 'GarageCond_Po', 'GarageCond_TA', 'PavedDrive_N', 'PavedDrive_P', 'PavedDrive_Y', 'PoolQC_Ex', 'PoolQC_Fa', 'PoolQC_Gd', 'PoolQC_None', 'Fence_GdPrv', 'Fence_GdWo', 'Fence_MnPrv', 'Fence_MnWw', 'Fence_None', 'MiscFeature_Gar2', 'MiscFeature_None', 'MiscFeature_Othr', 'MiscFeature_Shed', 'MiscFeature_TenC', 'SaleType_COD', 'SaleType_CWD', 'SaleType_Con', 'SaleType_ConLD', 'SaleType_ConLI', 'SaleType_ConLw', 'SaleType_New', 'SaleType_Oth', 'SaleType_WD', 'SaleCondition_Abnorml', 'SaleCondition_AdjLand', 'SaleCondition_Alloca', 'SaleCondition_Family', 'SaleCondition_Normal', 'SaleCondition_Partial']\n"
     ]
    }
   ],
   "source": [
    "print(y)\n",
    "print(X)"
   ]
  },
  {
   "cell_type": "markdown",
   "metadata": {},
   "source": [
    "## Modeling"
   ]
  },
  {
   "cell_type": "markdown",
   "metadata": {},
   "source": [
    "### I. Linear Model"
   ]
  },
  {
   "cell_type": "code",
   "execution_count": 48,
   "metadata": {},
   "outputs": [
    {
     "name": "stdout",
     "output_type": "stream",
     "text": [
      "glm Model Build progress: |███████████████████████████████████████████████| 100%\n",
      "Model Details\n",
      "=============\n",
      "H2OGeneralizedLinearEstimator :  Generalized Linear Modeling\n",
      "Model Key:  glm1\n",
      "\n",
      "\n",
      "ModelMetricsRegressionGLM: glm\n",
      "** Reported on train data. **\n",
      "\n",
      "MSE: 0.0089439328963871\n",
      "RMSE: 0.09457236856707725\n",
      "MAE: 0.06867686629165777\n",
      "RMSLE: 0.007346687717667407\n",
      "R^2: 0.9437271674095523\n",
      "Mean Residual Deviance: 0.0089439328963871\n",
      "Null degrees of freedom: 1053\n",
      "Residual degrees of freedom: 956\n",
      "Null deviance: 167.5214279940782\n",
      "Residual deviance: 9.426905272792004\n",
      "AIC: -1782.363549965003\n",
      "\n",
      "ModelMetricsRegressionGLM: glm\n",
      "** Reported on validation data. **\n",
      "\n",
      "MSE: 0.0149807823277673\n",
      "RMSE: 0.12239600617572167\n",
      "MAE: 0.0806206278553582\n",
      "RMSLE: 0.009571271907004195\n",
      "R^2: 0.9071520138772271\n",
      "Mean Residual Deviance: 0.0149807823277673\n",
      "Null degrees of freedom: 403\n",
      "Residual degrees of freedom: 306\n",
      "Null deviance: 65.29448452986146\n",
      "Residual deviance: 6.052236060417989\n",
      "AIC: -352.6964444560432\n",
      "Scoring History: \n"
     ]
    },
    {
     "data": {
      "text/html": [
       "<div style=\"overflow:auto\"><table style=\"width:50%\"><tr><td><b></b></td>\n",
       "<td><b>timestamp</b></td>\n",
       "<td><b>duration</b></td>\n",
       "<td><b>iteration</b></td>\n",
       "<td><b>lambda</b></td>\n",
       "<td><b>predictors</b></td>\n",
       "<td><b>deviance_train</b></td>\n",
       "<td><b>deviance_test</b></td></tr>\n",
       "<tr><td></td>\n",
       "<td>2018-06-29 18:05:32</td>\n",
       "<td> 0.000 sec</td>\n",
       "<td>1</td>\n",
       "<td>.69E0</td>\n",
       "<td>1</td>\n",
       "<td>0.1589387</td>\n",
       "<td>0.1616200</td></tr>\n",
       "<tr><td></td>\n",
       "<td>2018-06-29 18:05:32</td>\n",
       "<td> 0.171 sec</td>\n",
       "<td>2</td>\n",
       "<td>.66E0</td>\n",
       "<td>6</td>\n",
       "<td>0.1490008</td>\n",
       "<td>0.1515875</td></tr>\n",
       "<tr><td></td>\n",
       "<td>2018-06-29 18:05:32</td>\n",
       "<td> 0.211 sec</td>\n",
       "<td>3</td>\n",
       "<td>.63E0</td>\n",
       "<td>7</td>\n",
       "<td>0.1389687</td>\n",
       "<td>0.1413781</td></tr>\n",
       "<tr><td></td>\n",
       "<td>2018-06-29 18:05:32</td>\n",
       "<td> 0.265 sec</td>\n",
       "<td>4</td>\n",
       "<td>.6E0</td>\n",
       "<td>7</td>\n",
       "<td>0.1296087</td>\n",
       "<td>0.1318573</td></tr>\n",
       "<tr><td></td>\n",
       "<td>2018-06-29 18:05:32</td>\n",
       "<td> 0.317 sec</td>\n",
       "<td>5</td>\n",
       "<td>.57E0</td>\n",
       "<td>7</td>\n",
       "<td>0.1210141</td>\n",
       "<td>0.1231075</td></tr>\n",
       "<tr><td>---</td>\n",
       "<td>---</td>\n",
       "<td>---</td>\n",
       "<td>---</td>\n",
       "<td>---</td>\n",
       "<td>---</td>\n",
       "<td>---</td>\n",
       "<td>---</td></tr>\n",
       "<tr><td></td>\n",
       "<td>2018-06-29 18:05:37</td>\n",
       "<td> 4.754 sec</td>\n",
       "<td>89</td>\n",
       "<td>.11E-1</td>\n",
       "<td>100</td>\n",
       "<td>0.0088278</td>\n",
       "<td>0.0149818</td></tr>\n",
       "<tr><td></td>\n",
       "<td>2018-06-29 18:05:37</td>\n",
       "<td> 4.836 sec</td>\n",
       "<td>90</td>\n",
       "<td>.11E-1</td>\n",
       "<td>105</td>\n",
       "<td>0.0087136</td>\n",
       "<td>0.0149874</td></tr>\n",
       "<tr><td></td>\n",
       "<td>2018-06-29 18:05:37</td>\n",
       "<td> 4.925 sec</td>\n",
       "<td>91</td>\n",
       "<td>.1E-1</td>\n",
       "<td>107</td>\n",
       "<td>0.0086023</td>\n",
       "<td>0.0149897</td></tr>\n",
       "<tr><td></td>\n",
       "<td>2018-06-29 18:05:37</td>\n",
       "<td> 5.014 sec</td>\n",
       "<td>92</td>\n",
       "<td>.1E-1</td>\n",
       "<td>115</td>\n",
       "<td>0.0084888</td>\n",
       "<td>0.0149963</td></tr>\n",
       "<tr><td></td>\n",
       "<td>2018-06-29 18:05:37</td>\n",
       "<td> 5.104 sec</td>\n",
       "<td>93</td>\n",
       "<td>.95E-2</td>\n",
       "<td>118</td>\n",
       "<td>0.0083808</td>\n",
       "<td>0.0150024</td></tr></table></div>"
      ],
      "text/plain": [
       "     timestamp            duration    iteration    lambda    predictors    deviance_train        deviance_test\n",
       "---  -------------------  ----------  -----------  --------  ------------  --------------------  --------------------\n",
       "     2018-06-29 18:05:32  0.000 sec   1            .69E0     1             0.15893873392518804   0.16162000638538004\n",
       "     2018-06-29 18:05:32  0.171 sec   2            .66E0     6             0.1490007945082309    0.15158754737481422\n",
       "     2018-06-29 18:05:32  0.211 sec   3            .63E0     7             0.1389687019472368    0.14137810299292566\n",
       "     2018-06-29 18:05:32  0.265 sec   4            .6E0      7             0.12960874231450373   0.13185725326544767\n",
       "     2018-06-29 18:05:32  0.317 sec   5            .57E0     7             0.12101410220580819   0.1231074942442626\n",
       "---  ---                  ---         ---          ---       ---           ---                   ---\n",
       "     2018-06-29 18:05:37  4.754 sec   89           .11E-1    100           0.008827753177632142  0.014981818148843673\n",
       "     2018-06-29 18:05:37  4.836 sec   90           .11E-1    105           0.008713594618703167  0.014987395998577816\n",
       "     2018-06-29 18:05:37  4.925 sec   91           .1E-1     107           0.00860227528469994   0.014989664248846185\n",
       "     2018-06-29 18:05:37  5.014 sec   92           .1E-1     115           0.008488757020754755  0.014996271376144702\n",
       "     2018-06-29 18:05:37  5.104 sec   93           .95E-2    118           0.008380796935910092  0.01500244703872345"
      ]
     },
     "metadata": {},
     "output_type": "display_data"
    },
    {
     "name": "stdout",
     "output_type": "stream",
     "text": [
      "\n",
      "See the whole table with table.as_data_frame()\n"
     ]
    },
    {
     "data": {
      "text/plain": []
     },
     "execution_count": 48,
     "metadata": {},
     "output_type": "execute_result"
    }
   ],
   "source": [
    "# Initialize linear model\n",
    "glm = H2OGeneralizedLinearEstimator(family='gaussian',\n",
    "                                         model_id='glm1',\n",
    "                                         solver='IRLSM',\n",
    "                                         standardize=True,\n",
    "                                         lambda_search=True)\n",
    "# Train the model\n",
    "glm.train(X, y, training_frame=train,\n",
    "         validation_frame=valid)\n",
    "\n",
    "# Print model information\n",
    "glm"
   ]
  },
  {
   "cell_type": "markdown",
   "metadata": {},
   "source": [
    "### II. Neural Network"
   ]
  },
  {
   "cell_type": "code",
   "execution_count": 49,
   "metadata": {
    "collapsed": true
   },
   "outputs": [],
   "source": [
    "# Imports\n",
    "from h2o.estimators.random_forest import H2ORandomForestEstimator\n",
    "from h2o.estimators.gbm import H2OGradientBoostingEstimator\n",
    "from h2o.estimators.stackedensemble import H2OStackedEnsembleEstimator"
   ]
  },
  {
   "cell_type": "code",
   "execution_count": 50,
   "metadata": {
    "scrolled": true
   },
   "outputs": [
    {
     "name": "stdout",
     "output_type": "stream",
     "text": [
      "deeplearning Model Build progress: |██████████████████████████████████████| 100%\n",
      "Model Details\n",
      "=============\n",
      "H2ODeepLearningEstimator :  Deep Learning\n",
      "Model Key:  nn_model\n",
      "\n",
      "\n",
      "ModelMetricsRegression: deeplearning\n",
      "** Reported on train data. **\n",
      "\n",
      "MSE: 0.014918382962846347\n",
      "RMSE: 0.12214083249612452\n",
      "MAE: 0.08503682378699037\n",
      "RMSLE: 0.00952972826423468\n",
      "Mean Residual Deviance: 0.014918382962846347\n",
      "\n",
      "ModelMetricsRegression: deeplearning\n",
      "** Reported on validation data. **\n",
      "\n",
      "MSE: 0.02041147299128086\n",
      "RMSE: 0.14286872642842752\n",
      "MAE: 0.10026559411044203\n",
      "RMSLE: 0.0110208494071444\n",
      "Mean Residual Deviance: 0.02041147299128086\n",
      "Scoring History: \n"
     ]
    },
    {
     "data": {
      "text/html": [
       "<div style=\"overflow:auto\"><table style=\"width:50%\"><tr><td><b></b></td>\n",
       "<td><b>timestamp</b></td>\n",
       "<td><b>duration</b></td>\n",
       "<td><b>training_speed</b></td>\n",
       "<td><b>epochs</b></td>\n",
       "<td><b>iterations</b></td>\n",
       "<td><b>samples</b></td>\n",
       "<td><b>training_rmse</b></td>\n",
       "<td><b>training_deviance</b></td>\n",
       "<td><b>training_mae</b></td>\n",
       "<td><b>validation_rmse</b></td>\n",
       "<td><b>validation_deviance</b></td>\n",
       "<td><b>validation_mae</b></td></tr>\n",
       "<tr><td></td>\n",
       "<td>2018-06-29 18:05:39</td>\n",
       "<td> 0.000 sec</td>\n",
       "<td>None</td>\n",
       "<td>0.0</td>\n",
       "<td>0</td>\n",
       "<td>0.0</td>\n",
       "<td>nan</td>\n",
       "<td>nan</td>\n",
       "<td>nan</td>\n",
       "<td>nan</td>\n",
       "<td>nan</td>\n",
       "<td>nan</td></tr>\n",
       "<tr><td></td>\n",
       "<td>2018-06-29 18:05:42</td>\n",
       "<td> 4.578 sec</td>\n",
       "<td>1375 obs/sec</td>\n",
       "<td>4.3026565</td>\n",
       "<td>1</td>\n",
       "<td>4535.0</td>\n",
       "<td>0.1546778</td>\n",
       "<td>0.0239252</td>\n",
       "<td>0.1216400</td>\n",
       "<td>0.1733844</td>\n",
       "<td>0.0300622</td>\n",
       "<td>0.1350443</td></tr>\n",
       "<tr><td></td>\n",
       "<td>2018-06-29 18:05:46</td>\n",
       "<td> 8.129 sec</td>\n",
       "<td>1368 obs/sec</td>\n",
       "<td>8.6641366</td>\n",
       "<td>2</td>\n",
       "<td>9132.0</td>\n",
       "<td>0.1563026</td>\n",
       "<td>0.0244305</td>\n",
       "<td>0.1209169</td>\n",
       "<td>0.1781328</td>\n",
       "<td>0.0317313</td>\n",
       "<td>0.1390687</td></tr>\n",
       "<tr><td></td>\n",
       "<td>2018-06-29 18:05:49</td>\n",
       "<td>11.446 sec</td>\n",
       "<td>1392 obs/sec</td>\n",
       "<td>12.9952562</td>\n",
       "<td>3</td>\n",
       "<td>13697.0</td>\n",
       "<td>0.1306036</td>\n",
       "<td>0.0170573</td>\n",
       "<td>0.0967987</td>\n",
       "<td>0.1518008</td>\n",
       "<td>0.0230435</td>\n",
       "<td>0.1108661</td></tr>\n",
       "<tr><td></td>\n",
       "<td>2018-06-29 18:05:53</td>\n",
       "<td>14.783 sec</td>\n",
       "<td>1403 obs/sec</td>\n",
       "<td>17.3074004</td>\n",
       "<td>4</td>\n",
       "<td>18242.0</td>\n",
       "<td>0.1221408</td>\n",
       "<td>0.0149184</td>\n",
       "<td>0.0850368</td>\n",
       "<td>0.1428687</td>\n",
       "<td>0.0204115</td>\n",
       "<td>0.1002656</td></tr>\n",
       "<tr><td></td>\n",
       "<td>2018-06-29 18:05:56</td>\n",
       "<td>18.374 sec</td>\n",
       "<td>1386 obs/sec</td>\n",
       "<td>21.6204934</td>\n",
       "<td>5</td>\n",
       "<td>22788.0</td>\n",
       "<td>0.1330027</td>\n",
       "<td>0.0176897</td>\n",
       "<td>0.0970225</td>\n",
       "<td>0.1503931</td>\n",
       "<td>0.0226181</td>\n",
       "<td>0.1099873</td></tr>\n",
       "<tr><td></td>\n",
       "<td>2018-06-29 18:06:00</td>\n",
       "<td>21.661 sec</td>\n",
       "<td>1397 obs/sec</td>\n",
       "<td>25.9421252</td>\n",
       "<td>6</td>\n",
       "<td>27343.0</td>\n",
       "<td>0.1280892</td>\n",
       "<td>0.0164069</td>\n",
       "<td>0.0919893</td>\n",
       "<td>0.1454387</td>\n",
       "<td>0.0211524</td>\n",
       "<td>0.1041119</td></tr>\n",
       "<tr><td></td>\n",
       "<td>2018-06-29 18:06:03</td>\n",
       "<td>25.041 sec</td>\n",
       "<td>1400 obs/sec</td>\n",
       "<td>30.2874763</td>\n",
       "<td>7</td>\n",
       "<td>31923.0</td>\n",
       "<td>0.1219454</td>\n",
       "<td>0.0148707</td>\n",
       "<td>0.0882986</td>\n",
       "<td>0.1465682</td>\n",
       "<td>0.0214822</td>\n",
       "<td>0.1072302</td></tr>\n",
       "<tr><td></td>\n",
       "<td>2018-06-29 18:06:06</td>\n",
       "<td>28.357 sec</td>\n",
       "<td>1404 obs/sec</td>\n",
       "<td>34.5834915</td>\n",
       "<td>8</td>\n",
       "<td>36451.0</td>\n",
       "<td>0.1253672</td>\n",
       "<td>0.0157169</td>\n",
       "<td>0.0891449</td>\n",
       "<td>0.1495957</td>\n",
       "<td>0.0223789</td>\n",
       "<td>0.1057874</td></tr>\n",
       "<tr><td></td>\n",
       "<td>2018-06-29 18:06:10</td>\n",
       "<td>31.634 sec</td>\n",
       "<td>1410 obs/sec</td>\n",
       "<td>38.9174573</td>\n",
       "<td>9</td>\n",
       "<td>41019.0</td>\n",
       "<td>0.1192196</td>\n",
       "<td>0.0142133</td>\n",
       "<td>0.0853851</td>\n",
       "<td>0.1448438</td>\n",
       "<td>0.0209797</td>\n",
       "<td>0.1057805</td></tr>\n",
       "<tr><td></td>\n",
       "<td>2018-06-29 18:06:13</td>\n",
       "<td>34.915 sec</td>\n",
       "<td>1415 obs/sec</td>\n",
       "<td>43.2447818</td>\n",
       "<td>10</td>\n",
       "<td>45580.0</td>\n",
       "<td>0.1217610</td>\n",
       "<td>0.0148257</td>\n",
       "<td>0.0874389</td>\n",
       "<td>0.1478617</td>\n",
       "<td>0.0218631</td>\n",
       "<td>0.1032421</td></tr>\n",
       "<tr><td></td>\n",
       "<td>2018-06-29 18:06:16</td>\n",
       "<td>38.177 sec</td>\n",
       "<td>1418 obs/sec</td>\n",
       "<td>47.5540797</td>\n",
       "<td>11</td>\n",
       "<td>50122.0</td>\n",
       "<td>0.1161505</td>\n",
       "<td>0.0134909</td>\n",
       "<td>0.0803767</td>\n",
       "<td>0.1429060</td>\n",
       "<td>0.0204221</td>\n",
       "<td>0.0991688</td></tr>\n",
       "<tr><td></td>\n",
       "<td>2018-06-29 18:06:20</td>\n",
       "<td>41.529 sec</td>\n",
       "<td>1418 obs/sec</td>\n",
       "<td>51.8576850</td>\n",
       "<td>12</td>\n",
       "<td>54658.0</td>\n",
       "<td>0.1159659</td>\n",
       "<td>0.0134481</td>\n",
       "<td>0.0820447</td>\n",
       "<td>0.1451960</td>\n",
       "<td>0.0210819</td>\n",
       "<td>0.1017129</td></tr>\n",
       "<tr><td></td>\n",
       "<td>2018-06-29 18:06:20</td>\n",
       "<td>41.728 sec</td>\n",
       "<td>1417 obs/sec</td>\n",
       "<td>51.8576850</td>\n",
       "<td>12</td>\n",
       "<td>54658.0</td>\n",
       "<td>0.1221408</td>\n",
       "<td>0.0149184</td>\n",
       "<td>0.0850368</td>\n",
       "<td>0.1428687</td>\n",
       "<td>0.0204115</td>\n",
       "<td>0.1002656</td></tr></table></div>"
      ],
      "text/plain": [
       "    timestamp            duration    training_speed    epochs    iterations    samples    training_rmse    training_deviance    training_mae    validation_rmse    validation_deviance    validation_mae\n",
       "--  -------------------  ----------  ----------------  --------  ------------  ---------  ---------------  -------------------  --------------  -----------------  ---------------------  ----------------\n",
       "    2018-06-29 18:05:39  0.000 sec                     0         0             0          nan              nan                  nan             nan                nan                    nan\n",
       "    2018-06-29 18:05:42  4.578 sec   1375 obs/sec      4.30266   1             4535       0.154678         0.0239252            0.12164         0.173384           0.0300622              0.135044\n",
       "    2018-06-29 18:05:46  8.129 sec   1368 obs/sec      8.66414   2             9132       0.156303         0.0244305            0.120917        0.178133           0.0317313              0.139069\n",
       "    2018-06-29 18:05:49  11.446 sec  1392 obs/sec      12.9953   3             13697      0.130604         0.0170573            0.0967987       0.151801           0.0230435              0.110866\n",
       "    2018-06-29 18:05:53  14.783 sec  1403 obs/sec      17.3074   4             18242      0.122141         0.0149184            0.0850368       0.142869           0.0204115              0.100266\n",
       "    2018-06-29 18:05:56  18.374 sec  1386 obs/sec      21.6205   5             22788      0.133003         0.0176897            0.0970225       0.150393           0.0226181              0.109987\n",
       "    2018-06-29 18:06:00  21.661 sec  1397 obs/sec      25.9421   6             27343      0.128089         0.0164069            0.0919893       0.145439           0.0211524              0.104112\n",
       "    2018-06-29 18:06:03  25.041 sec  1400 obs/sec      30.2875   7             31923      0.121945         0.0148707            0.0882986       0.146568           0.0214822              0.10723\n",
       "    2018-06-29 18:06:06  28.357 sec  1404 obs/sec      34.5835   8             36451      0.125367         0.0157169            0.0891449       0.149596           0.0223789              0.105787\n",
       "    2018-06-29 18:06:10  31.634 sec  1410 obs/sec      38.9175   9             41019      0.11922          0.0142133            0.0853851       0.144844           0.0209797              0.105781\n",
       "    2018-06-29 18:06:13  34.915 sec  1415 obs/sec      43.2448   10            45580      0.121761         0.0148257            0.0874389       0.147862           0.0218631              0.103242\n",
       "    2018-06-29 18:06:16  38.177 sec  1418 obs/sec      47.5541   11            50122      0.11615          0.0134909            0.0803767       0.142906           0.0204221              0.0991688\n",
       "    2018-06-29 18:06:20  41.529 sec  1418 obs/sec      51.8577   12            54658      0.115966         0.0134481            0.0820447       0.145196           0.0210819              0.101713\n",
       "    2018-06-29 18:06:20  41.728 sec  1417 obs/sec      51.8577   12            54658      0.122141         0.0149184            0.0850368       0.142869           0.0204115              0.100266"
      ]
     },
     "metadata": {},
     "output_type": "display_data"
    },
    {
     "name": "stdout",
     "output_type": "stream",
     "text": [
      "Variable Importances: \n"
     ]
    },
    {
     "data": {
      "text/html": [
       "<div style=\"overflow:auto\"><table style=\"width:50%\"><tr><td><b>variable</b></td>\n",
       "<td><b>relative_importance</b></td>\n",
       "<td><b>scaled_importance</b></td>\n",
       "<td><b>percentage</b></td></tr>\n",
       "<tr><td>SaleCondition_Abnorml</td>\n",
       "<td>1.0</td>\n",
       "<td>1.0</td>\n",
       "<td>0.0074335</td></tr>\n",
       "<tr><td>Neighborhood_Crawfor</td>\n",
       "<td>0.7708308</td>\n",
       "<td>0.7708308</td>\n",
       "<td>0.0057300</td></tr>\n",
       "<tr><td>OverallQual^3</td>\n",
       "<td>0.6287395</td>\n",
       "<td>0.6287395</td>\n",
       "<td>0.0046738</td></tr>\n",
       "<tr><td>KitchenQual_Ex</td>\n",
       "<td>0.6139218</td>\n",
       "<td>0.6139218</td>\n",
       "<td>0.0045636</td></tr>\n",
       "<tr><td>CentralAir_Y</td>\n",
       "<td>0.5632226</td>\n",
       "<td>0.5632226</td>\n",
       "<td>0.0041867</td></tr>\n",
       "<tr><td>---</td>\n",
       "<td>---</td>\n",
       "<td>---</td>\n",
       "<td>---</td></tr>\n",
       "<tr><td>ExterCond_Ex</td>\n",
       "<td>0.0052784</td>\n",
       "<td>0.0052784</td>\n",
       "<td>0.0000392</td></tr>\n",
       "<tr><td>PoolArea_log1p^3</td>\n",
       "<td>0.0040387</td>\n",
       "<td>0.0040387</td>\n",
       "<td>0.0000300</td></tr>\n",
       "<tr><td>SaleType_ConLw</td>\n",
       "<td>0.0040250</td>\n",
       "<td>0.0040250</td>\n",
       "<td>0.0000299</td></tr>\n",
       "<tr><td>Condition2_RRAe</td>\n",
       "<td>0.0035211</td>\n",
       "<td>0.0035211</td>\n",
       "<td>0.0000262</td></tr>\n",
       "<tr><td>SaleType_Oth</td>\n",
       "<td>0.0034269</td>\n",
       "<td>0.0034269</td>\n",
       "<td>0.0000255</td></tr></table></div>"
      ],
      "text/plain": [
       "variable               relative_importance    scaled_importance      percentage\n",
       "---------------------  ---------------------  ---------------------  ----------------------\n",
       "SaleCondition_Abnorml  1.0                    1.0                    0.007433547693716926\n",
       "Neighborhood_Crawfor   0.7708307504653931     0.7708307504653931     0.00573000714736811\n",
       "OverallQual^3          0.6287394762039185     0.6287394762039185     0.004673764883284426\n",
       "KitchenQual_Ex         0.6139218211174011     0.6139218211174011     0.004563617137489752\n",
       "CentralAir_Y           0.5632225871086121     0.5632225871086121     0.004186741963450504\n",
       "---                    ---                    ---                    ---\n",
       "ExterCond_Ex           0.005278439726680517   0.005278439726680517   3.923753345668976e-05\n",
       "PoolArea_log1p^3       0.004038681276142597   0.004038681276142597   3.0021729885927535e-05\n",
       "SaleType_ConLw         0.004025010857731104   0.004025010857731104   2.9920110178672634e-05\n",
       "Condition2_RRAe        0.003521137638017535   0.003521137638017535   2.6174544568345113e-05\n",
       "SaleType_Oth           0.0034269136376678944  0.0034269136376678944  2.5474125967853258e-05"
      ]
     },
     "metadata": {},
     "output_type": "display_data"
    },
    {
     "name": "stdout",
     "output_type": "stream",
     "text": [
      "\n",
      "See the whole table with table.as_data_frame()\n"
     ]
    },
    {
     "data": {
      "text/plain": []
     },
     "execution_count": 50,
     "metadata": {},
     "output_type": "execute_result"
    }
   ],
   "source": [
    "# Initialize nn model\n",
    "nn_model = H2ODeepLearningEstimator(\n",
    "    epochs=50,                    \n",
    "    hidden=[100],                 \n",
    "    input_dropout_ratio=0.2,      \n",
    "    hidden_dropout_ratios=[0.05], \n",
    "    activation='TanhWithDropout', \n",
    "    l1=0.001,                     \n",
    "    l2=0.01,                      \n",
    "    adaptive_rate=True,           \n",
    "    stopping_rounds=5,            \n",
    "    score_each_iteration=True,    \n",
    "    model_id='nn_model')          \n",
    "\n",
    "# Train nn model\n",
    "nn_model.train(\n",
    "    x=X,\n",
    "    y=y,\n",
    "    training_frame=train,\n",
    "    validation_frame=valid)\n",
    "\n",
    "# Print model information\n",
    "nn_model"
   ]
  },
  {
   "cell_type": "markdown",
   "metadata": {},
   "source": [
    "### III. Random Forest"
   ]
  },
  {
   "cell_type": "code",
   "execution_count": 51,
   "metadata": {},
   "outputs": [
    {
     "name": "stdout",
     "output_type": "stream",
     "text": [
      "drf Model Build progress: |███████████████████████████████████████████████| 100%\n",
      "Model Details\n",
      "=============\n",
      "H2ORandomForestEstimator :  Distributed Random Forest\n",
      "Model Key:  DRF_model_python_1530295503464_1\n",
      "\n",
      "\n",
      "ModelMetricsRegression: drf\n",
      "** Reported on train data. **\n",
      "\n",
      "MSE: 0.018034903342396217\n",
      "RMSE: 0.13429409273082796\n",
      "MAE: 0.09240507804166372\n",
      "RMSLE: 0.01049575218113301\n",
      "Mean Residual Deviance: 0.018034903342396217\n",
      "\n",
      "ModelMetricsRegression: drf\n",
      "** Reported on validation data. **\n",
      "\n",
      "MSE: 0.01713671237255296\n",
      "RMSE: 0.13090726630921967\n",
      "MAE: 0.08865691643529876\n",
      "RMSLE: 0.01014248143152478\n",
      "Mean Residual Deviance: 0.01713671237255296\n",
      "\n",
      "ModelMetricsRegression: drf\n",
      "** Reported on cross-validation data. **\n",
      "\n",
      "MSE: 0.019980690978662584\n",
      "RMSE: 0.14135307205244102\n",
      "MAE: 0.09677316513075719\n",
      "RMSLE: 0.011046329213449835\n",
      "Mean Residual Deviance: 0.019980690978662584\n",
      "Cross-Validation Metrics Summary: \n"
     ]
    },
    {
     "data": {
      "text/html": [
       "<div style=\"overflow:auto\"><table style=\"width:50%\"><tr><td><b></b></td>\n",
       "<td><b>mean</b></td>\n",
       "<td><b>sd</b></td>\n",
       "<td><b>cv_1_valid</b></td>\n",
       "<td><b>cv_2_valid</b></td>\n",
       "<td><b>cv_3_valid</b></td></tr>\n",
       "<tr><td>mae</td>\n",
       "<td>0.0967275</td>\n",
       "<td>0.0007691</td>\n",
       "<td>0.0953280</td>\n",
       "<td>0.0979802</td>\n",
       "<td>0.0968744</td></tr>\n",
       "<tr><td>mean_residual_deviance</td>\n",
       "<td>0.0199219</td>\n",
       "<td>0.0012344</td>\n",
       "<td>0.0195514</td>\n",
       "<td>0.0222211</td>\n",
       "<td>0.0179933</td></tr>\n",
       "<tr><td>mse</td>\n",
       "<td>0.0199219</td>\n",
       "<td>0.0012344</td>\n",
       "<td>0.0195514</td>\n",
       "<td>0.0222211</td>\n",
       "<td>0.0179933</td></tr>\n",
       "<tr><td>r2</td>\n",
       "<td>0.8742585</td>\n",
       "<td>0.0041669</td>\n",
       "<td>0.8805966</td>\n",
       "<td>0.8664033</td>\n",
       "<td>0.8757756</td></tr>\n",
       "<tr><td>residual_deviance</td>\n",
       "<td>0.0199219</td>\n",
       "<td>0.0012344</td>\n",
       "<td>0.0195514</td>\n",
       "<td>0.0222211</td>\n",
       "<td>0.0179933</td></tr>\n",
       "<tr><td>rmse</td>\n",
       "<td>0.1410110</td>\n",
       "<td>0.0043500</td>\n",
       "<td>0.1398263</td>\n",
       "<td>0.1490675</td>\n",
       "<td>0.1341392</td></tr>\n",
       "<tr><td>rmsle</td>\n",
       "<td>0.0110120</td>\n",
       "<td>0.0004063</td>\n",
       "<td>0.0109083</td>\n",
       "<td>0.0117618</td>\n",
       "<td>0.0103660</td></tr></table></div>"
      ],
      "text/plain": [
       "                        mean       sd           cv_1_valid    cv_2_valid    cv_3_valid\n",
       "----------------------  ---------  -----------  ------------  ------------  ------------\n",
       "mae                     0.0967275  0.000769149  0.095328      0.0979802     0.0968744\n",
       "mean_residual_deviance  0.0199219  0.00123444   0.0195514     0.0222211     0.0179933\n",
       "mse                     0.0199219  0.00123444   0.0195514     0.0222211     0.0179933\n",
       "r2                      0.874259   0.0041669    0.880597      0.866403      0.875776\n",
       "residual_deviance       0.0199219  0.00123444   0.0195514     0.0222211     0.0179933\n",
       "rmse                    0.141011   0.00434995   0.139826      0.149067      0.134139\n",
       "rmsle                   0.011012   0.000406262  0.0109083     0.0117618     0.010366"
      ]
     },
     "metadata": {},
     "output_type": "display_data"
    },
    {
     "name": "stdout",
     "output_type": "stream",
     "text": [
      "Scoring History: \n"
     ]
    },
    {
     "data": {
      "text/html": [
       "<div style=\"overflow:auto\"><table style=\"width:50%\"><tr><td><b></b></td>\n",
       "<td><b>timestamp</b></td>\n",
       "<td><b>duration</b></td>\n",
       "<td><b>number_of_trees</b></td>\n",
       "<td><b>training_rmse</b></td>\n",
       "<td><b>training_mae</b></td>\n",
       "<td><b>training_deviance</b></td>\n",
       "<td><b>validation_rmse</b></td>\n",
       "<td><b>validation_mae</b></td>\n",
       "<td><b>validation_deviance</b></td></tr>\n",
       "<tr><td></td>\n",
       "<td>2018-06-29 18:08:09</td>\n",
       "<td> 1 min 48.493 sec</td>\n",
       "<td>0.0</td>\n",
       "<td>nan</td>\n",
       "<td>nan</td>\n",
       "<td>nan</td>\n",
       "<td>nan</td>\n",
       "<td>nan</td>\n",
       "<td>nan</td></tr>\n",
       "<tr><td></td>\n",
       "<td>2018-06-29 18:08:09</td>\n",
       "<td> 1 min 48.661 sec</td>\n",
       "<td>1.0</td>\n",
       "<td>0.1984669</td>\n",
       "<td>0.1417323</td>\n",
       "<td>0.0393891</td>\n",
       "<td>0.2127482</td>\n",
       "<td>0.1435755</td>\n",
       "<td>0.0452618</td></tr>\n",
       "<tr><td></td>\n",
       "<td>2018-06-29 18:08:09</td>\n",
       "<td> 1 min 48.820 sec</td>\n",
       "<td>2.0</td>\n",
       "<td>0.1860208</td>\n",
       "<td>0.1339107</td>\n",
       "<td>0.0346037</td>\n",
       "<td>0.1716216</td>\n",
       "<td>0.1192145</td>\n",
       "<td>0.0294540</td></tr>\n",
       "<tr><td></td>\n",
       "<td>2018-06-29 18:08:09</td>\n",
       "<td> 1 min 48.979 sec</td>\n",
       "<td>3.0</td>\n",
       "<td>0.1755133</td>\n",
       "<td>0.1285827</td>\n",
       "<td>0.0308049</td>\n",
       "<td>0.1569867</td>\n",
       "<td>0.1087050</td>\n",
       "<td>0.0246448</td></tr>\n",
       "<tr><td></td>\n",
       "<td>2018-06-29 18:08:10</td>\n",
       "<td> 1 min 49.134 sec</td>\n",
       "<td>4.0</td>\n",
       "<td>0.1765075</td>\n",
       "<td>0.1298944</td>\n",
       "<td>0.0311549</td>\n",
       "<td>0.1546426</td>\n",
       "<td>0.1075228</td>\n",
       "<td>0.0239143</td></tr>\n",
       "<tr><td>---</td>\n",
       "<td>---</td>\n",
       "<td>---</td>\n",
       "<td>---</td>\n",
       "<td>---</td>\n",
       "<td>---</td>\n",
       "<td>---</td>\n",
       "<td>---</td>\n",
       "<td>---</td>\n",
       "<td>---</td></tr>\n",
       "<tr><td></td>\n",
       "<td>2018-06-29 18:08:52</td>\n",
       "<td> 2 min 32.087 sec</td>\n",
       "<td>224.0</td>\n",
       "<td>0.1342967</td>\n",
       "<td>0.0923555</td>\n",
       "<td>0.0180356</td>\n",
       "<td>0.1309982</td>\n",
       "<td>0.0887661</td>\n",
       "<td>0.0171605</td></tr>\n",
       "<tr><td></td>\n",
       "<td>2018-06-29 18:08:53</td>\n",
       "<td> 2 min 32.321 sec</td>\n",
       "<td>225.0</td>\n",
       "<td>0.1343639</td>\n",
       "<td>0.0924515</td>\n",
       "<td>0.0180536</td>\n",
       "<td>0.1309699</td>\n",
       "<td>0.0887081</td>\n",
       "<td>0.0171531</td></tr>\n",
       "<tr><td></td>\n",
       "<td>2018-06-29 18:08:53</td>\n",
       "<td> 2 min 32.566 sec</td>\n",
       "<td>226.0</td>\n",
       "<td>0.1342685</td>\n",
       "<td>0.0923878</td>\n",
       "<td>0.0180280</td>\n",
       "<td>0.1309229</td>\n",
       "<td>0.0887010</td>\n",
       "<td>0.0171408</td></tr>\n",
       "<tr><td></td>\n",
       "<td>2018-06-29 18:08:53</td>\n",
       "<td> 2 min 32.807 sec</td>\n",
       "<td>227.0</td>\n",
       "<td>0.1342343</td>\n",
       "<td>0.0923584</td>\n",
       "<td>0.0180189</td>\n",
       "<td>0.1309419</td>\n",
       "<td>0.0886568</td>\n",
       "<td>0.0171458</td></tr>\n",
       "<tr><td></td>\n",
       "<td>2018-06-29 18:08:53</td>\n",
       "<td> 2 min 33.046 sec</td>\n",
       "<td>228.0</td>\n",
       "<td>0.1342941</td>\n",
       "<td>0.0924051</td>\n",
       "<td>0.0180349</td>\n",
       "<td>0.1309073</td>\n",
       "<td>0.0886569</td>\n",
       "<td>0.0171367</td></tr></table></div>"
      ],
      "text/plain": [
       "     timestamp            duration          number_of_trees    training_rmse        training_mae         training_deviance     validation_rmse      validation_mae       validation_deviance\n",
       "---  -------------------  ----------------  -----------------  -------------------  -------------------  --------------------  -------------------  -------------------  ---------------------\n",
       "     2018-06-29 18:08:09  1 min 48.493 sec  0.0                nan                  nan                  nan                   nan                  nan                  nan\n",
       "     2018-06-29 18:08:09  1 min 48.661 sec  1.0                0.1984669309258836   0.14173229609694438  0.039389122671139455  0.21274819070563875  0.1435754912914616   0.045261792648522835\n",
       "     2018-06-29 18:08:09  1 min 48.820 sec  2.0                0.1860208240200256   0.1339107466138099   0.03460374696908933   0.17162162835151026  0.11921447338444172  0.029453983318023916\n",
       "     2018-06-29 18:08:09  1 min 48.979 sec  3.0                0.17551331361039182  0.12858274841308595  0.030804923254499756  0.1569867220054529   0.1087049808439248   0.024644830886017356\n",
       "     2018-06-29 18:08:10  1 min 49.134 sec  4.0                0.17650749734497095  0.12989442094733816  0.031154896618984927  0.15464264360731286  0.10752284349781452  0.02391434722185838\n",
       "---  ---                  ---               ---                ---                  ---                  ---                   ---                  ---                  ---\n",
       "     2018-06-29 18:08:52  2 min 32.087 sec  224.0              0.13429666429895085  0.09235546712652774  0.018035594041825097  0.13099824647012265  0.08876611073165501  0.017160540578246997\n",
       "     2018-06-29 18:08:53  2 min 32.321 sec  225.0              0.13436385242293372  0.09245154812828849  0.01805364483793191   0.13096992599111715  0.08870806915400709  0.017153121514118703\n",
       "     2018-06-29 18:08:53  2 min 32.566 sec  226.0              0.13426847877333406  0.09238775314975882  0.018028024392105258  0.13092285822529517  0.0887009686177822   0.017140794805880738\n",
       "     2018-06-29 18:08:53  2 min 32.807 sec  227.0              0.13423431100188274  0.09235844968590588  0.018018850250150174  0.13094193952402958  0.0886567898685125   0.017145791526314617\n",
       "     2018-06-29 18:08:53  2 min 33.046 sec  228.0              0.13429409273082796  0.09240507804166372  0.018034903342396217  0.13090726630921967  0.08865691643529876  0.01713671237255296"
      ]
     },
     "metadata": {},
     "output_type": "display_data"
    },
    {
     "name": "stdout",
     "output_type": "stream",
     "text": [
      "\n",
      "See the whole table with table.as_data_frame()\n",
      "Variable Importances: \n"
     ]
    },
    {
     "data": {
      "text/html": [
       "<div style=\"overflow:auto\"><table style=\"width:50%\"><tr><td><b>variable</b></td>\n",
       "<td><b>relative_importance</b></td>\n",
       "<td><b>scaled_importance</b></td>\n",
       "<td><b>percentage</b></td></tr>\n",
       "<tr><td>OverallQual+GrLivArea_log1p</td>\n",
       "<td>2393.3637695</td>\n",
       "<td>1.0</td>\n",
       "<td>0.0708725</td></tr>\n",
       "<tr><td>OverallQual+imp_feat_3_log1p</td>\n",
       "<td>2085.9213867</td>\n",
       "<td>0.8715438</td>\n",
       "<td>0.0617685</td></tr>\n",
       "<tr><td>OverallQual+imp_feat_2_log1p</td>\n",
       "<td>1850.2829590</td>\n",
       "<td>0.7730889</td>\n",
       "<td>0.0547907</td></tr>\n",
       "<tr><td>GarageArea+TotalSF</td>\n",
       "<td>1347.6459961</td>\n",
       "<td>0.5630761</td>\n",
       "<td>0.0399066</td></tr>\n",
       "<tr><td>OverallQual+GarageCars</td>\n",
       "<td>1241.4197998</td>\n",
       "<td>0.5186925</td>\n",
       "<td>0.0367610</td></tr>\n",
       "<tr><td>---</td>\n",
       "<td>---</td>\n",
       "<td>---</td>\n",
       "<td>---</td></tr>\n",
       "<tr><td>GarageType_2Types</td>\n",
       "<td>0.0</td>\n",
       "<td>0.0</td>\n",
       "<td>0.0</td></tr>\n",
       "<tr><td>PoolQC_Gd</td>\n",
       "<td>0.0</td>\n",
       "<td>0.0</td>\n",
       "<td>0.0</td></tr>\n",
       "<tr><td>PoolQC_None</td>\n",
       "<td>0.0</td>\n",
       "<td>0.0</td>\n",
       "<td>0.0</td></tr>\n",
       "<tr><td>MiscFeature_Gar2</td>\n",
       "<td>0.0</td>\n",
       "<td>0.0</td>\n",
       "<td>0.0</td></tr>\n",
       "<tr><td>MiscFeature_TenC</td>\n",
       "<td>0.0</td>\n",
       "<td>0.0</td>\n",
       "<td>0.0</td></tr></table></div>"
      ],
      "text/plain": [
       "variable                      relative_importance    scaled_importance    percentage\n",
       "----------------------------  ---------------------  -------------------  -------------------\n",
       "OverallQual+GrLivArea_log1p   2393.36376953125       1.0                  0.07087247367637918\n",
       "OverallQual+imp_feat_3_log1p  2085.92138671875       0.8715438134702299   0.06176846597797999\n",
       "OverallQual+imp_feat_2_log1p  1850.282958984375      0.7730888979516726   0.0547907225695809\n",
       "GarageArea+TotalSF            1347.64599609375       0.5630761245950054   0.03990659781815713\n",
       "OverallQual+GarageCars        1241.4197998046875     0.5186924844474539   0.03676101945013789\n",
       "---                           ---                    ---                  ---\n",
       "GarageType_2Types             0.0                    0.0                  0.0\n",
       "PoolQC_Gd                     0.0                    0.0                  0.0\n",
       "PoolQC_None                   0.0                    0.0                  0.0\n",
       "MiscFeature_Gar2              0.0                    0.0                  0.0\n",
       "MiscFeature_TenC              0.0                    0.0                  0.0"
      ]
     },
     "metadata": {},
     "output_type": "display_data"
    },
    {
     "name": "stdout",
     "output_type": "stream",
     "text": [
      "\n",
      "See the whole table with table.as_data_frame()\n",
      "\n"
     ]
    }
   ],
   "source": [
    "# Initialize rf model\n",
    "rf_model1 = H2ORandomForestEstimator(\n",
    "    ntrees=10000,                    \n",
    "    max_depth=10, \n",
    "    col_sample_rate_per_tree=0.1,\n",
    "    sample_rate=0.8,\n",
    "    stopping_rounds=50,\n",
    "    score_each_iteration=True,\n",
    "    nfolds=3,\n",
    "    keep_cross_validation_predictions=True,\n",
    "    seed=12345)           \n",
    "\n",
    "# Train rf model\n",
    "rf_model1.train(\n",
    "    x=X,\n",
    "    y=y,\n",
    "    training_frame=train,\n",
    "    validation_frame=valid)\n",
    "\n",
    "# Print model information\n",
    "print(rf_model1)"
   ]
  },
  {
   "cell_type": "markdown",
   "metadata": {},
   "source": [
    "### IV. Extremely Random Forest"
   ]
  },
  {
   "cell_type": "code",
   "execution_count": 52,
   "metadata": {},
   "outputs": [
    {
     "name": "stdout",
     "output_type": "stream",
     "text": [
      "drf Model Build progress: |███████████████████████████████████████████████| 100%\n",
      "Model Details\n",
      "=============\n",
      "H2ORandomForestEstimator :  Distributed Random Forest\n",
      "Model Key:  DRF_model_python_1530295503464_2\n",
      "\n",
      "\n",
      "ModelMetricsRegression: drf\n",
      "** Reported on train data. **\n",
      "\n",
      "MSE: 0.01830675402906518\n",
      "RMSE: 0.13530245389151366\n",
      "MAE: 0.09337319817859195\n",
      "RMSLE: 0.010580492093585147\n",
      "Mean Residual Deviance: 0.01830675402906518\n",
      "\n",
      "ModelMetricsRegression: drf\n",
      "** Reported on validation data. **\n",
      "\n",
      "MSE: 0.01716188036794908\n",
      "RMSE: 0.1310033601399181\n",
      "MAE: 0.0883235624797177\n",
      "RMSLE: 0.010149836520584819\n",
      "Mean Residual Deviance: 0.01716188036794908\n",
      "\n",
      "ModelMetricsRegression: drf\n",
      "** Reported on cross-validation data. **\n",
      "\n",
      "MSE: 0.019886261785472138\n",
      "RMSE: 0.14101865757931514\n",
      "MAE: 0.09643839137477145\n",
      "RMSLE: 0.011020620403921731\n",
      "Mean Residual Deviance: 0.019886261785472138\n",
      "Cross-Validation Metrics Summary: \n"
     ]
    },
    {
     "data": {
      "text/html": [
       "<div style=\"overflow:auto\"><table style=\"width:50%\"><tr><td><b></b></td>\n",
       "<td><b>mean</b></td>\n",
       "<td><b>sd</b></td>\n",
       "<td><b>cv_1_valid</b></td>\n",
       "<td><b>cv_2_valid</b></td>\n",
       "<td><b>cv_3_valid</b></td></tr>\n",
       "<tr><td>mae</td>\n",
       "<td>0.0963724</td>\n",
       "<td>0.0011187</td>\n",
       "<td>0.0943176</td>\n",
       "<td>0.0981665</td>\n",
       "<td>0.0966333</td></tr>\n",
       "<tr><td>mean_residual_deviance</td>\n",
       "<td>0.0198186</td>\n",
       "<td>0.0014323</td>\n",
       "<td>0.0194144</td>\n",
       "<td>0.0224767</td>\n",
       "<td>0.0175647</td></tr>\n",
       "<tr><td>mse</td>\n",
       "<td>0.0198186</td>\n",
       "<td>0.0014323</td>\n",
       "<td>0.0194144</td>\n",
       "<td>0.0224767</td>\n",
       "<td>0.0175647</td></tr>\n",
       "<tr><td>r2</td>\n",
       "<td>0.8750114</td>\n",
       "<td>0.0051318</td>\n",
       "<td>0.8814331</td>\n",
       "<td>0.8648668</td>\n",
       "<td>0.8787344</td></tr>\n",
       "<tr><td>residual_deviance</td>\n",
       "<td>0.0198186</td>\n",
       "<td>0.0014323</td>\n",
       "<td>0.0194144</td>\n",
       "<td>0.0224767</td>\n",
       "<td>0.0175647</td></tr>\n",
       "<tr><td>rmse</td>\n",
       "<td>0.1405966</td>\n",
       "<td>0.0050595</td>\n",
       "<td>0.1393357</td>\n",
       "<td>0.1499222</td>\n",
       "<td>0.1325321</td></tr>\n",
       "<tr><td>rmsle</td>\n",
       "<td>0.0109794</td>\n",
       "<td>0.0004614</td>\n",
       "<td>0.0108683</td>\n",
       "<td>0.0118283</td>\n",
       "<td>0.0102415</td></tr></table></div>"
      ],
      "text/plain": [
       "                        mean       sd           cv_1_valid    cv_2_valid    cv_3_valid\n",
       "----------------------  ---------  -----------  ------------  ------------  ------------\n",
       "mae                     0.0963724  0.00111872   0.0943176     0.0981665     0.0966333\n",
       "mean_residual_deviance  0.0198186  0.00143228   0.0194144     0.0224767     0.0175647\n",
       "mse                     0.0198186  0.00143228   0.0194144     0.0224767     0.0175647\n",
       "r2                      0.875011   0.0051318    0.881433      0.864867      0.878734\n",
       "residual_deviance       0.0198186  0.00143228   0.0194144     0.0224767     0.0175647\n",
       "rmse                    0.140597   0.00505955   0.139336      0.149922      0.132532\n",
       "rmsle                   0.0109794  0.000461417  0.0108683     0.0118283     0.0102415"
      ]
     },
     "metadata": {},
     "output_type": "display_data"
    },
    {
     "name": "stdout",
     "output_type": "stream",
     "text": [
      "Scoring History: \n"
     ]
    },
    {
     "data": {
      "text/html": [
       "<div style=\"overflow:auto\"><table style=\"width:50%\"><tr><td><b></b></td>\n",
       "<td><b>timestamp</b></td>\n",
       "<td><b>duration</b></td>\n",
       "<td><b>number_of_trees</b></td>\n",
       "<td><b>training_rmse</b></td>\n",
       "<td><b>training_mae</b></td>\n",
       "<td><b>training_deviance</b></td>\n",
       "<td><b>validation_rmse</b></td>\n",
       "<td><b>validation_mae</b></td>\n",
       "<td><b>validation_deviance</b></td></tr>\n",
       "<tr><td></td>\n",
       "<td>2018-06-29 18:10:22</td>\n",
       "<td> 1 min 27.812 sec</td>\n",
       "<td>0.0</td>\n",
       "<td>nan</td>\n",
       "<td>nan</td>\n",
       "<td>nan</td>\n",
       "<td>nan</td>\n",
       "<td>nan</td>\n",
       "<td>nan</td></tr>\n",
       "<tr><td></td>\n",
       "<td>2018-06-29 18:10:22</td>\n",
       "<td> 1 min 28.020 sec</td>\n",
       "<td>1.0</td>\n",
       "<td>0.2065737</td>\n",
       "<td>0.1397325</td>\n",
       "<td>0.0426727</td>\n",
       "<td>0.2262007</td>\n",
       "<td>0.1451406</td>\n",
       "<td>0.0511668</td></tr>\n",
       "<tr><td></td>\n",
       "<td>2018-06-29 18:10:22</td>\n",
       "<td> 1 min 28.199 sec</td>\n",
       "<td>2.0</td>\n",
       "<td>0.1831120</td>\n",
       "<td>0.1290449</td>\n",
       "<td>0.0335300</td>\n",
       "<td>0.1728333</td>\n",
       "<td>0.1208772</td>\n",
       "<td>0.0298714</td></tr>\n",
       "<tr><td></td>\n",
       "<td>2018-06-29 18:10:23</td>\n",
       "<td> 1 min 28.378 sec</td>\n",
       "<td>3.0</td>\n",
       "<td>0.1659655</td>\n",
       "<td>0.1219131</td>\n",
       "<td>0.0275445</td>\n",
       "<td>0.1621132</td>\n",
       "<td>0.1125199</td>\n",
       "<td>0.0262807</td></tr>\n",
       "<tr><td></td>\n",
       "<td>2018-06-29 18:10:23</td>\n",
       "<td> 1 min 28.555 sec</td>\n",
       "<td>4.0</td>\n",
       "<td>0.1685295</td>\n",
       "<td>0.1243530</td>\n",
       "<td>0.0284022</td>\n",
       "<td>0.1582890</td>\n",
       "<td>0.1102539</td>\n",
       "<td>0.0250554</td></tr>\n",
       "<tr><td>---</td>\n",
       "<td>---</td>\n",
       "<td>---</td>\n",
       "<td>---</td>\n",
       "<td>---</td>\n",
       "<td>---</td>\n",
       "<td>---</td>\n",
       "<td>---</td>\n",
       "<td>---</td>\n",
       "<td>---</td></tr>\n",
       "<tr><td></td>\n",
       "<td>2018-06-29 18:10:56</td>\n",
       "<td> 2 min  1.957 sec</td>\n",
       "<td>167.0</td>\n",
       "<td>0.1353559</td>\n",
       "<td>0.0934646</td>\n",
       "<td>0.0183212</td>\n",
       "<td>0.1309785</td>\n",
       "<td>0.0884130</td>\n",
       "<td>0.0171554</td></tr>\n",
       "<tr><td></td>\n",
       "<td>2018-06-29 18:10:56</td>\n",
       "<td> 2 min  2.191 sec</td>\n",
       "<td>168.0</td>\n",
       "<td>0.1353448</td>\n",
       "<td>0.0934354</td>\n",
       "<td>0.0183182</td>\n",
       "<td>0.1309712</td>\n",
       "<td>0.0883174</td>\n",
       "<td>0.0171534</td></tr>\n",
       "<tr><td></td>\n",
       "<td>2018-06-29 18:10:57</td>\n",
       "<td> 2 min  2.429 sec</td>\n",
       "<td>169.0</td>\n",
       "<td>0.1353476</td>\n",
       "<td>0.0933885</td>\n",
       "<td>0.0183190</td>\n",
       "<td>0.1310133</td>\n",
       "<td>0.0883330</td>\n",
       "<td>0.0171645</td></tr>\n",
       "<tr><td></td>\n",
       "<td>2018-06-29 18:10:57</td>\n",
       "<td> 2 min  2.667 sec</td>\n",
       "<td>170.0</td>\n",
       "<td>0.1353410</td>\n",
       "<td>0.0934267</td>\n",
       "<td>0.0183172</td>\n",
       "<td>0.1310017</td>\n",
       "<td>0.0883362</td>\n",
       "<td>0.0171614</td></tr>\n",
       "<tr><td></td>\n",
       "<td>2018-06-29 18:10:57</td>\n",
       "<td> 2 min  2.910 sec</td>\n",
       "<td>171.0</td>\n",
       "<td>0.1353025</td>\n",
       "<td>0.0933732</td>\n",
       "<td>0.0183068</td>\n",
       "<td>0.1310034</td>\n",
       "<td>0.0883236</td>\n",
       "<td>0.0171619</td></tr></table></div>"
      ],
      "text/plain": [
       "     timestamp            duration          number_of_trees    training_rmse        training_mae         training_deviance     validation_rmse      validation_mae       validation_deviance\n",
       "---  -------------------  ----------------  -----------------  -------------------  -------------------  --------------------  -------------------  -------------------  ---------------------\n",
       "     2018-06-29 18:10:22  1 min 27.812 sec  0.0                nan                  nan                  nan                   nan                  nan                  nan\n",
       "     2018-06-29 18:10:22  1 min 28.020 sec  1.0                0.20657373035192905  0.13973253464030327  0.04267270607151149   0.2262007424599057   0.14514063372470365  0.05116677588941258\n",
       "     2018-06-29 18:10:22  1 min 28.199 sec  2.0                0.1831120194673284   0.12904490058415521  0.03353001167340326   0.1728333489211098   0.12087719511277605  0.02987136649928608\n",
       "     2018-06-29 18:10:23  1 min 28.378 sec  3.0                0.16596546414587326  0.12191306559244791  0.027544535289155143  0.16211318526929572  0.11251991495440898  0.026280684838156994\n",
       "     2018-06-29 18:10:23  1 min 28.555 sec  4.0                0.16852948805236007  0.12435297757338859  0.02840218834319058   0.15828896076018728  0.11025386281532816  0.025055395098540108\n",
       "---  ---                  ---               ---                ---                  ---                  ---                   ---                  ---                  ---\n",
       "     2018-06-29 18:10:56  2 min  1.957 sec  167.0              0.1353559490823218   0.09346458435352299  0.018321232951976088  0.13097852349826908  0.08841303755098158  0.017155373617786625\n",
       "     2018-06-29 18:10:56  2 min  2.191 sec  168.0              0.1353448084553735   0.09343544092114998  0.01831821717582174   0.1309711764448592   0.08831741711768484  0.01715344905935044\n",
       "     2018-06-29 18:10:57  2 min  2.429 sec  169.0              0.13534757853150609  0.0933884567533626   0.01831896701434221   0.13101333204060128  0.08833296990812237  0.01716449317238084\n",
       "     2018-06-29 18:10:57  2 min  2.667 sec  170.0              0.1353410257463766   0.09342670401331231  0.018317193250081378  0.1310017137037254   0.08833618116850896  0.017161448993312834\n",
       "     2018-06-29 18:10:57  2 min  2.910 sec  171.0              0.13530245389151366  0.09337319817859195  0.01830675402906518   0.1310033601399181   0.0883235624797177   0.01716188036794908"
      ]
     },
     "metadata": {},
     "output_type": "display_data"
    },
    {
     "name": "stdout",
     "output_type": "stream",
     "text": [
      "\n",
      "See the whole table with table.as_data_frame()\n",
      "Variable Importances: \n"
     ]
    },
    {
     "data": {
      "text/html": [
       "<div style=\"overflow:auto\"><table style=\"width:50%\"><tr><td><b>variable</b></td>\n",
       "<td><b>relative_importance</b></td>\n",
       "<td><b>scaled_importance</b></td>\n",
       "<td><b>percentage</b></td></tr>\n",
       "<tr><td>OverallQual+imp_feat_2_log1p</td>\n",
       "<td>1734.0064697</td>\n",
       "<td>1.0</td>\n",
       "<td>0.0679893</td></tr>\n",
       "<tr><td>OverallQual+GrLivArea_log1p</td>\n",
       "<td>1642.6278076</td>\n",
       "<td>0.9473020</td>\n",
       "<td>0.0644064</td></tr>\n",
       "<tr><td>OverallQual+imp_feat_3_log1p</td>\n",
       "<td>1159.3061523</td>\n",
       "<td>0.6685708</td>\n",
       "<td>0.0454557</td></tr>\n",
       "<tr><td>OverallQual+LotArea_log1p</td>\n",
       "<td>1078.0393066</td>\n",
       "<td>0.6217043</td>\n",
       "<td>0.0422693</td></tr>\n",
       "<tr><td>GarageArea+TotalSF</td>\n",
       "<td>1041.5181885</td>\n",
       "<td>0.6006426</td>\n",
       "<td>0.0408373</td></tr>\n",
       "<tr><td>---</td>\n",
       "<td>---</td>\n",
       "<td>---</td>\n",
       "<td>---</td></tr>\n",
       "<tr><td>Fence_MnWw</td>\n",
       "<td>0.0</td>\n",
       "<td>0.0</td>\n",
       "<td>0.0</td></tr>\n",
       "<tr><td>MiscFeature_Gar2</td>\n",
       "<td>0.0</td>\n",
       "<td>0.0</td>\n",
       "<td>0.0</td></tr>\n",
       "<tr><td>MiscFeature_Othr</td>\n",
       "<td>0.0</td>\n",
       "<td>0.0</td>\n",
       "<td>0.0</td></tr>\n",
       "<tr><td>SaleType_ConLw</td>\n",
       "<td>0.0</td>\n",
       "<td>0.0</td>\n",
       "<td>0.0</td></tr>\n",
       "<tr><td>SaleCondition_AdjLand</td>\n",
       "<td>0.0</td>\n",
       "<td>0.0</td>\n",
       "<td>0.0</td></tr></table></div>"
      ],
      "text/plain": [
       "variable                      relative_importance    scaled_importance    percentage\n",
       "----------------------------  ---------------------  -------------------  --------------------\n",
       "OverallQual+imp_feat_2_log1p  1734.0064697265625     1.0                  0.06798931678963079\n",
       "OverallQual+GrLivArea_log1p   1642.6278076171875     0.9473020062469637   0.06440641619817761\n",
       "OverallQual+imp_feat_3_log1p  1159.30615234375       0.6685708344136468   0.045455674257257224\n",
       "OverallQual+LotArea_log1p     1078.039306640625      0.6217043162535733   0.042269251707245\n",
       "GarageArea+TotalSF            1041.5181884765625     0.6006426196557391   0.040837281345127756\n",
       "---                           ---                    ---                  ---\n",
       "Fence_MnWw                    0.0                    0.0                  0.0\n",
       "MiscFeature_Gar2              0.0                    0.0                  0.0\n",
       "MiscFeature_Othr              0.0                    0.0                  0.0\n",
       "SaleType_ConLw                0.0                    0.0                  0.0\n",
       "SaleCondition_AdjLand         0.0                    0.0                  0.0"
      ]
     },
     "metadata": {},
     "output_type": "display_data"
    },
    {
     "name": "stdout",
     "output_type": "stream",
     "text": [
      "\n",
      "See the whole table with table.as_data_frame()\n",
      "\n"
     ]
    }
   ],
   "source": [
    "# Initialize rf model\n",
    "erf_model1 = H2ORandomForestEstimator(\n",
    "    ntrees=10000,                    \n",
    "    max_depth=10, \n",
    "    col_sample_rate_per_tree=0.1,\n",
    "    sample_rate=0.8,\n",
    "    stopping_rounds=50,\n",
    "    score_each_iteration=True,\n",
    "    nfolds=3,\n",
    "    keep_cross_validation_predictions=True,\n",
    "    seed=12345, \n",
    "    histogram_type='random')\n",
    "\n",
    "# Train rf model\n",
    "erf_model1.train(\n",
    "    x=X,\n",
    "    y=y,\n",
    "    training_frame=train,\n",
    "    validation_frame=valid)\n",
    "\n",
    "# Print model information\n",
    "print(erf_model1)"
   ]
  },
  {
   "cell_type": "markdown",
   "metadata": {
    "collapsed": true
   },
   "source": [
    "### V. GBM Model"
   ]
  },
  {
   "cell_type": "code",
   "execution_count": 53,
   "metadata": {},
   "outputs": [
    {
     "name": "stdout",
     "output_type": "stream",
     "text": [
      "gbm Model Build progress: |███████████████████████████████████████████████| 100%\n",
      "Model Details\n",
      "=============\n",
      "H2OGradientBoostingEstimator :  Gradient Boosting Machine\n",
      "Model Key:  GBM_model_python_1530295503464_3\n",
      "\n",
      "\n",
      "ModelMetricsRegression: gbm\n",
      "** Reported on train data. **\n",
      "\n",
      "MSE: 0.005436754939294033\n",
      "RMSE: 0.0737343538609652\n",
      "MAE: 0.048829043386557074\n",
      "RMSLE: 0.0057958338525516415\n",
      "Mean Residual Deviance: 0.005436754939294033\n",
      "\n",
      "ModelMetricsRegression: gbm\n",
      "** Reported on validation data. **\n",
      "\n",
      "MSE: 0.016018359959300912\n",
      "RMSE: 0.1265636597104434\n",
      "MAE: 0.0872503688652125\n",
      "RMSLE: 0.009793152557528004\n",
      "Mean Residual Deviance: 0.016018359959300912\n",
      "\n",
      "ModelMetricsRegression: gbm\n",
      "** Reported on cross-validation data. **\n",
      "\n",
      "MSE: 0.016071412235441198\n",
      "RMSE: 0.12677307377925803\n",
      "MAE: 0.08730728649033291\n",
      "RMSLE: 0.009904565475893556\n",
      "Mean Residual Deviance: 0.016071412235441198\n",
      "Cross-Validation Metrics Summary: \n"
     ]
    },
    {
     "data": {
      "text/html": [
       "<div style=\"overflow:auto\"><table style=\"width:50%\"><tr><td><b></b></td>\n",
       "<td><b>mean</b></td>\n",
       "<td><b>sd</b></td>\n",
       "<td><b>cv_1_valid</b></td>\n",
       "<td><b>cv_2_valid</b></td>\n",
       "<td><b>cv_3_valid</b></td></tr>\n",
       "<tr><td>mae</td>\n",
       "<td>0.0873410</td>\n",
       "<td>0.0028682</td>\n",
       "<td>0.0844254</td>\n",
       "<td>0.0845205</td>\n",
       "<td>0.0930771</td></tr>\n",
       "<tr><td>mean_residual_deviance</td>\n",
       "<td>0.0160517</td>\n",
       "<td>0.0003738</td>\n",
       "<td>0.0158393</td>\n",
       "<td>0.0167788</td>\n",
       "<td>0.0155372</td></tr>\n",
       "<tr><td>mse</td>\n",
       "<td>0.0160517</td>\n",
       "<td>0.0003738</td>\n",
       "<td>0.0158393</td>\n",
       "<td>0.0167788</td>\n",
       "<td>0.0155372</td></tr>\n",
       "<tr><td>r2</td>\n",
       "<td>0.8983743</td>\n",
       "<td>0.0030640</td>\n",
       "<td>0.9032670</td>\n",
       "<td>0.8991234</td>\n",
       "<td>0.8927326</td></tr>\n",
       "<tr><td>residual_deviance</td>\n",
       "<td>0.0160517</td>\n",
       "<td>0.0003738</td>\n",
       "<td>0.0158393</td>\n",
       "<td>0.0167788</td>\n",
       "<td>0.0155372</td></tr>\n",
       "<tr><td>rmse</td>\n",
       "<td>0.1266785</td>\n",
       "<td>0.0014691</td>\n",
       "<td>0.1258543</td>\n",
       "<td>0.1295329</td>\n",
       "<td>0.1246482</td></tr>\n",
       "<tr><td>rmsle</td>\n",
       "<td>0.0098927</td>\n",
       "<td>0.0001701</td>\n",
       "<td>0.0097998</td>\n",
       "<td>0.0102226</td>\n",
       "<td>0.0096557</td></tr></table></div>"
      ],
      "text/plain": [
       "                        mean        sd           cv_1_valid    cv_2_valid    cv_3_valid\n",
       "----------------------  ----------  -----------  ------------  ------------  ------------\n",
       "mae                     0.087341    0.00286819   0.0844254     0.0845205     0.0930771\n",
       "mean_residual_deviance  0.0160517   0.000373831  0.0158393     0.0167788     0.0155372\n",
       "mse                     0.0160517   0.000373831  0.0158393     0.0167788     0.0155372\n",
       "r2                      0.898374    0.00306398   0.903267      0.899123      0.892733\n",
       "residual_deviance       0.0160517   0.000373831  0.0158393     0.0167788     0.0155372\n",
       "rmse                    0.126678    0.00146908   0.125854      0.129533      0.124648\n",
       "rmsle                   0.00989268  0.000170106  0.00979975    0.0102226     0.00965571"
      ]
     },
     "metadata": {},
     "output_type": "display_data"
    },
    {
     "name": "stdout",
     "output_type": "stream",
     "text": [
      "Scoring History: \n"
     ]
    },
    {
     "data": {
      "text/html": [
       "<div style=\"overflow:auto\"><table style=\"width:50%\"><tr><td><b></b></td>\n",
       "<td><b>timestamp</b></td>\n",
       "<td><b>duration</b></td>\n",
       "<td><b>number_of_trees</b></td>\n",
       "<td><b>training_rmse</b></td>\n",
       "<td><b>training_mae</b></td>\n",
       "<td><b>training_deviance</b></td>\n",
       "<td><b>validation_rmse</b></td>\n",
       "<td><b>validation_mae</b></td>\n",
       "<td><b>validation_deviance</b></td></tr>\n",
       "<tr><td></td>\n",
       "<td>2018-06-29 18:21:37</td>\n",
       "<td>10 min 38.674 sec</td>\n",
       "<td>0.0</td>\n",
       "<td>0.3986712</td>\n",
       "<td>0.3106806</td>\n",
       "<td>0.1589387</td>\n",
       "<td>0.4020199</td>\n",
       "<td>0.3094516</td>\n",
       "<td>0.1616200</td></tr>\n",
       "<tr><td></td>\n",
       "<td>2018-06-29 18:21:37</td>\n",
       "<td>10 min 38.790 sec</td>\n",
       "<td>1.0</td>\n",
       "<td>0.3971946</td>\n",
       "<td>0.3094363</td>\n",
       "<td>0.1577635</td>\n",
       "<td>0.4005868</td>\n",
       "<td>0.3082549</td>\n",
       "<td>0.1604698</td></tr>\n",
       "<tr><td></td>\n",
       "<td>2018-06-29 18:21:37</td>\n",
       "<td>10 min 38.887 sec</td>\n",
       "<td>2.0</td>\n",
       "<td>0.3955458</td>\n",
       "<td>0.3080197</td>\n",
       "<td>0.1564565</td>\n",
       "<td>0.3989918</td>\n",
       "<td>0.3069060</td>\n",
       "<td>0.1591944</td></tr>\n",
       "<tr><td></td>\n",
       "<td>2018-06-29 18:21:37</td>\n",
       "<td>10 min 38.983 sec</td>\n",
       "<td>3.0</td>\n",
       "<td>0.3939695</td>\n",
       "<td>0.3066570</td>\n",
       "<td>0.1552120</td>\n",
       "<td>0.3974711</td>\n",
       "<td>0.3056421</td>\n",
       "<td>0.1579833</td></tr>\n",
       "<tr><td></td>\n",
       "<td>2018-06-29 18:21:37</td>\n",
       "<td>10 min 39.085 sec</td>\n",
       "<td>4.0</td>\n",
       "<td>0.3924584</td>\n",
       "<td>0.3053620</td>\n",
       "<td>0.1540236</td>\n",
       "<td>0.3960515</td>\n",
       "<td>0.3044566</td>\n",
       "<td>0.1568568</td></tr>\n",
       "<tr><td>---</td>\n",
       "<td>---</td>\n",
       "<td>---</td>\n",
       "<td>---</td>\n",
       "<td>---</td>\n",
       "<td>---</td>\n",
       "<td>---</td>\n",
       "<td>---</td>\n",
       "<td>---</td>\n",
       "<td>---</td></tr>\n",
       "<tr><td></td>\n",
       "<td>2018-06-29 18:25:18</td>\n",
       "<td>14 min 20.366 sec</td>\n",
       "<td>3227.0</td>\n",
       "<td>0.0754009</td>\n",
       "<td>0.0499926</td>\n",
       "<td>0.0056853</td>\n",
       "<td>0.1264156</td>\n",
       "<td>0.0870881</td>\n",
       "<td>0.0159809</td></tr>\n",
       "<tr><td></td>\n",
       "<td>2018-06-29 18:25:22</td>\n",
       "<td>14 min 24.424 sec</td>\n",
       "<td>3288.0</td>\n",
       "<td>0.0749261</td>\n",
       "<td>0.0496138</td>\n",
       "<td>0.0056139</td>\n",
       "<td>0.1263905</td>\n",
       "<td>0.0870821</td>\n",
       "<td>0.0159746</td></tr>\n",
       "<tr><td></td>\n",
       "<td>2018-06-29 18:25:27</td>\n",
       "<td>14 min 28.479 sec</td>\n",
       "<td>3349.0</td>\n",
       "<td>0.0743913</td>\n",
       "<td>0.0493145</td>\n",
       "<td>0.0055341</td>\n",
       "<td>0.1265217</td>\n",
       "<td>0.0872114</td>\n",
       "<td>0.0160077</td></tr>\n",
       "<tr><td></td>\n",
       "<td>2018-06-29 18:25:31</td>\n",
       "<td>14 min 32.514 sec</td>\n",
       "<td>3410.0</td>\n",
       "<td>0.0739632</td>\n",
       "<td>0.0489734</td>\n",
       "<td>0.0054706</td>\n",
       "<td>0.1266213</td>\n",
       "<td>0.0872737</td>\n",
       "<td>0.0160330</td></tr>\n",
       "<tr><td></td>\n",
       "<td>2018-06-29 18:25:33</td>\n",
       "<td>14 min 35.048 sec</td>\n",
       "<td>3447.0</td>\n",
       "<td>0.0737344</td>\n",
       "<td>0.0488290</td>\n",
       "<td>0.0054368</td>\n",
       "<td>0.1265637</td>\n",
       "<td>0.0872504</td>\n",
       "<td>0.0160184</td></tr></table></div>"
      ],
      "text/plain": [
       "     timestamp            duration           number_of_trees    training_rmse        training_mae          training_deviance     validation_rmse      validation_mae       validation_deviance\n",
       "---  -------------------  -----------------  -----------------  -------------------  --------------------  --------------------  -------------------  -------------------  ---------------------\n",
       "     2018-06-29 18:21:37  10 min 38.674 sec  0.0                0.3986712132036445   0.3106806489747019    0.15893873623726576   0.4020199139502029   0.3094516100091458   0.16162001121252856\n",
       "     2018-06-29 18:21:37  10 min 38.790 sec  1.0                0.3971945919743892   0.3094363447837178    0.15776354389370154   0.40058676819399114  0.3082548575266477   0.1604697588521064\n",
       "     2018-06-29 18:21:37  10 min 38.887 sec  2.0                0.3955458105747911   0.3080196869214979    0.15645648826326852   0.398991778779706    0.3069059612001365   0.15919443953379384\n",
       "     2018-06-29 18:21:37  10 min 38.983 sec  3.0                0.3939694834652455   0.30665698042404493   0.15521195390187237   0.3974711489990567   0.30564205676206313  0.15798331428663037\n",
       "     2018-06-29 18:21:37  10 min 39.085 sec  4.0                0.3924583702101309   0.3053620146619301    0.15402357234799216   0.3960515053014502   0.3044566088793835   0.15685679485154466\n",
       "---  ---                  ---                ---                ---                  ---                   ---                   ---                  ---                  ---\n",
       "     2018-06-29 18:25:18  14 min 20.366 sec  3227.0             0.07540093777848152  0.0499925649595894    0.00568530141787444   0.12641560913021285  0.08708813766491927  0.015980906231762758\n",
       "     2018-06-29 18:25:22  14 min 24.424 sec  3288.0             0.07492614574386264  0.049613769864221675  0.005613927316030545  0.1263904669963023   0.08708213180369623  0.015974550147543377\n",
       "     2018-06-29 18:25:27  14 min 28.479 sec  3349.0             0.07439133762466044  0.04931448532915206   0.005534071113586219  0.1265216742735168   0.08721143672712116  0.016007734060973878\n",
       "     2018-06-29 18:25:31  14 min 32.514 sec  3410.0             0.07396320896842372  0.04897339294259869   0.005470556280906714  0.12662134651736437  0.0872737247326462   0.01603296539387046\n",
       "     2018-06-29 18:25:33  14 min 35.048 sec  3447.0             0.0737343538609652   0.048829043386557074  0.005436754939294033  0.1265636597104434   0.0872503688652125   0.016018359959300912"
      ]
     },
     "metadata": {},
     "output_type": "display_data"
    },
    {
     "name": "stdout",
     "output_type": "stream",
     "text": [
      "\n",
      "See the whole table with table.as_data_frame()\n",
      "Variable Importances: \n"
     ]
    },
    {
     "data": {
      "text/html": [
       "<div style=\"overflow:auto\"><table style=\"width:50%\"><tr><td><b>variable</b></td>\n",
       "<td><b>relative_importance</b></td>\n",
       "<td><b>scaled_importance</b></td>\n",
       "<td><b>percentage</b></td></tr>\n",
       "<tr><td>OverallQual+LotArea_log1p</td>\n",
       "<td>2099.7072754</td>\n",
       "<td>1.0</td>\n",
       "<td>0.1892741</td></tr>\n",
       "<tr><td>OverallQual+FullBath</td>\n",
       "<td>1983.0910645</td>\n",
       "<td>0.9444607</td>\n",
       "<td>0.1787620</td></tr>\n",
       "<tr><td>OverallQual+imp_feat_3_log1p</td>\n",
       "<td>1614.6462402</td>\n",
       "<td>0.7689864</td>\n",
       "<td>0.1455492</td></tr>\n",
       "<tr><td>OverallQual+GrLivArea_log1p</td>\n",
       "<td>1137.9608154</td>\n",
       "<td>0.5419616</td>\n",
       "<td>0.1025793</td></tr>\n",
       "<tr><td>GarageArea+TotalSF</td>\n",
       "<td>976.6578369</td>\n",
       "<td>0.4651400</td>\n",
       "<td>0.0880390</td></tr>\n",
       "<tr><td>---</td>\n",
       "<td>---</td>\n",
       "<td>---</td>\n",
       "<td>---</td></tr>\n",
       "<tr><td>SaleType_ConLw</td>\n",
       "<td>0.0</td>\n",
       "<td>0.0</td>\n",
       "<td>0.0</td></tr>\n",
       "<tr><td>SaleType_Oth</td>\n",
       "<td>0.0</td>\n",
       "<td>0.0</td>\n",
       "<td>0.0</td></tr>\n",
       "<tr><td>SaleCondition_AdjLand</td>\n",
       "<td>0.0</td>\n",
       "<td>0.0</td>\n",
       "<td>0.0</td></tr>\n",
       "<tr><td>SaleCondition_Alloca</td>\n",
       "<td>0.0</td>\n",
       "<td>0.0</td>\n",
       "<td>0.0</td></tr>\n",
       "<tr><td>SaleCondition_Family</td>\n",
       "<td>0.0</td>\n",
       "<td>0.0</td>\n",
       "<td>0.0</td></tr></table></div>"
      ],
      "text/plain": [
       "variable                      relative_importance    scaled_importance    percentage\n",
       "----------------------------  ---------------------  -------------------  -------------------\n",
       "OverallQual+LotArea_log1p     2099.707275390625      1.0                  0.18927412148602366\n",
       "OverallQual+FullBath          1983.091064453125      0.9444607292148355   0.17876197480018727\n",
       "OverallQual+imp_feat_3_log1p  1614.646240234375      0.7689863530781879   0.1455492164136152\n",
       "OverallQual+GrLivArea_log1p   1137.9608154296875     0.5419616480673402   0.10257931481706332\n",
       "GarageArea+TotalSF            976.6578369140625      0.4651399975419751   0.08803896440276854\n",
       "---                           ---                    ---                  ---\n",
       "SaleType_ConLw                0.0                    0.0                  0.0\n",
       "SaleType_Oth                  0.0                    0.0                  0.0\n",
       "SaleCondition_AdjLand         0.0                    0.0                  0.0\n",
       "SaleCondition_Alloca          0.0                    0.0                  0.0\n",
       "SaleCondition_Family          0.0                    0.0                  0.0"
      ]
     },
     "metadata": {},
     "output_type": "display_data"
    },
    {
     "name": "stdout",
     "output_type": "stream",
     "text": [
      "\n",
      "See the whole table with table.as_data_frame()\n",
      "\n"
     ]
    }
   ],
   "source": [
    "# Initialize GBM model\n",
    "h2o_gbm_model = H2OGradientBoostingEstimator(\n",
    "    ntrees = 10000,\n",
    "    learn_rate = 0.005,\n",
    "    sample_rate = 0.1, \n",
    "    col_sample_rate = 0.8,\n",
    "    max_depth = 5,\n",
    "    nfolds = 3,\n",
    "    keep_cross_validation_predictions=True,\n",
    "    stopping_rounds = 10,\n",
    "    seed = 12345)\n",
    "\n",
    "# Train the model\n",
    "h2o_gbm_model.train(x=X,\n",
    "                    y=y,\n",
    "                    training_frame=train,\n",
    "                    validation_frame=valid)\n",
    "\n",
    "# Print model information\n",
    "print(h2o_gbm_model)"
   ]
  },
  {
   "cell_type": "markdown",
   "metadata": {},
   "source": [
    "### VI. GBM with Grid Search"
   ]
  },
  {
   "cell_type": "code",
   "execution_count": 54,
   "metadata": {
    "scrolled": true
   },
   "outputs": [
    {
     "name": "stdout",
     "output_type": "stream",
     "text": [
      "gbm Grid Build progress: |████████████████████████████████████████████████| 100%\n",
      "    col_sample_rate max_depth ntrees sample_rate  \\\n",
      "0               1.0         8    149         0.4   \n",
      "1               1.0        12    450         0.8   \n",
      "2               0.1        10    350         0.3   \n",
      "3               0.5        18    200         1.0   \n",
      "4               0.7        16      1         0.6   \n",
      "\n",
      "                                                               model_ids  \\\n",
      "0  Grid_GBM_Key_Frame__upload_89949da51a40e872a0d8ec528ee34f93.hex_mo...   \n",
      "1  Grid_GBM_Key_Frame__upload_89949da51a40e872a0d8ec528ee34f93.hex_mo...   \n",
      "2  Grid_GBM_Key_Frame__upload_89949da51a40e872a0d8ec528ee34f93.hex_mo...   \n",
      "3  Grid_GBM_Key_Frame__upload_89949da51a40e872a0d8ec528ee34f93.hex_mo...   \n",
      "4  Grid_GBM_Key_Frame__upload_89949da51a40e872a0d8ec528ee34f93.hex_mo...   \n",
      "\n",
      "      residual_deviance  \n",
      "0  0.017859778235587893  \n",
      "1  0.017928086729189018  \n",
      "2   0.01807230705395107  \n",
      "3  0.018742953725716695  \n",
      "4   0.13513028594482931  \n",
      "Model Details\n",
      "=============\n",
      "H2OGradientBoostingEstimator :  Gradient Boosting Machine\n",
      "Model Key:  Grid_GBM_Key_Frame__upload_89949da51a40e872a0d8ec528ee34f93.hex_model_python_1530295503464_4_model_3\n",
      "\n",
      "\n",
      "ModelMetricsRegression: gbm\n",
      "** Reported on train data. **\n",
      "\n",
      "MSE: 0.0014135977336993072\n",
      "RMSE: 0.03759784214152864\n",
      "MAE: 0.02537125563938206\n",
      "RMSLE: 0.0029612867577879422\n",
      "Mean Residual Deviance: 0.0014135977336993072\n",
      "\n",
      "ModelMetricsRegression: gbm\n",
      "** Reported on validation data. **\n",
      "\n",
      "MSE: 0.016591803395007963\n",
      "RMSE: 0.1288091743433206\n",
      "MAE: 0.08860188516892548\n",
      "RMSLE: 0.009982418467643044\n",
      "Mean Residual Deviance: 0.016591803395007963\n",
      "\n",
      "ModelMetricsRegression: gbm\n",
      "** Reported on cross-validation data. **\n",
      "\n",
      "MSE: 0.017859778235587893\n",
      "RMSE: 0.133640481275652\n",
      "MAE: 0.09387383561198526\n",
      "RMSLE: 0.010443909575823817\n",
      "Mean Residual Deviance: 0.017859778235587893\n",
      "Cross-Validation Metrics Summary: \n"
     ]
    },
    {
     "data": {
      "text/html": [
       "<div style=\"overflow:auto\"><table style=\"width:50%\"><tr><td><b></b></td>\n",
       "<td><b>mean</b></td>\n",
       "<td><b>sd</b></td>\n",
       "<td><b>cv_1_valid</b></td>\n",
       "<td><b>cv_2_valid</b></td>\n",
       "<td><b>cv_3_valid</b></td></tr>\n",
       "<tr><td>mae</td>\n",
       "<td>0.0939089</td>\n",
       "<td>0.0021424</td>\n",
       "<td>0.0920189</td>\n",
       "<td>0.0915237</td>\n",
       "<td>0.0981841</td></tr>\n",
       "<tr><td>mean_residual_deviance</td>\n",
       "<td>0.0178451</td>\n",
       "<td>0.0003204</td>\n",
       "<td>0.0177751</td>\n",
       "<td>0.0184316</td>\n",
       "<td>0.0173285</td></tr>\n",
       "<tr><td>mse</td>\n",
       "<td>0.0178451</td>\n",
       "<td>0.0003204</td>\n",
       "<td>0.0177751</td>\n",
       "<td>0.0184316</td>\n",
       "<td>0.0173285</td></tr>\n",
       "<tr><td>r2</td>\n",
       "<td>0.8869988</td>\n",
       "<td>0.0033801</td>\n",
       "<td>0.8914447</td>\n",
       "<td>0.8891862</td>\n",
       "<td>0.8803656</td></tr>\n",
       "<tr><td>residual_deviance</td>\n",
       "<td>0.0178451</td>\n",
       "<td>0.0003204</td>\n",
       "<td>0.0177751</td>\n",
       "<td>0.0184316</td>\n",
       "<td>0.0173285</td></tr>\n",
       "<tr><td>rmse</td>\n",
       "<td>0.1335747</td>\n",
       "<td>0.0011975</td>\n",
       "<td>0.1333233</td>\n",
       "<td>0.1357631</td>\n",
       "<td>0.1316377</td></tr>\n",
       "<tr><td>rmsle</td>\n",
       "<td>0.0104338</td>\n",
       "<td>0.0001581</td>\n",
       "<td>0.0103799</td>\n",
       "<td>0.0107305</td>\n",
       "<td>0.0101910</td></tr></table></div>"
      ],
      "text/plain": [
       "                        mean       sd           cv_1_valid    cv_2_valid    cv_3_valid\n",
       "----------------------  ---------  -----------  ------------  ------------  ------------\n",
       "mae                     0.0939089  0.00214237   0.0920189     0.0915237     0.0981841\n",
       "mean_residual_deviance  0.0178451  0.00032037   0.0177751     0.0184316     0.0173285\n",
       "mse                     0.0178451  0.00032037   0.0177751     0.0184316     0.0173285\n",
       "r2                      0.886999   0.0033801    0.891445      0.889186      0.880366\n",
       "residual_deviance       0.0178451  0.00032037   0.0177751     0.0184316     0.0173285\n",
       "rmse                    0.133575   0.00119754   0.133323      0.135763      0.131638\n",
       "rmsle                   0.0104338  0.000158053  0.0103799     0.0107305     0.010191"
      ]
     },
     "metadata": {},
     "output_type": "display_data"
    },
    {
     "name": "stdout",
     "output_type": "stream",
     "text": [
      "Scoring History: \n"
     ]
    },
    {
     "data": {
      "text/html": [
       "<div style=\"overflow:auto\"><table style=\"width:50%\"><tr><td><b></b></td>\n",
       "<td><b>timestamp</b></td>\n",
       "<td><b>duration</b></td>\n",
       "<td><b>number_of_trees</b></td>\n",
       "<td><b>training_rmse</b></td>\n",
       "<td><b>training_mae</b></td>\n",
       "<td><b>training_deviance</b></td>\n",
       "<td><b>validation_rmse</b></td>\n",
       "<td><b>validation_mae</b></td>\n",
       "<td><b>validation_deviance</b></td></tr>\n",
       "<tr><td></td>\n",
       "<td>2018-06-29 18:35:15</td>\n",
       "<td> 9 min 42.150 sec</td>\n",
       "<td>0.0</td>\n",
       "<td>0.3986712</td>\n",
       "<td>0.3106806</td>\n",
       "<td>0.1589387</td>\n",
       "<td>0.4020199</td>\n",
       "<td>0.3094516</td>\n",
       "<td>0.1616200</td></tr>\n",
       "<tr><td></td>\n",
       "<td>2018-06-29 18:35:16</td>\n",
       "<td> 9 min 42.333 sec</td>\n",
       "<td>1.0</td>\n",
       "<td>0.3650367</td>\n",
       "<td>0.2833495</td>\n",
       "<td>0.1332518</td>\n",
       "<td>0.3694192</td>\n",
       "<td>0.2824706</td>\n",
       "<td>0.1364706</td></tr>\n",
       "<tr><td></td>\n",
       "<td>2018-06-29 18:35:16</td>\n",
       "<td> 9 min 42.492 sec</td>\n",
       "<td>2.0</td>\n",
       "<td>0.3361950</td>\n",
       "<td>0.2595324</td>\n",
       "<td>0.1130270</td>\n",
       "<td>0.3424258</td>\n",
       "<td>0.2602290</td>\n",
       "<td>0.1172554</td></tr>\n",
       "<tr><td></td>\n",
       "<td>2018-06-29 18:35:16</td>\n",
       "<td> 9 min 42.657 sec</td>\n",
       "<td>3.0</td>\n",
       "<td>0.3093573</td>\n",
       "<td>0.2373549</td>\n",
       "<td>0.0957019</td>\n",
       "<td>0.3170365</td>\n",
       "<td>0.2393649</td>\n",
       "<td>0.1005121</td></tr>\n",
       "<tr><td></td>\n",
       "<td>2018-06-29 18:35:16</td>\n",
       "<td> 9 min 42.817 sec</td>\n",
       "<td>4.0</td>\n",
       "<td>0.2859268</td>\n",
       "<td>0.2175890</td>\n",
       "<td>0.0817541</td>\n",
       "<td>0.2951980</td>\n",
       "<td>0.2209936</td>\n",
       "<td>0.0871419</td></tr>\n",
       "<tr><td>---</td>\n",
       "<td>---</td>\n",
       "<td>---</td>\n",
       "<td>---</td>\n",
       "<td>---</td>\n",
       "<td>---</td>\n",
       "<td>---</td>\n",
       "<td>---</td>\n",
       "<td>---</td>\n",
       "<td>---</td></tr>\n",
       "<tr><td></td>\n",
       "<td>2018-06-29 18:35:19</td>\n",
       "<td> 9 min 46.102 sec</td>\n",
       "<td>25.0</td>\n",
       "<td>0.0955936</td>\n",
       "<td>0.0631477</td>\n",
       "<td>0.0091381</td>\n",
       "<td>0.1346334</td>\n",
       "<td>0.0903470</td>\n",
       "<td>0.0181262</td></tr>\n",
       "<tr><td></td>\n",
       "<td>2018-06-29 18:35:23</td>\n",
       "<td> 9 min 50.129 sec</td>\n",
       "<td>62.0</td>\n",
       "<td>0.0628016</td>\n",
       "<td>0.0426624</td>\n",
       "<td>0.0039440</td>\n",
       "<td>0.1271893</td>\n",
       "<td>0.0877770</td>\n",
       "<td>0.0161771</td></tr>\n",
       "<tr><td></td>\n",
       "<td>2018-06-29 18:35:28</td>\n",
       "<td> 9 min 54.175 sec</td>\n",
       "<td>100.0</td>\n",
       "<td>0.0496173</td>\n",
       "<td>0.0332890</td>\n",
       "<td>0.0024619</td>\n",
       "<td>0.1272463</td>\n",
       "<td>0.0874348</td>\n",
       "<td>0.0161916</td></tr>\n",
       "<tr><td></td>\n",
       "<td>2018-06-29 18:35:32</td>\n",
       "<td> 9 min 58.217 sec</td>\n",
       "<td>138.0</td>\n",
       "<td>0.0402023</td>\n",
       "<td>0.0271459</td>\n",
       "<td>0.0016162</td>\n",
       "<td>0.1285378</td>\n",
       "<td>0.0887018</td>\n",
       "<td>0.0165220</td></tr>\n",
       "<tr><td></td>\n",
       "<td>2018-06-29 18:35:33</td>\n",
       "<td> 9 min 59.433 sec</td>\n",
       "<td>149.0</td>\n",
       "<td>0.0375978</td>\n",
       "<td>0.0253713</td>\n",
       "<td>0.0014136</td>\n",
       "<td>0.1288092</td>\n",
       "<td>0.0886019</td>\n",
       "<td>0.0165918</td></tr></table></div>"
      ],
      "text/plain": [
       "     timestamp            duration          number_of_trees    training_rmse        training_mae         training_deviance      validation_rmse      validation_mae       validation_deviance\n",
       "---  -------------------  ----------------  -----------------  -------------------  -------------------  ---------------------  -------------------  -------------------  ---------------------\n",
       "     2018-06-29 18:35:15  9 min 42.150 sec  0.0                0.3986712132036445   0.3106806489747019   0.15893873623726576    0.4020199139502029   0.3094516100091458   0.16162001121252856\n",
       "     2018-06-29 18:35:16  9 min 42.333 sec  1.0                0.3650367069923597   0.2833495121979397   0.13325179745182586    0.369419224499767    0.2824706273194723   0.13647056343000924\n",
       "     2018-06-29 18:35:16  9 min 42.492 sec  2.0                0.33619495622032597  0.2595324235803941   0.11302704858798689    0.34242578731838125  0.26022902145762095  0.11725541982061327\n",
       "     2018-06-29 18:35:16  9 min 42.657 sec  3.0                0.30935730963844343  0.23735490469597775  0.09570194502673578    0.31703646544972786  0.2393649149441625   0.1005121204248565\n",
       "     2018-06-29 18:35:16  9 min 42.817 sec  4.0                0.28592682155096927  0.21758897842899447  0.08175414728223981    0.2951980386360234   0.22099358055064452  0.08714188201455517\n",
       "---  ---                  ---               ---                ---                  ---                  ---                    ---                  ---                  ---\n",
       "     2018-06-29 18:35:19  9 min 46.102 sec  25.0               0.09559362812448284  0.06314765072411785  0.009138141738001915   0.13463341418190777  0.0903470254417362   0.018126156214277125\n",
       "     2018-06-29 18:35:23  9 min 50.129 sec  62.0               0.0628016038532122   0.04266238619751903  0.003944041446535798   0.12718931155538968  0.08777704721340233  0.016177120973933982\n",
       "     2018-06-29 18:35:28  9 min 54.175 sec  100.0              0.0496172544692938   0.03328896383180564  0.002461871941070655   0.12724631051122817  0.087434753983292    0.016191623538719894\n",
       "     2018-06-29 18:35:32  9 min 58.217 sec  138.0              0.04020226264392475  0.02714588881896162  0.0016162219216911075  0.1285377803646786   0.08870183692420416  0.016521960981078356\n",
       "     2018-06-29 18:35:33  9 min 59.433 sec  149.0              0.03759784214152864  0.02537125563938206  0.0014135977336993072  0.1288091743433206   0.08860188516892548  0.016591803395007963"
      ]
     },
     "metadata": {},
     "output_type": "display_data"
    },
    {
     "name": "stdout",
     "output_type": "stream",
     "text": [
      "\n",
      "See the whole table with table.as_data_frame()\n",
      "Variable Importances: \n"
     ]
    },
    {
     "data": {
      "text/html": [
       "<div style=\"overflow:auto\"><table style=\"width:50%\"><tr><td><b>variable</b></td>\n",
       "<td><b>relative_importance</b></td>\n",
       "<td><b>scaled_importance</b></td>\n",
       "<td><b>percentage</b></td></tr>\n",
       "<tr><td>OverallQual+imp_feat_3_log1p</td>\n",
       "<td>263.8229370</td>\n",
       "<td>1.0</td>\n",
       "<td>0.3805731</td></tr>\n",
       "<tr><td>OverallQual+LotArea_log1p</td>\n",
       "<td>133.7333374</td>\n",
       "<td>0.5069057</td>\n",
       "<td>0.1929146</td></tr>\n",
       "<tr><td>OverallQual+FullBath</td>\n",
       "<td>42.0479813</td>\n",
       "<td>0.1593796</td>\n",
       "<td>0.0606556</td></tr>\n",
       "<tr><td>GarageArea+TotalSF</td>\n",
       "<td>32.5952034</td>\n",
       "<td>0.1235495</td>\n",
       "<td>0.0470196</td></tr>\n",
       "<tr><td>BsmtFinSF1+TotalSF</td>\n",
       "<td>18.6427860</td>\n",
       "<td>0.0706640</td>\n",
       "<td>0.0268928</td></tr>\n",
       "<tr><td>---</td>\n",
       "<td>---</td>\n",
       "<td>---</td>\n",
       "<td>---</td></tr>\n",
       "<tr><td>SaleType_Oth</td>\n",
       "<td>0.0</td>\n",
       "<td>0.0</td>\n",
       "<td>0.0</td></tr>\n",
       "<tr><td>SaleCondition_AdjLand</td>\n",
       "<td>0.0</td>\n",
       "<td>0.0</td>\n",
       "<td>0.0</td></tr>\n",
       "<tr><td>SaleCondition_Alloca</td>\n",
       "<td>0.0</td>\n",
       "<td>0.0</td>\n",
       "<td>0.0</td></tr>\n",
       "<tr><td>SaleCondition_Family</td>\n",
       "<td>0.0</td>\n",
       "<td>0.0</td>\n",
       "<td>0.0</td></tr>\n",
       "<tr><td>SaleCondition_Partial</td>\n",
       "<td>0.0</td>\n",
       "<td>0.0</td>\n",
       "<td>0.0</td></tr></table></div>"
      ],
      "text/plain": [
       "variable                      relative_importance    scaled_importance    percentage\n",
       "----------------------------  ---------------------  -------------------  -------------------\n",
       "OverallQual+imp_feat_3_log1p  263.82293701171875     1.0                  0.380573079619248\n",
       "OverallQual+LotArea_log1p     133.73333740234375     0.5069056501194339   0.19291464434234998\n",
       "OverallQual+FullBath          42.04798126220703      0.15937955106738616  0.06065556657804836\n",
       "GarageArea+TotalSF            32.5952033996582       0.12354954337503397  0.04701963020778854\n",
       "BsmtFinSF1+TotalSF            18.642786026000977     0.0706640075998126   0.02689281899049863\n",
       "---                           ---                    ---                  ---\n",
       "SaleType_Oth                  0.0                    0.0                  0.0\n",
       "SaleCondition_AdjLand         0.0                    0.0                  0.0\n",
       "SaleCondition_Alloca          0.0                    0.0                  0.0\n",
       "SaleCondition_Family          0.0                    0.0                  0.0\n",
       "SaleCondition_Partial         0.0                    0.0                  0.0"
      ]
     },
     "metadata": {},
     "output_type": "display_data"
    },
    {
     "name": "stdout",
     "output_type": "stream",
     "text": [
      "\n",
      "See the whole table with table.as_data_frame()\n"
     ]
    },
    {
     "data": {
      "text/plain": []
     },
     "execution_count": 54,
     "metadata": {},
     "output_type": "execute_result"
    }
   ],
   "source": [
    "# Initialize GBM model\n",
    "from h2o.grid.grid_search import H2OGridSearch\n",
    "hyper_parameters = {'ntrees':list(range(0, 500, 50)),\n",
    "                    'max_depth':list(range(0, 20, 2)),\n",
    "                    'sample_rate':[s/float(10) for s in range(1, 11)],\n",
    "                    'col_sample_rate':[s/float(10) for s in range(1, 11)]}\n",
    "\n",
    "# Define search strategy\n",
    "search_criteria = {'strategy':'RandomDiscrete',\n",
    "                   'max_models':20,\n",
    "                   'max_runtime_secs':600}\n",
    "\n",
    "# Initialize grid search\n",
    "gsearch = H2OGridSearch(H2OGradientBoostingEstimator,\n",
    "                        hyper_params=hyper_parameters,\n",
    "                        search_criteria=search_criteria)\n",
    "# Execute training w/ grid search\n",
    "gsearch.train(x=X,\n",
    "              y=y,\n",
    "              nfolds=3,\n",
    "              seed=12345,\n",
    "              training_frame=train,\n",
    "              validation_frame=valid)\n",
    "# Show grid search results\n",
    "gsearch.show()\n",
    "\n",
    "# Select best model\n",
    "gbm_model = gsearch.get_grid()[0]\n",
    "\n",
    "# Print model information\n",
    "gbm_model"
   ]
  },
  {
   "cell_type": "markdown",
   "metadata": {
    "collapsed": true
   },
   "source": [
    "### IX. Stacking"
   ]
  },
  {
   "cell_type": "code",
   "execution_count": 55,
   "metadata": {},
   "outputs": [
    {
     "name": "stdout",
     "output_type": "stream",
     "text": [
      "stackedensemble Model Build progress: |███████████████████████████████████| 100%\n",
      "Model Details\n",
      "=============\n",
      "H2OStackedEnsembleEstimator :  Stacked Ensemble\n",
      "Model Key:  StackedEnsemble_model_python_1530295503464_5\n",
      "No model summary for this model\n",
      "\n",
      "\n",
      "ModelMetricsRegressionGLM: stackedensemble\n",
      "** Reported on train data. **\n",
      "\n",
      "MSE: 0.004064348306762428\n",
      "RMSE: 0.06375224158225676\n",
      "MAE: 0.042603855832769114\n",
      "RMSLE: 0.0050136842853806774\n",
      "R^2: 0.9744282079812897\n",
      "Mean Residual Deviance: 0.004064348306762428\n",
      "Null degrees of freedom: 1053\n",
      "Residual degrees of freedom: 1050\n",
      "Null deviance: 167.5214279940782\n",
      "Residual deviance: 4.283823115327599\n",
      "AIC: -2801.676539795477\n",
      "\n",
      "ModelMetricsRegressionGLM: stackedensemble\n",
      "** Reported on validation data. **\n",
      "\n",
      "MSE: 0.01547231234568658\n",
      "RMSE: 0.12438774998241017\n",
      "MAE: 0.08474103447399635\n",
      "RMSLE: 0.009629567650622265\n",
      "R^2: 0.9041056060672621\n",
      "Mean Residual Deviance: 0.01547231234568658\n",
      "Null degrees of freedom: 403\n",
      "Residual degrees of freedom: 400\n",
      "Null deviance: 65.29448452986146\n",
      "Residual deviance: 6.250814187657379\n",
      "AIC: -527.6537388501375\n",
      "\n"
     ]
    }
   ],
   "source": [
    "# Stack the random forest, extremely random forest and the GBM model\n",
    "stack = H2OStackedEnsembleEstimator(training_frame=train, \n",
    "                                    validation_frame=valid, \n",
    "                                    base_models=[erf_model1,\n",
    "                                                 h2o_gbm_model, \n",
    "                                                 rf_model1])\n",
    "\n",
    "# Train the stacking model\n",
    "stack.train(x=X,\n",
    "            y=y,\n",
    "            training_frame=train,\n",
    "            validation_frame=valid)\n",
    "\n",
    "# Print model information\n",
    "print(stack)"
   ]
  },
  {
   "cell_type": "markdown",
   "metadata": {},
   "source": [
    "### X. Model Performance Comparison (based on validation RMSE)"
   ]
  },
  {
   "cell_type": "code",
   "execution_count": 56,
   "metadata": {},
   "outputs": [
    {
     "name": "stdout",
     "output_type": "stream",
     "text": [
      "RMSE:\n",
      "glm: 0.12239600617572167\n",
      "nn_model: 0.14286872642842752\n",
      "rf_model1: 0.13090726630921967\n",
      "erf_model1: 0.1310033601399181\n",
      "h2o_gbm_model: 0.1265636597104434\n",
      "gbm_model: 0.1288091743433206\n",
      "stack: 0.12438774998241017\n"
     ]
    }
   ],
   "source": [
    "print(\"RMSE:\")\n",
    "print(\"glm:\",glm.rmse(valid=True))\n",
    "print(\"nn_model:\",nn_model.rmse(valid=True))\n",
    "print(\"rf_model1:\",rf_model1.rmse(valid=True))\n",
    "print(\"erf_model1:\",erf_model1.rmse(valid=True))\n",
    "print(\"h2o_gbm_model:\",h2o_gbm_model.rmse(valid=True))\n",
    "print(\"gbm_model:\",gbm_model.rmse(valid=True))\n",
    "print(\"stack:\",stack.rmse(valid=True))"
   ]
  },
  {
   "cell_type": "markdown",
   "metadata": {},
   "source": [
    "Stacking model provides the best performance (Linear does not perform as good as stacking on the testing set). So we will make the submission based on stacking."
   ]
  },
  {
   "cell_type": "markdown",
   "metadata": {},
   "source": [
    "### XI. Submission"
   ]
  },
  {
   "cell_type": "code",
   "execution_count": 57,
   "metadata": {
    "scrolled": true
   },
   "outputs": [
    {
     "name": "stdout",
     "output_type": "stream",
     "text": [
      "stackedensemble prediction progress: |████████████████████████████████████| 100%\n"
     ]
    }
   ],
   "source": [
    "# Get the stacking model predictions\n",
    "stacked_preds =stack.predict(test)\n",
    "stacked_preds=stacked_preds.as_data_frame()\n",
    "stacked_preds=np.exp(stacked_preds)"
   ]
  },
  {
   "cell_type": "code",
   "execution_count": 58,
   "metadata": {
    "collapsed": true
   },
   "outputs": [],
   "source": [
    "# Submission\n",
    "sub=pd.DataFrame()\n",
    "sub[\"Id\"]=stacked_preds.index+1461\n",
    "sub[\"SalePrice\"]=stacked_preds\n",
    "sub.to_csv(\"submission.csv\",index=False)"
   ]
  },
  {
   "cell_type": "markdown",
   "metadata": {
    "collapsed": true
   },
   "source": [
    "The submission is made based on the stacking model. The final Kaggle score is: 0.12379, top 23% on the public LB."
   ]
  }
 ],
 "metadata": {
  "kernelspec": {
   "display_name": "Python 3",
   "language": "python",
   "name": "python3"
  },
  "language_info": {
   "codemirror_mode": {
    "name": "ipython",
    "version": 3
   },
   "file_extension": ".py",
   "mimetype": "text/x-python",
   "name": "python",
   "nbconvert_exporter": "python",
   "pygments_lexer": "ipython3",
   "version": "3.6.1"
  }
 },
 "nbformat": 4,
 "nbformat_minor": 2
}
